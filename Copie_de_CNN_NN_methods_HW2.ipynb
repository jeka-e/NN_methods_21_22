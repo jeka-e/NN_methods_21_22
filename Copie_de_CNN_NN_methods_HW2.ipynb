{
  "nbformat": 4,
  "nbformat_minor": 0,
  "metadata": {
    "colab": {
      "name": "Copie de CNN_NN_methods_HW2.ipynb",
      "provenance": [],
      "collapsed_sections": [
        "WULar9AyrQ4d",
        "vN4tC8BLEpgv"
      ]
    },
    "kernelspec": {
      "name": "python3",
      "display_name": "Python 3"
    },
    "language_info": {
      "name": "python"
    },
    "accelerator": "GPU"
  },
  "cells": [
    {
      "cell_type": "code",
      "metadata": {
        "colab": {
          "base_uri": "https://localhost:8080/"
        },
        "id": "7_nwfS7ccWwj",
        "outputId": "7bf65fbd-eefe-4ed6-c391-93f51fcd1fa6"
      },
      "source": [
        "!pip install torchmetrics\n"
      ],
      "execution_count": 1,
      "outputs": [
        {
          "output_type": "stream",
          "name": "stdout",
          "text": [
            "Collecting torchmetrics\n",
            "  Downloading torchmetrics-0.6.1-py3-none-any.whl (332 kB)\n",
            "\u001b[?25l\r\u001b[K     |█                               | 10 kB 25.5 MB/s eta 0:00:01\r\u001b[K     |██                              | 20 kB 27.4 MB/s eta 0:00:01\r\u001b[K     |███                             | 30 kB 19.9 MB/s eta 0:00:01\r\u001b[K     |████                            | 40 kB 16.2 MB/s eta 0:00:01\r\u001b[K     |█████                           | 51 kB 13.8 MB/s eta 0:00:01\r\u001b[K     |██████                          | 61 kB 12.6 MB/s eta 0:00:01\r\u001b[K     |███████                         | 71 kB 11.8 MB/s eta 0:00:01\r\u001b[K     |███████▉                        | 81 kB 12.9 MB/s eta 0:00:01\r\u001b[K     |████████▉                       | 92 kB 13.5 MB/s eta 0:00:01\r\u001b[K     |█████████▉                      | 102 kB 11.1 MB/s eta 0:00:01\r\u001b[K     |██████████▉                     | 112 kB 11.1 MB/s eta 0:00:01\r\u001b[K     |███████████▉                    | 122 kB 11.1 MB/s eta 0:00:01\r\u001b[K     |████████████▉                   | 133 kB 11.1 MB/s eta 0:00:01\r\u001b[K     |█████████████▉                  | 143 kB 11.1 MB/s eta 0:00:01\r\u001b[K     |██████████████▉                 | 153 kB 11.1 MB/s eta 0:00:01\r\u001b[K     |███████████████▊                | 163 kB 11.1 MB/s eta 0:00:01\r\u001b[K     |████████████████▊               | 174 kB 11.1 MB/s eta 0:00:01\r\u001b[K     |█████████████████▊              | 184 kB 11.1 MB/s eta 0:00:01\r\u001b[K     |██████████████████▊             | 194 kB 11.1 MB/s eta 0:00:01\r\u001b[K     |███████████████████▊            | 204 kB 11.1 MB/s eta 0:00:01\r\u001b[K     |████████████████████▊           | 215 kB 11.1 MB/s eta 0:00:01\r\u001b[K     |█████████████████████▊          | 225 kB 11.1 MB/s eta 0:00:01\r\u001b[K     |██████████████████████▊         | 235 kB 11.1 MB/s eta 0:00:01\r\u001b[K     |███████████████████████▋        | 245 kB 11.1 MB/s eta 0:00:01\r\u001b[K     |████████████████████████▋       | 256 kB 11.1 MB/s eta 0:00:01\r\u001b[K     |█████████████████████████▋      | 266 kB 11.1 MB/s eta 0:00:01\r\u001b[K     |██████████████████████████▋     | 276 kB 11.1 MB/s eta 0:00:01\r\u001b[K     |███████████████████████████▋    | 286 kB 11.1 MB/s eta 0:00:01\r\u001b[K     |████████████████████████████▋   | 296 kB 11.1 MB/s eta 0:00:01\r\u001b[K     |█████████████████████████████▋  | 307 kB 11.1 MB/s eta 0:00:01\r\u001b[K     |██████████████████████████████▌ | 317 kB 11.1 MB/s eta 0:00:01\r\u001b[K     |███████████████████████████████▌| 327 kB 11.1 MB/s eta 0:00:01\r\u001b[K     |████████████████████████████████| 332 kB 11.1 MB/s \n",
            "\u001b[?25hRequirement already satisfied: packaging in /usr/local/lib/python3.7/dist-packages (from torchmetrics) (21.3)\n",
            "Requirement already satisfied: torch>=1.3.1 in /usr/local/lib/python3.7/dist-packages (from torchmetrics) (1.10.0+cu111)\n",
            "Requirement already satisfied: numpy>=1.17.2 in /usr/local/lib/python3.7/dist-packages (from torchmetrics) (1.19.5)\n",
            "Requirement already satisfied: typing-extensions in /usr/local/lib/python3.7/dist-packages (from torch>=1.3.1->torchmetrics) (3.10.0.2)\n",
            "Requirement already satisfied: pyparsing!=3.0.5,>=2.0.2 in /usr/local/lib/python3.7/dist-packages (from packaging->torchmetrics) (3.0.6)\n",
            "Installing collected packages: torchmetrics\n",
            "Successfully installed torchmetrics-0.6.1\n"
          ]
        }
      ]
    },
    {
      "cell_type": "code",
      "metadata": {
        "id": "OnD8B_OwdT3x"
      },
      "source": [
        "import pandas as pd\n",
        "import numpy as np\n",
        "from string import punctuation\n",
        "from collections import Counter\n",
        "\n",
        "from sklearn.model_selection import train_test_split\n",
        "from sklearn.utils import shuffle\n",
        "import torch\n",
        "import torch.nn as nn\n",
        "import torch.nn.functional as F\n",
        "from torch.utils.data import Dataset, DataLoader, RandomSampler, SequentialSampler\n",
        "from torch.nn.utils.rnn import pad_sequence\n",
        "import torch.optim as optim\n",
        "from torchmetrics import F1\n",
        "from torchmetrics.functional import accuracy, precision, recall"
      ],
      "execution_count": 2,
      "outputs": []
    },
    {
      "cell_type": "markdown",
      "metadata": {
        "id": "WULar9AyrQ4d"
      },
      "source": [
        "##Загружаем и препроцессим дату"
      ]
    },
    {
      "cell_type": "code",
      "source": [
        "from google.colab import drive\n",
        "drive.mount('/content/drive')"
      ],
      "metadata": {
        "id": "Q20hf7eCcm8p",
        "outputId": "303234c6-5da5-4440-b90a-6f8c985ad6e2",
        "colab": {
          "base_uri": "https://localhost:8080/"
        }
      },
      "execution_count": 3,
      "outputs": [
        {
          "output_type": "stream",
          "name": "stdout",
          "text": [
            "Mounted at /content/drive\n"
          ]
        }
      ]
    },
    {
      "cell_type": "code",
      "metadata": {
        "id": "ItJYHTSkdexm"
      },
      "source": [
        "data_pos = pd.read_csv('/content/drive/MyDrive/nn_methods_data/positive.csv', encoding='utf-8', sep=';', header=None)\n",
        "data_neg = pd.read_csv('/content/drive/MyDrive/nn_methods_data/negative.csv', encoding='utf-8', sep=';', header=None)\n",
        "\n",
        "data_pos['value'] = [1 for i in range(len(data_pos))]\n",
        "data_neg['value'] = [0 for i in range(len(data_neg))]\n",
        "\n",
        "data = pd.concat([data_pos, data_neg])\n",
        "\n",
        "data = data.drop(columns=[col for col in data.columns if col != 3 and col != 'value'])\n",
        "data = data.rename(columns={3: 'text'})\n",
        "\n"
      ],
      "execution_count": 4,
      "outputs": []
    },
    {
      "cell_type": "code",
      "metadata": {
        "colab": {
          "base_uri": "https://localhost:8080/",
          "height": 205
        },
        "id": "AiQjX7t6jLzf",
        "outputId": "2b72b9de-4362-463e-e1c1-1d692dbd4310"
      },
      "source": [
        "data.head()"
      ],
      "execution_count": 5,
      "outputs": [
        {
          "output_type": "execute_result",
          "data": {
            "text/html": [
              "<div>\n",
              "<style scoped>\n",
              "    .dataframe tbody tr th:only-of-type {\n",
              "        vertical-align: middle;\n",
              "    }\n",
              "\n",
              "    .dataframe tbody tr th {\n",
              "        vertical-align: top;\n",
              "    }\n",
              "\n",
              "    .dataframe thead th {\n",
              "        text-align: right;\n",
              "    }\n",
              "</style>\n",
              "<table border=\"1\" class=\"dataframe\">\n",
              "  <thead>\n",
              "    <tr style=\"text-align: right;\">\n",
              "      <th></th>\n",
              "      <th>text</th>\n",
              "      <th>value</th>\n",
              "    </tr>\n",
              "  </thead>\n",
              "  <tbody>\n",
              "    <tr>\n",
              "      <th>0</th>\n",
              "      <td>@first_timee хоть я и школота, но поверь, у на...</td>\n",
              "      <td>1</td>\n",
              "    </tr>\n",
              "    <tr>\n",
              "      <th>1</th>\n",
              "      <td>Да, все-таки он немного похож на него. Но мой ...</td>\n",
              "      <td>1</td>\n",
              "    </tr>\n",
              "    <tr>\n",
              "      <th>2</th>\n",
              "      <td>RT @KatiaCheh: Ну ты идиотка) я испугалась за ...</td>\n",
              "      <td>1</td>\n",
              "    </tr>\n",
              "    <tr>\n",
              "      <th>3</th>\n",
              "      <td>RT @digger2912: \"Кто то в углу сидит и погибае...</td>\n",
              "      <td>1</td>\n",
              "    </tr>\n",
              "    <tr>\n",
              "      <th>4</th>\n",
              "      <td>@irina_dyshkant Вот что значит страшилка :D\\nН...</td>\n",
              "      <td>1</td>\n",
              "    </tr>\n",
              "  </tbody>\n",
              "</table>\n",
              "</div>"
            ],
            "text/plain": [
              "                                                text  value\n",
              "0  @first_timee хоть я и школота, но поверь, у на...      1\n",
              "1  Да, все-таки он немного похож на него. Но мой ...      1\n",
              "2  RT @KatiaCheh: Ну ты идиотка) я испугалась за ...      1\n",
              "3  RT @digger2912: \"Кто то в углу сидит и погибае...      1\n",
              "4  @irina_dyshkant Вот что значит страшилка :D\\nН...      1"
            ]
          },
          "metadata": {},
          "execution_count": 5
        }
      ]
    },
    {
      "cell_type": "code",
      "metadata": {
        "id": "Qgrm3PYNo9q0"
      },
      "source": [
        "def preprocess(text):\n",
        "    tokens = text.lower().split()\n",
        "    tokens = ' '.join([token.strip(punctuation) for token in tokens])\n",
        "    return tokens\n",
        "\n"
      ],
      "execution_count": 6,
      "outputs": []
    },
    {
      "cell_type": "code",
      "metadata": {
        "id": "DSQbMc8Uj7sn"
      },
      "source": [
        "data['text'] = data['text'].apply(preprocess)"
      ],
      "execution_count": 7,
      "outputs": []
    },
    {
      "cell_type": "code",
      "metadata": {
        "colab": {
          "base_uri": "https://localhost:8080/",
          "height": 205
        },
        "id": "JK5fXMpfd8Vd",
        "outputId": "54230069-ee34-4528-a9c9-32158c641a82"
      },
      "source": [
        "train_data, test_data = train_test_split(data, test_size=0.2, random_state=42)\n",
        "train_data.head()"
      ],
      "execution_count": 8,
      "outputs": [
        {
          "output_type": "execute_result",
          "data": {
            "text/html": [
              "<div>\n",
              "<style scoped>\n",
              "    .dataframe tbody tr th:only-of-type {\n",
              "        vertical-align: middle;\n",
              "    }\n",
              "\n",
              "    .dataframe tbody tr th {\n",
              "        vertical-align: top;\n",
              "    }\n",
              "\n",
              "    .dataframe thead th {\n",
              "        text-align: right;\n",
              "    }\n",
              "</style>\n",
              "<table border=\"1\" class=\"dataframe\">\n",
              "  <thead>\n",
              "    <tr style=\"text-align: right;\">\n",
              "      <th></th>\n",
              "      <th>text</th>\n",
              "      <th>value</th>\n",
              "    </tr>\n",
              "  </thead>\n",
              "  <tbody>\n",
              "    <tr>\n",
              "      <th>107097</th>\n",
              "      <td>немного выпьем говорил он ничего не будет гово...</td>\n",
              "      <td>1</td>\n",
              "    </tr>\n",
              "    <tr>\n",
              "      <th>109252</th>\n",
              "      <td>я по твоему общению и шуткам соскучилась че-то...</td>\n",
              "      <td>0</td>\n",
              "    </tr>\n",
              "    <tr>\n",
              "      <th>63992</th>\n",
              "      <td>sergey_mladshiy ахахаахх....как ты мою собаку ...</td>\n",
              "      <td>1</td>\n",
              "    </tr>\n",
              "    <tr>\n",
              "      <th>108549</th>\n",
              "      <td>dasha_0305 daria2709 лично мне,было вообще по ...</td>\n",
              "      <td>1</td>\n",
              "    </tr>\n",
              "    <tr>\n",
              "      <th>67962</th>\n",
              "      <td>наташа реальный китаец пишет что не хера не по...</td>\n",
              "      <td>1</td>\n",
              "    </tr>\n",
              "  </tbody>\n",
              "</table>\n",
              "</div>"
            ],
            "text/plain": [
              "                                                     text  value\n",
              "107097  немного выпьем говорил он ничего не будет гово...      1\n",
              "109252  я по твоему общению и шуткам соскучилась че-то...      0\n",
              "63992   sergey_mladshiy ахахаахх....как ты мою собаку ...      1\n",
              "108549  dasha_0305 daria2709 лично мне,было вообще по ...      1\n",
              "67962   наташа реальный китаец пишет что не хера не по...      1"
            ]
          },
          "metadata": {},
          "execution_count": 8
        }
      ]
    },
    {
      "cell_type": "code",
      "metadata": {
        "colab": {
          "base_uri": "https://localhost:8080/"
        },
        "id": "1pQCK205lk0_",
        "outputId": "fb7c6f98-c766-46cd-b490-1dfa0b89f8ad"
      },
      "source": [
        "vocab = Counter()\n",
        "\n",
        "for text in data['text']:\n",
        "    vocab.update(text.split())\n",
        "\n",
        "filtered_vocab = set()\n",
        "\n",
        "for word in vocab:\n",
        "    if vocab[word] > 2:\n",
        "        filtered_vocab.add(word)\n",
        "print('уникальных токенов, втретившихся больше 2 раз:', len(filtered_vocab))"
      ],
      "execution_count": 9,
      "outputs": [
        {
          "output_type": "stream",
          "name": "stdout",
          "text": [
            "уникальных токенов, втретившихся больше 2 раз: 64422\n"
          ]
        }
      ]
    },
    {
      "cell_type": "code",
      "metadata": {
        "id": "ivXOVYKnnyIF"
      },
      "source": [
        "word2id = {'PAD':0}\n",
        "\n",
        "for word in filtered_vocab:\n",
        "    word2id[word] = len(word2id)\n",
        "\n",
        "id2word = {i:word for word, i in word2id.items()}"
      ],
      "execution_count": 10,
      "outputs": []
    },
    {
      "cell_type": "code",
      "metadata": {
        "colab": {
          "base_uri": "https://localhost:8080/"
        },
        "id": "VqDzlnmPrNqC",
        "outputId": "85633b90-1670-43bc-c30d-a3a9781715c1"
      },
      "source": [
        "DEVICE = torch.device('cuda') if torch.cuda.is_available() else torch.device('cpu')\n",
        "DEVICE"
      ],
      "execution_count": 11,
      "outputs": [
        {
          "output_type": "execute_result",
          "data": {
            "text/plain": [
              "device(type='cuda')"
            ]
          },
          "metadata": {},
          "execution_count": 11
        }
      ]
    },
    {
      "cell_type": "markdown",
      "metadata": {
        "id": "vN4tC8BLEpgv"
      },
      "source": [
        "##Датасеты и даталоадеры для 1 модели\n"
      ]
    },
    {
      "cell_type": "code",
      "metadata": {
        "id": "IESOiN42Ekwn"
      },
      "source": [
        "class DataDataset(Dataset):\n",
        "\n",
        "    def __init__(self, dataset, word2id, DEVICE):\n",
        "        self.dataset = dataset['text'].values\n",
        "        self.word2id = word2id\n",
        "        self.length = dataset.shape[0]\n",
        "        self.target = dataset['value'].values\n",
        "        self.device = DEVICE\n",
        "\n",
        "    def __len__(self):\n",
        "        return self.length\n",
        "\n",
        "    def __getitem__(self, index): \n",
        "        words = self.dataset[index]\n",
        "        ids = torch.LongTensor([self.word2id[word] for word in words.split() if word in self.word2id])\n",
        "        y = [self.target[index]]\n",
        "        return ids, y\n",
        "\n",
        "    def collate_fn(self, batch):\n",
        "        ids, y = list(zip(*batch))\n",
        "        padded_ids = pad_sequence(ids, batch_first=True).to(self.device)\n",
        "        y = torch.Tensor(y).to(self.device)\n",
        "        return padded_ids, y"
      ],
      "execution_count": null,
      "outputs": []
    },
    {
      "cell_type": "code",
      "metadata": {
        "colab": {
          "base_uri": "https://localhost:8080/"
        },
        "id": "sbexvYd0JMM_",
        "outputId": "86dc3d9d-e9bb-490e-8260-7cfdcc340fbc"
      },
      "source": [
        "train_dataset = DataDataset(train_data, word2id, DEVICE)\n",
        "train_sampler = RandomSampler(train_dataset)\n",
        "train_iterator = DataLoader(train_dataset, collate_fn = train_dataset.collate_fn, sampler=train_sampler, batch_size=1024)\n",
        "\n",
        "batch = next(iter(train_iterator))\n",
        "batch[0].shape"
      ],
      "execution_count": null,
      "outputs": [
        {
          "output_type": "execute_result",
          "data": {
            "text/plain": [
              "torch.Size([1024, 28])"
            ]
          },
          "metadata": {},
          "execution_count": 114
        }
      ]
    },
    {
      "cell_type": "code",
      "metadata": {
        "colab": {
          "base_uri": "https://localhost:8080/"
        },
        "id": "2dQWeZAsHVq-",
        "outputId": "f64d04ff-bf55-4b7c-bbc3-234ccbb1dfe4"
      },
      "source": [
        "test_dataset = DataDataset(test_data, word2id, DEVICE)\n",
        "test_sampler = SequentialSampler(test_dataset)\n",
        "test_iterator = DataLoader(test_dataset, collate_fn = test_dataset.collate_fn, sampler=test_sampler, batch_size=1024)\n",
        "\n",
        "test_batch = next(iter(test_iterator))\n",
        "test_batch[0].shape"
      ],
      "execution_count": null,
      "outputs": [
        {
          "output_type": "execute_result",
          "data": {
            "text/plain": [
              "torch.Size([1024, 25])"
            ]
          },
          "metadata": {},
          "execution_count": 115
        }
      ]
    },
    {
      "cell_type": "markdown",
      "metadata": {
        "id": "HnKCb9s1SORc"
      },
      "source": [
        "##Модель 1, эмбеддинг слой внутри модели"
      ]
    },
    {
      "cell_type": "code",
      "metadata": {
        "id": "l9vZcFkaLRjW"
      },
      "source": [
        "class CNN(nn.Module):\n",
        "    \n",
        "    def __init__(self, vocab_size, embedding_dim):\n",
        "        super().__init__()\n",
        "        self.embedding = nn.Embedding(vocab_size, embedding_dim) #эмбеддинг слой, embed_dim -  корень из вокаб_сайз\n",
        "\n",
        "        self.bigrams = nn.Conv1d(in_channels=embedding_dim, out_channels=100, kernel_size=2, padding='same') #свертки с разным окном\n",
        "        self.trigrams = nn.Conv1d(in_channels=embedding_dim, out_channels=80, kernel_size=3, padding='same')\n",
        "        self.conv = nn.Conv1d(in_channels=180, out_channels=100, kernel_size=3, padding='same')\n",
        "\n",
        "        self.relu = nn.ReLU()\n",
        "        self.hidden = nn.Linear(in_features=100, out_features=1)\n",
        "        self.dropout = nn.Dropout(p=0.5)\n",
        "        self.out = nn.Sigmoid()\n",
        "\n",
        "    def forward(self, word):\n",
        "        #batch_size x seq_len   1024 23\n",
        "        embedded = self.embedding(word)\n",
        "        #batch_size x seq_len x embedding_dim  1024 23 embedding_dim (256)\n",
        "        embedded = embedded.transpose(1,2)\n",
        "        #batch_size x embedding_dim x seq_len  1024 256 23\n",
        "\n",
        "        conv2 = self.relu(self.bigrams(embedded))\n",
        "        #batch_size x out_channels x seq_len  1024 100 23\n",
        "        conv3 = self.relu(self.trigrams(embedded))\n",
        "        #batch_size x out_channels x seq_len  1024 80 23\n",
        "\n",
        "        concat = torch.cat((conv2, conv3), 1)\n",
        "        #batch_size x (out_channels+out_channels) x seq_len  1024 180 23\n",
        "\n",
        "        conv_over_concat = self.relu(self.conv(concat))\n",
        "        #batch_size x out_channels x seq_len  1024 100 23\n",
        "\n",
        "        pooling_over_time = conv_over_concat.max(2)[0] \n",
        "        #batch_size x out_channels 1024 100\n",
        "\n",
        "        logits = self.hidden(pooling_over_time) \n",
        "        logits = self.out(logits)      \n",
        "        return logits"
      ],
      "execution_count": null,
      "outputs": []
    },
    {
      "cell_type": "code",
      "metadata": {
        "id": "iwLfeqjcbcT1"
      },
      "source": [
        "def train(model, iterator, optimizer, criterion):\n",
        "    epoch_loss = 0 # для подсчета среднего лосса на всех батчах\n",
        "\n",
        "    model.train()  # ставим модель в обучение, явно указываем, что сейчас надо будет хранить градиенты у всех весов\n",
        "\n",
        "    for i, (texts, ys) in enumerate(iterator): #итерируемся по батчам\n",
        "        optimizer.zero_grad()  #обнуляем градиенты\n",
        "        preds = model(texts)  #прогоняем данные через модель\n",
        "        loss = criterion(preds, ys) #считаем значение функции потерь  \n",
        "        loss.backward() #считаем градиенты  \n",
        "        optimizer.step() #обновляем веса \n",
        "        epoch_loss += loss.item() #сохраняем значение функции потерь\n",
        "    print(f'Train loss: {epoch_loss/ (len(iterator))}')      \n",
        "    return  epoch_loss / len(iterator) # возвращаем среднее значение лосса по всей выборке"
      ],
      "execution_count": null,
      "outputs": []
    },
    {
      "cell_type": "code",
      "metadata": {
        "id": "LHnH7w5GWw5B"
      },
      "source": [
        "def evaluate(model, iterator, criterion):\n",
        "    epoch_loss = 0\n",
        "    epoch_accuracy = 0\n",
        "    epoch_precision = 0\n",
        "    epoch_recall = 0\n",
        "    model.eval() \n",
        "    with torch.no_grad():\n",
        "        for i, (texts, ys) in enumerate(iterator):   \n",
        "            preds = model(texts)  # делаем предсказания на тесте\n",
        "            loss = criterion(preds, ys)   # считаем значения функции ошибки для статистики  \n",
        "            epoch_loss += loss.item()\n",
        "            batch_accuracy = accuracy(preds.round().long(), ys.long(), ignore_index=0)\n",
        "            batch_precision = precision(preds.round().long(), ys.long(), ignore_index=0)\n",
        "            batch_recall = recall(preds.round().long(), ys.long(), ignore_index=0)\n",
        "\n",
        "            epoch_accuracy += batch_accuracy\n",
        "            epoch_precision += batch_precision\n",
        "            epoch_recall += batch_recall\n",
        "        print(f'Val loss: {epoch_loss / (i + 1)}, Val Accuracy: {epoch_accuracy / (i + 1)}, Val Precision: {epoch_precision / (i + 1)}, Val Recall: {epoch_recall / (i + 1)}')\n",
        "        \n",
        "    return epoch_accuracy / len(iterator), epoch_precision / len(iterator), epoch_recall / len(iterator), epoch_loss / len(iterator) # возвращаем среднее значение по всей выборке"
      ],
      "execution_count": null,
      "outputs": []
    },
    {
      "cell_type": "code",
      "metadata": {
        "id": "op4FoNQ2WynX"
      },
      "source": [
        "EMBED_SIZE = 8 \n",
        "model = CNN(len(word2id), EMBED_SIZE)\n",
        "optimizer = optim.Adam(model.parameters(), lr=0.0005)\n",
        "criterion = nn.BCELoss()  \n",
        "\n",
        "# веса модели и значения лосса храним там же, где и все остальные тензоры\n",
        "model = model.to(DEVICE)\n",
        "criterion = criterion.to(DEVICE)"
      ],
      "execution_count": null,
      "outputs": []
    },
    {
      "cell_type": "code",
      "metadata": {
        "id": "KUvOde5WW5yO"
      },
      "source": [
        "def loop(epoch, model, train_iterator, test_iterator, optimizer, criterion):\n",
        "    losses = []\n",
        "    losses_eval = []\n",
        "    acc = []\n",
        "    acc_eval = []\n",
        "\n",
        "    for i in range(epoch):\n",
        "        print(f'\\nstarting Epoch {i}')\n",
        "        print('Training...')\n",
        "        epoch_loss = train(model, train_iterator, optimizer, criterion)\n",
        "        losses.append(epoch_loss)\n",
        "        print('\\nEvaluating on train...')\n",
        "        acc_on_train, pr_on_train, rec_on_train, _ = evaluate(model, train_iterator, criterion)\n",
        "        acc.append(acc_on_train)\n",
        "        print('\\nEvaluating on test...')\n",
        "        acc_on_test, pr_on_test, rec_on_test, epoch_loss_on_test = evaluate(model, test_iterator, criterion)\n",
        "        losses_eval.append(epoch_loss_on_test)\n",
        "        acc_eval.append(acc_on_test)\n",
        "    return losses, losses_eval, acc, acc_eval, model"
      ],
      "execution_count": null,
      "outputs": []
    },
    {
      "cell_type": "code",
      "metadata": {
        "id": "vbOEuYI4MvXG",
        "outputId": "909c250c-8689-4de9-8ec6-2f0bb9a9b2a3",
        "colab": {
          "base_uri": "https://localhost:8080/"
        }
      },
      "source": [
        "epoches = 15\n",
        "losses, losses_eval, acc, acc_eval, model = loop(epoches, model, train_iterator, test_iterator, optimizer, criterion)"
      ],
      "execution_count": null,
      "outputs": [
        {
          "output_type": "stream",
          "name": "stdout",
          "text": [
            "\n",
            "starting Epoch 0\n",
            "Training...\n",
            "Train loss: 0.6716861460316047\n",
            "\n",
            "Evaluating on train...\n",
            "Val loss: 0.6523132478253225, Val Accuracy: 0.6115415692329407, Val Precision: 0.6218485236167908, Val Recall: 0.6115415692329407\n",
            "\n",
            "Evaluating on test...\n",
            "Val loss: 0.6552579482396443, Val Accuracy: 0.6023300886154175, Val Precision: 0.6160098314285278, Val Recall: 0.6023300886154175\n",
            "\n",
            "starting Epoch 1\n",
            "Training...\n",
            "Train loss: 0.6422294766715403\n",
            "\n",
            "Evaluating on train...\n",
            "Val loss: 0.6272070314107316, Val Accuracy: 0.7173596024513245, Val Precision: 0.6277834177017212, Val Recall: 0.7173596024513245\n",
            "\n",
            "Evaluating on test...\n",
            "Val loss: 0.6351812415652804, Val Accuracy: 0.7047449350357056, Val Precision: 0.6170549988746643, Val Recall: 0.7047449350357056\n",
            "\n",
            "starting Epoch 2\n",
            "Training...\n",
            "Train loss: 0.6197440513734067\n",
            "\n",
            "Evaluating on train...\n",
            "Val loss: 0.6059984243317936, Val Accuracy: 0.735859215259552, Val Precision: 0.645725667476654, Val Recall: 0.735859215259552\n",
            "\n",
            "Evaluating on test...\n",
            "Val loss: 0.6193417376942105, Val Accuracy: 0.7187832593917847, Val Precision: 0.6307436227798462, Val Recall: 0.7187832593917847\n",
            "\n",
            "starting Epoch 3\n",
            "Training...\n",
            "Train loss: 0.5985659933492039\n",
            "\n",
            "Evaluating on train...\n",
            "Val loss: 0.5843641128432885, Val Accuracy: 0.6496812105178833, Val Precision: 0.7002997994422913, Val Recall: 0.6496812105178833\n",
            "\n",
            "Evaluating on test...\n",
            "Val loss: 0.6043544001049466, Val Accuracy: 0.6252263784408569, Val Precision: 0.6761882901191711, Val Recall: 0.6252263784408569\n",
            "\n",
            "starting Epoch 4\n",
            "Training...\n",
            "Train loss: 0.5803865860687213\n",
            "\n",
            "Evaluating on train...\n",
            "Val loss: 0.5668868228290858, Val Accuracy: 0.6416953802108765, Val Precision: 0.7284344434738159, Val Recall: 0.6416953802108765\n",
            "\n",
            "Evaluating on test...\n",
            "Val loss: 0.5938645866182115, Val Accuracy: 0.610845685005188, Val Precision: 0.6973348259925842, Val Recall: 0.610845685005188\n",
            "\n",
            "starting Epoch 5\n",
            "Training...\n",
            "Train loss: 0.5623500698737884\n",
            "\n",
            "Evaluating on train...\n",
            "Val loss: 0.5491516914930237, Val Accuracy: 0.7526229619979858, Val Precision: 0.7023007869720459, Val Recall: 0.7526229619979858\n",
            "\n",
            "Evaluating on test...\n",
            "Val loss: 0.5836789766947429, Val Accuracy: 0.7190362811088562, Val Precision: 0.6703503727912903, Val Recall: 0.7190362811088562\n",
            "\n",
            "starting Epoch 6\n",
            "Training...\n",
            "Train loss: 0.5454060652952516\n",
            "\n",
            "Evaluating on train...\n",
            "Val loss: 0.5311033732435676, Val Accuracy: 0.7159941792488098, Val Precision: 0.7379655241966248, Val Recall: 0.7159941792488098\n",
            "\n",
            "Evaluating on test...\n",
            "Val loss: 0.5739341841803657, Val Accuracy: 0.6742213368415833, Val Precision: 0.6982492208480835, Val Recall: 0.6742213368415833\n",
            "\n",
            "starting Epoch 7\n",
            "Training...\n",
            "Train loss: 0.5303586252619711\n",
            "\n",
            "Evaluating on train...\n",
            "Val loss: 0.515793212678995, Val Accuracy: 0.7539881467819214, Val Precision: 0.7363425493240356, Val Recall: 0.7539881467819214\n",
            "\n",
            "Evaluating on test...\n",
            "Val loss: 0.5673449450069004, Val Accuracy: 0.7112006545066833, Val Precision: 0.6937810182571411, Val Recall: 0.7112006545066833\n",
            "\n",
            "starting Epoch 8\n",
            "Training...\n",
            "Train loss: 0.5151526253210025\n",
            "\n",
            "Evaluating on train...\n",
            "Val loss: 0.5042022242304984, Val Accuracy: 0.805225670337677, Val Precision: 0.7252782583236694, Val Recall: 0.805225670337677\n",
            "\n",
            "Evaluating on test...\n",
            "Val loss: 0.5653522478209602, Val Accuracy: 0.760311484336853, Val Precision: 0.6818282008171082, Val Recall: 0.760311484336853\n",
            "\n",
            "starting Epoch 9\n",
            "Training...\n",
            "Train loss: 0.5009705107868387\n",
            "\n",
            "Evaluating on train...\n",
            "Val loss: 0.4864887566713805, Val Accuracy: 0.7630283832550049, Val Precision: 0.7639026641845703, Val Recall: 0.7630283832550049\n",
            "\n",
            "Evaluating on test...\n",
            "Val loss: 0.5562686284383138, Val Accuracy: 0.7085310816764832, Val Precision: 0.709796667098999, Val Recall: 0.7085310816764832\n",
            "\n",
            "starting Epoch 10\n",
            "Training...\n",
            "Train loss: 0.4885634363032459\n",
            "\n",
            "Evaluating on train...\n",
            "Val loss: 0.48035179229264846, Val Accuracy: 0.8354285955429077, Val Precision: 0.7340163588523865, Val Recall: 0.8354285955429077\n",
            "\n",
            "Evaluating on test...\n",
            "Val loss: 0.5606779721048143, Val Accuracy: 0.7812957763671875, Val Precision: 0.6820780038833618, Val Recall: 0.7812957763671875\n",
            "\n",
            "starting Epoch 11\n",
            "Training...\n",
            "Train loss: 0.4750962376259686\n",
            "\n",
            "Evaluating on train...\n",
            "Val loss: 0.46405086239402216, Val Accuracy: 0.8195268511772156, Val Precision: 0.7562001943588257, Val Recall: 0.8195268511772156\n",
            "\n",
            "Evaluating on test...\n",
            "Val loss: 0.553036548031701, Val Accuracy: 0.7596575021743774, Val Precision: 0.6979928612709045, Val Recall: 0.7596575021743774\n",
            "\n",
            "starting Epoch 12\n",
            "Training...\n",
            "Train loss: 0.4649594571818127\n",
            "\n",
            "Evaluating on train...\n",
            "Val loss: 0.44910625276270877, Val Accuracy: 0.7971046566963196, Val Precision: 0.7845591902732849, Val Recall: 0.7971046566963196\n",
            "\n",
            "Evaluating on test...\n",
            "Val loss: 0.5477665079964532, Val Accuracy: 0.7292865514755249, Val Precision: 0.7165507078170776, Val Recall: 0.7292865514755249\n",
            "\n",
            "starting Epoch 13\n",
            "Training...\n",
            "Train loss: 0.4513144819589143\n",
            "\n",
            "Evaluating on train...\n",
            "Val loss: 0.4458175244626035, Val Accuracy: 0.7240977883338928, Val Precision: 0.8368850350379944, Val Recall: 0.7240977883338928\n",
            "\n",
            "Evaluating on test...\n",
            "Val loss: 0.5528585049841139, Val Accuracy: 0.6468398571014404, Val Precision: 0.7550608515739441, Val Recall: 0.6468398571014404\n",
            "\n",
            "starting Epoch 14\n",
            "Training...\n",
            "Train loss: 0.44072694507207766\n",
            "\n",
            "Evaluating on train...\n",
            "Val loss: 0.42930490933777243, Val Accuracy: 0.7640662789344788, Val Precision: 0.827168345451355, Val Recall: 0.7640662789344788\n",
            "\n",
            "Evaluating on test...\n",
            "Val loss: 0.5473691900571187, Val Accuracy: 0.6843554973602295, Val Precision: 0.7439257502555847, Val Recall: 0.6843554973602295\n"
          ]
        }
      ]
    },
    {
      "cell_type": "code",
      "metadata": {
        "id": "TGuzBGx7W8qG",
        "outputId": "497fc127-ccb8-42fb-a969-76421ed9c16d",
        "colab": {
          "base_uri": "https://localhost:8080/",
          "height": 295
        }
      },
      "source": [
        "import matplotlib.pyplot as plt\n",
        "plt.plot(losses)\n",
        "plt.plot(losses_eval)\n",
        "plt.title('BCE loss value')\n",
        "plt.ylabel('BCE loss')\n",
        "plt.xlabel('epoch')\n",
        "plt.legend(['train', 'val'], loc='upper right')\n",
        "plt.show()"
      ],
      "execution_count": null,
      "outputs": [
        {
          "output_type": "display_data",
          "data": {
            "image/png": "[encoded data removed]",
            "text/plain": [
              "<Figure size 432x288 with 1 Axes>"
            ]
          },
          "metadata": {
            "needs_background": "light"
          }
        }
      ]
    },
    {
      "cell_type": "code",
      "metadata": {
        "id": "EdyrMeFkfaNh",
        "outputId": "a26e11ca-a357-41de-de15-23aceea6196e",
        "colab": {
          "base_uri": "https://localhost:8080/",
          "height": 295
        }
      },
      "source": [
        "import matplotlib.pyplot as plt\n",
        "plt.plot(acc)\n",
        "plt.plot(acc_eval)\n",
        "plt.title('Accuracy value')\n",
        "plt.ylabel('ACcuracy value')\n",
        "plt.xlabel('epoch')\n",
        "plt.legend(['train', 'val'], loc='upper right')\n",
        "plt.show()"
      ],
      "execution_count": null,
      "outputs": [
        {
          "output_type": "display_data",
          "data": {
            "image/png": "[encoded data removed]",
            "text/plain": [
              "<Figure size 432x288 with 1 Axes>"
            ]
          },
          "metadata": {
            "needs_background": "light"
          }
        }
      ]
    },
    {
      "cell_type": "markdown",
      "metadata": {
        "id": "AIJBT6qggA2D"
      },
      "source": [
        "Видно, что модель моментально переобучается, - качество на трэине неизменно растет (модель просто запоминает паттерны), а на тесте начинает падать. "
      ]
    },
    {
      "cell_type": "markdown",
      "metadata": {
        "id": "-XE-ghHFhV-o"
      },
      "source": [
        "## Модель 1 с эмбеддинг слоем - эксперименты"
      ]
    },
    {
      "cell_type": "code",
      "metadata": {
        "id": "DfkFpVH1haZz"
      },
      "source": [
        "class CNN_exp(nn.Module):\n",
        "    \n",
        "    def __init__(self, vocab_size, embedding_dim):\n",
        "        super().__init__()\n",
        "        self.embedding = nn.Embedding(vocab_size, embedding_dim) #эмбеддинг слой, embed_dim -  корень из вокаб_сайз\n",
        "\n",
        "        self.bigrams = nn.Conv1d(in_channels=embedding_dim, out_channels=64, kernel_size=2, padding='same') #свертки с разным окном\n",
        "        self.trigrams = nn.Conv1d(in_channels=embedding_dim, out_channels=48, kernel_size=3, padding='same')\n",
        "        self.conv = nn.Conv1d(in_channels=112, out_channels=100, kernel_size=3, padding='same')\n",
        "        self.pooling = nn.MaxPool1d(kernel_size=2, stride=2)\n",
        "        self.relu = nn.ReLU()\n",
        "        self.hidden = nn.Linear(in_features=100, out_features=1)\n",
        "        self.dropout = nn.Dropout(p=0.5)\n",
        "        self.out = nn.Sigmoid()\n",
        "\n",
        "    def forward(self, word):\n",
        "        #batch_size x seq_len   1024 23\n",
        "        embedded = self.embedding(word)\n",
        "        #batch_size x seq_len x embedding_dim  1024 23 embedding_dim (256)\n",
        "        embedded = embedded.transpose(1,2)\n",
        "        #batch_size x embedding_dim x seq_len  1024 256 23\n",
        "\n",
        "        conv2 = self.dropout(self.relu(self.bigrams(embedded)))\n",
        "        #batch_size x out_channels x seq_len  1024 100 11\n",
        "        conv3 = self.dropout(self.relu(self.trigrams(embedded)))\n",
        "        #batch_size x out_channels x seq_len  1024 80 11\n",
        "\n",
        "        concat = torch.cat((conv2, conv3), 1) \n",
        "        #batch_size x (out_channels+out_channels) x seq_len  1024 180 23\n",
        "\n",
        "        conv_over_concat = self.dropout(self.relu(self.conv(concat)))\n",
        "        #batch_size x out_channels x seq_len  1024 100 23\n",
        "\n",
        "        pooling_over_time = conv_over_concat.max(2)[0] \n",
        "        #batch_size x out_channels 1024 100\n",
        "\n",
        "        logits = self.hidden(pooling_over_time) \n",
        "        logits = self.out(logits)      \n",
        "        return logits"
      ],
      "execution_count": null,
      "outputs": []
    },
    {
      "cell_type": "code",
      "metadata": {
        "id": "Cse6l_1Pi9Rx"
      },
      "source": [
        "EMBED_SIZE = 256\n",
        "model = CNN_exp(len(word2id), EMBED_SIZE)\n",
        "optimizer = optim.Adam(model.parameters(), lr=0.0005)\n",
        "criterion = nn.BCELoss()  \n",
        "\n",
        "# веса модели и значения лосса храним там же, где и все остальные тензоры\n",
        "model = model.to(DEVICE)\n",
        "criterion = criterion.to(DEVICE)"
      ],
      "execution_count": null,
      "outputs": []
    },
    {
      "cell_type": "code",
      "metadata": {
        "id": "ZQ71-ETSi9W8",
        "outputId": "d6cf1e52-d488-4fe8-b17c-46943ec6cc46",
        "colab": {
          "base_uri": "https://localhost:8080/"
        }
      },
      "source": [
        "epoches = 15\n",
        "losses, losses_eval, acc, acc_eval, model = loop(epoches, model, train_iterator, test_iterator, optimizer, criterion)"
      ],
      "execution_count": null,
      "outputs": [
        {
          "output_type": "stream",
          "name": "stdout",
          "text": [
            "\n",
            "starting Epoch 0\n",
            "Training...\n",
            "Train loss: 0.6417944126584557\n",
            "\n",
            "Evaluating on train...\n",
            "Val loss: 0.6053433418273926, Val Accuracy: 0.7327567338943481, Val Precision: 0.6634098291397095, Val Recall: 0.7327567338943481\n",
            "\n",
            "Evaluating on test...\n",
            "Val loss: 0.6097554789649116, Val Accuracy: 0.7222697138786316, Val Precision: 0.6518329977989197, Val Recall: 0.7222697138786316\n",
            "\n",
            "starting Epoch 1\n",
            "Training...\n",
            "Train loss: 0.582107909274905\n",
            "\n",
            "Evaluating on train...\n",
            "Val loss: 0.5660948321390687, Val Accuracy: 0.7391247749328613, Val Precision: 0.7193282842636108, Val Recall: 0.7391247749328613\n",
            "\n",
            "Evaluating on test...\n",
            "Val loss: 0.5775839818848504, Val Accuracy: 0.7194954752922058, Val Precision: 0.6983302235603333, Val Recall: 0.7194954752922058\n",
            "\n",
            "starting Epoch 2\n",
            "Training...\n",
            "Train loss: 0.542247894774662\n",
            "\n",
            "Evaluating on train...\n",
            "Val loss: 0.532969206571579, Val Accuracy: 0.7489508986473083, Val Precision: 0.7582015991210938, Val Recall: 0.7489508986473083\n",
            "\n",
            "Evaluating on test...\n",
            "Val loss: 0.5529609680175781, Val Accuracy: 0.7164181470870972, Val Precision: 0.7275612950325012, Val Recall: 0.7164181470870972\n",
            "\n",
            "starting Epoch 3\n",
            "Training...\n",
            "Train loss: 0.5088213273648465\n",
            "\n",
            "Evaluating on train...\n",
            "Val loss: 0.5080906284993953, Val Accuracy: 0.8302660584449768, Val Precision: 0.7467287182807922, Val Recall: 0.8302660584449768\n",
            "\n",
            "Evaluating on test...\n",
            "Val loss: 0.5377453049023946, Val Accuracy: 0.794623851776123, Val Precision: 0.7096774578094482, Val Recall: 0.794623851776123\n",
            "\n",
            "starting Epoch 4\n",
            "Training...\n",
            "Train loss: 0.4788406631919775\n",
            "\n",
            "Evaluating on train...\n",
            "Val loss: 0.47983231554540356, Val Accuracy: 0.7874965667724609, Val Precision: 0.8053265810012817, Val Recall: 0.7874965667724609\n",
            "\n",
            "Evaluating on test...\n",
            "Val loss: 0.5212626973787944, Val Accuracy: 0.734115719795227, Val Precision: 0.7549892067909241, Val Recall: 0.734115719795227\n",
            "\n",
            "starting Epoch 5\n",
            "Training...\n",
            "Train loss: 0.45322070295891065\n",
            "\n",
            "Evaluating on train...\n",
            "Val loss: 0.45689058538233296, Val Accuracy: 0.7817136645317078, Val Precision: 0.8355162739753723, Val Recall: 0.7817136645317078\n",
            "\n",
            "Evaluating on test...\n",
            "Val loss: 0.5096854832437303, Val Accuracy: 0.7158675193786621, Val Precision: 0.7720422148704529, Val Recall: 0.7158675193786621\n",
            "\n",
            "starting Epoch 6\n",
            "Training...\n",
            "Train loss: 0.4289613806464699\n",
            "\n",
            "Evaluating on train...\n",
            "Val loss: 0.43282301774185694, Val Accuracy: 0.8213185667991638, Val Precision: 0.8364537954330444, Val Recall: 0.8213185667991638\n",
            "\n",
            "Evaluating on test...\n",
            "Val loss: 0.49981859591272143, Val Accuracy: 0.7483295798301697, Val Precision: 0.7625312805175781, Val Recall: 0.7483295798301697\n",
            "\n",
            "starting Epoch 7\n",
            "Training...\n",
            "Train loss: 0.40737366910730854\n",
            "\n",
            "Evaluating on train...\n",
            "Val loss: 0.4103882902123955, Val Accuracy: 0.844679594039917, Val Precision: 0.8407166004180908, Val Recall: 0.844679594039917\n",
            "\n",
            "Evaluating on test...\n",
            "Val loss: 0.49292292727364434, Val Accuracy: 0.7629008889198303, Val Precision: 0.7587844133377075, Val Recall: 0.7629008889198303\n",
            "\n",
            "starting Epoch 8\n",
            "Training...\n",
            "Train loss: 0.387245007612732\n",
            "\n",
            "Evaluating on train...\n",
            "Val loss: 0.3973470474227091, Val Accuracy: 0.8820269107818604, Val Precision: 0.8295917510986328, Val Recall: 0.8820269107818604\n",
            "\n",
            "Evaluating on test...\n",
            "Val loss: 0.492278927564621, Val Accuracy: 0.7975505590438843, Val Precision: 0.7429485321044922, Val Recall: 0.7975505590438843\n",
            "\n",
            "starting Epoch 9\n",
            "Training...\n",
            "Train loss: 0.3691198290064094\n",
            "\n",
            "Evaluating on train...\n",
            "Val loss: 0.37506800672311463, Val Accuracy: 0.8669018745422363, Val Precision: 0.8596224784851074, Val Recall: 0.8669018745422363\n",
            "\n",
            "Evaluating on test...\n",
            "Val loss: 0.48605383435885113, Val Accuracy: 0.770510733127594, Val Precision: 0.7604694962501526, Val Recall: 0.770510733127594\n",
            "\n",
            "starting Epoch 10\n",
            "Training...\n",
            "Train loss: 0.3533812655826633\n",
            "\n",
            "Evaluating on train...\n",
            "Val loss: 0.35936963005682054, Val Accuracy: 0.8708500266075134, Val Precision: 0.8723746538162231, Val Recall: 0.8708500266075134\n",
            "\n",
            "Evaluating on test...\n",
            "Val loss: 0.4862387094232771, Val Accuracy: 0.7641820311546326, Val Precision: 0.7648667693138123, Val Recall: 0.7641820311546326\n",
            "\n",
            "starting Epoch 11\n",
            "Training...\n",
            "Train loss: 0.3370680228043138\n",
            "\n",
            "Evaluating on train...\n",
            "Val loss: 0.3368112826615237, Val Accuracy: 0.886924684047699, Val Precision: 0.8735377192497253, Val Recall: 0.886924684047699\n",
            "\n",
            "Evaluating on test...\n",
            "Val loss: 0.48915941649013095, Val Accuracy: 0.7737799286842346, Val Precision: 0.7581952810287476, Val Recall: 0.7737799286842346\n",
            "\n",
            "starting Epoch 12\n",
            "Training...\n",
            "Train loss: 0.32409559424673573\n",
            "\n",
            "Evaluating on train...\n",
            "Val loss: 0.3287983267159944, Val Accuracy: 0.8923940062522888, Val Precision: 0.882554829120636, Val Recall: 0.8923940062522888\n",
            "\n",
            "Evaluating on test...\n",
            "Val loss: 0.4921375102467007, Val Accuracy: 0.7721701860427856, Val Precision: 0.7573733925819397, Val Recall: 0.7721701860427856\n",
            "\n",
            "starting Epoch 13\n",
            "Training...\n",
            "Train loss: 0.3103324280361111\n",
            "\n",
            "Evaluating on train...\n",
            "Val loss: 0.3144999484667617, Val Accuracy: 0.8970054984092712, Val Precision: 0.8884288668632507, Val Recall: 0.8970054984092712\n",
            "\n",
            "Evaluating on test...\n",
            "Val loss: 0.49581162995762296, Val Accuracy: 0.7727395296096802, Val Precision: 0.7579110264778137, Val Recall: 0.7727395296096802\n",
            "\n",
            "starting Epoch 14\n",
            "Training...\n",
            "Train loss: 0.2980795365371061\n",
            "\n",
            "Evaluating on train...\n",
            "Val loss: 0.30063640301147204, Val Accuracy: 0.8910130858421326, Val Precision: 0.9045627117156982, Val Recall: 0.8910130858421326\n",
            "\n",
            "Evaluating on test...\n",
            "Val loss: 0.5016774310006036, Val Accuracy: 0.7544804811477661, Val Precision: 0.7642336487770081, Val Recall: 0.7544804811477661\n"
          ]
        }
      ]
    },
    {
      "cell_type": "code",
      "metadata": {
        "id": "CL_-8y5ZlQUN",
        "outputId": "19882b9d-0a04-47a0-df89-a2b52b2cc37d",
        "colab": {
          "base_uri": "https://localhost:8080/",
          "height": 295
        }
      },
      "source": [
        "import matplotlib.pyplot as plt\n",
        "plt.plot(losses)\n",
        "plt.plot(losses_eval)\n",
        "plt.title('BCE loss value')\n",
        "plt.ylabel('BCE loss')\n",
        "plt.xlabel('epoch')\n",
        "plt.legend(['train', 'val'], loc='upper right')\n",
        "plt.show()"
      ],
      "execution_count": null,
      "outputs": [
        {
          "output_type": "display_data",
          "data": {
            "image/png": "[encoded data removed]",
            "text/plain": [
              "<Figure size 432x288 with 1 Axes>"
            ]
          },
          "metadata": {
            "needs_background": "light"
          }
        }
      ]
    },
    {
      "cell_type": "code",
      "metadata": {
        "id": "1H4In5uolYln",
        "outputId": "a26b9ee1-0dac-4fce-f710-09c56eb13b70",
        "colab": {
          "base_uri": "https://localhost:8080/",
          "height": 295
        }
      },
      "source": [
        "import matplotlib.pyplot as plt\n",
        "plt.plot(acc)\n",
        "plt.plot(acc_eval)\n",
        "plt.title('Accuracy value')\n",
        "plt.ylabel('ACcuracy value')\n",
        "plt.xlabel('epoch')\n",
        "plt.legend(['train', 'val'], loc='upper right')\n",
        "plt.show()"
      ],
      "execution_count": null,
      "outputs": [
        {
          "output_type": "display_data",
          "data": {
            "image/png": "[encoded data removed]",
            "text/plain": [
              "<Figure size 432x288 with 1 Axes>"
            ]
          },
          "metadata": {
            "needs_background": "light"
          }
        }
      ]
    },
    {
      "cell_type": "markdown",
      "metadata": {
        "id": "pVQAOrDit2kD"
      },
      "source": [
        "Качество чуть выше и модель не так сильно переобучается. Я добавила дропаут слои и изменила размер эмбеддингов, а также уменьшила количество фильтров"
      ]
    },
    {
      "cell_type": "markdown",
      "metadata": {
        "id": "ky_4r7nBfa2E"
      },
      "source": [
        "## Модель 1 с предобученным эмбеддингами fasttext"
      ]
    },
    {
      "cell_type": "code",
      "metadata": {
        "id": "u4VqApU5s2vW"
      },
      "source": [
        "import gensim\n",
        "from gensim.models import KeyedVectors"
      ],
      "execution_count": 12,
      "outputs": []
    },
    {
      "cell_type": "code",
      "metadata": {
        "id": "ASd36PkLfaPy"
      },
      "source": [
        "fast_text_file = '/content/drive/MyDrive/araneum_none_fasttextcbow_300_5_2018.model'\n",
        "model_fasttext = gensim.models.KeyedVectors.load(fast_text_file)"
      ],
      "execution_count": 13,
      "outputs": []
    },
    {
      "cell_type": "code",
      "metadata": {
        "id": "D3Pacz4Vs1to"
      },
      "source": [
        "weights = np.zeros((len(word2id), 300))\n",
        "count = 0\n",
        "for word, i in word2id.items():\n",
        "    if word == 'PAD':\n",
        "        continue   \n",
        "    try:\n",
        "        weights[i] = model_fasttext[word]   \n",
        "    except:\n",
        "      count += 1\n",
        "      # oov словам сопоставляем случайный вектор\n",
        "      weights[i] = np.random.normal(0,0.1,300)"
      ],
      "execution_count": null,
      "outputs": []
    },
    {
      "cell_type": "code",
      "metadata": {
        "id": "CpiaG5eW1Qc_"
      },
      "source": [
        "class CNN_fasttext(nn.Module):\n",
        "    \n",
        "    def __init__(self, vocab_size):\n",
        "        super().__init__()\n",
        "        self.embedding = nn.Embedding(vocab_size, 300) #эмбеддинг слой, embed_dim -  корень из вокаб_сайз\n",
        "        self.embedding.from_pretrained(torch.tensor(weights), freeze=True)\n",
        "\n",
        "        self.bigrams = nn.Conv1d(in_channels=300, out_channels=64, kernel_size=2, padding='same') #свертки с разным окном\n",
        "        self.trigrams = nn.Conv1d(in_channels=300, out_channels=48, kernel_size=3, padding='same')\n",
        "        self.conv = nn.Conv1d(in_channels=112, out_channels=100, kernel_size=3, padding='same')\n",
        "\n",
        "        self.relu = nn.ReLU()\n",
        "        self.hidden = nn.Linear(in_features=100, out_features=1)\n",
        "        self.dropout = nn.Dropout(p=0.5)\n",
        "        self.out = nn.Sigmoid()\n",
        "\n",
        "    def forward(self, word):\n",
        "        #batch_size x seq_len   1024 23\n",
        "        embedded = self.embedding(word)\n",
        "        #batch_size x seq_len x embedding_dim  1024 23 embedding_dim (256)\n",
        "        embedded = embedded.transpose(1,2)\n",
        "        #batch_size x embedding_dim x seq_len  1024 256 23\n",
        "\n",
        "        conv2 = self.dropout(self.relu(self.bigrams(embedded)))\n",
        "        #batch_size x out_channels x seq_len  1024 100 11\n",
        "        conv3 = self.dropout(self.relu(self.trigrams(embedded)))\n",
        "        #batch_size x out_channels x seq_len  1024 80 11\n",
        "\n",
        "        concat = torch.cat((conv2, conv3), 1) \n",
        "        #batch_size x (out_channels+out_channels) x seq_len  1024 180 23\n",
        "\n",
        "        conv_over_concat = self.dropout(self.relu(self.conv(concat)))\n",
        "        #batch_size x out_channels x seq_len  1024 100 23\n",
        "\n",
        "        pooling_over_time = conv_over_concat.max(2)[0] \n",
        "        #batch_size x out_channels 1024 100\n",
        "\n",
        "        logits = self.hidden(pooling_over_time) \n",
        "        logits = self.out(logits)      \n",
        "        return logits"
      ],
      "execution_count": null,
      "outputs": []
    },
    {
      "cell_type": "code",
      "metadata": {
        "id": "klPJ1meb3JRv"
      },
      "source": [
        "model = CNN_fasttext(len(word2id))\n",
        "optimizer = optim.Adam(model.parameters(), lr=0.0005)\n",
        "criterion = nn.BCELoss() # Binary Cross Entropy\n",
        "\n",
        "# веса модели и значения лосса храним там же, где и все остальные тензоры\n",
        "model = model.to(DEVICE)\n",
        "criterion = criterion.to(DEVICE)"
      ],
      "execution_count": null,
      "outputs": []
    },
    {
      "cell_type": "code",
      "metadata": {
        "id": "gMEM_20v3RtE",
        "outputId": "d8386a38-7334-4ab1-f817-4f77eddd1938",
        "colab": {
          "base_uri": "https://localhost:8080/"
        }
      },
      "source": [
        "epoches = 15\n",
        "losses, losses_eval, acc, acc_eval, model = loop(epoches, model, train_iterator, test_iterator, optimizer, criterion)"
      ],
      "execution_count": null,
      "outputs": [
        {
          "output_type": "stream",
          "name": "stdout",
          "text": [
            "\n",
            "starting Epoch 0\n",
            "Training...\n",
            "Train loss: 0.6376800614126613\n",
            "\n",
            "Evaluating on train...\n",
            "Val loss: 0.5981826705209324, Val Accuracy: 0.66744065284729, Val Precision: 0.6960664391517639, Val Recall: 0.66744065284729\n",
            "\n",
            "Evaluating on test...\n",
            "Val loss: 0.602730561627282, Val Accuracy: 0.6555835604667664, Val Precision: 0.6848910450935364, Val Recall: 0.6555835604667664\n",
            "\n",
            "starting Epoch 1\n",
            "Training...\n",
            "Train loss: 0.5765018108185758\n",
            "\n",
            "Evaluating on train...\n",
            "Val loss: 0.557931271161926, Val Accuracy: 0.7122153043746948, Val Precision: 0.7418900728225708, Val Recall: 0.7122153043746948\n",
            "\n",
            "Evaluating on test...\n",
            "Val loss: 0.5703009711371527, Val Accuracy: 0.6904422640800476, Val Precision: 0.7199532389640808, Val Recall: 0.6904422640800476\n",
            "\n",
            "starting Epoch 2\n",
            "Training...\n",
            "Train loss: 0.5339657309350003\n",
            "\n",
            "Evaluating on train...\n",
            "Val loss: 0.5237477485383495, Val Accuracy: 0.7237632870674133, Val Precision: 0.7859438061714172, Val Recall: 0.7237632870674133\n",
            "\n",
            "Evaluating on test...\n",
            "Val loss: 0.5465083811018202, Val Accuracy: 0.6902264356613159, Val Precision: 0.7494814991950989, Val Recall: 0.6902264356613159\n",
            "\n",
            "starting Epoch 3\n",
            "Training...\n",
            "Train loss: 0.4999641982022296\n",
            "\n",
            "Evaluating on train...\n",
            "Val loss: 0.5003859096028832, Val Accuracy: 0.8283196687698364, Val Precision: 0.762401819229126, Val Recall: 0.8283196687698364\n",
            "\n",
            "Evaluating on test...\n",
            "Val loss: 0.5325731131765578, Val Accuracy: 0.7885521054267883, Val Precision: 0.7216494679450989, Val Recall: 0.7885521054267883\n",
            "\n",
            "starting Epoch 4\n",
            "Training...\n",
            "Train loss: 0.4686136823356821\n",
            "\n",
            "Evaluating on train...\n",
            "Val loss: 0.4691793014494221, Val Accuracy: 0.8051354885101318, Val Precision: 0.8065130114555359, Val Recall: 0.8051354885101318\n",
            "\n",
            "Evaluating on test...\n",
            "Val loss: 0.5141994807455275, Val Accuracy: 0.7514321208000183, Val Precision: 0.7546139359474182, Val Recall: 0.7514321208000183\n",
            "\n",
            "starting Epoch 5\n",
            "Training...\n",
            "Train loss: 0.44126072107406145\n",
            "\n",
            "Evaluating on train...\n",
            "Val loss: 0.4434349481644255, Val Accuracy: 0.7780143022537231, Val Precision: 0.8513497710227966, Val Recall: 0.7780143022537231\n",
            "\n",
            "Evaluating on test...\n",
            "Val loss: 0.5034467478593191, Val Accuracy: 0.7092166543006897, Val Precision: 0.782584547996521, Val Recall: 0.7092166543006897\n",
            "\n",
            "starting Epoch 6\n",
            "Training...\n",
            "Train loss: 0.417890814080667\n",
            "\n",
            "Evaluating on train...\n",
            "Val loss: 0.4203786151797584, Val Accuracy: 0.8421085476875305, Val Precision: 0.8313385248184204, Val Recall: 0.8421085476875305\n",
            "\n",
            "Evaluating on test...\n",
            "Val loss: 0.4951040267944336, Val Accuracy: 0.7666599750518799, Val Precision: 0.7555370926856995, Val Recall: 0.7666599750518799\n",
            "\n",
            "starting Epoch 7\n",
            "Training...\n",
            "Train loss: 0.3958523466011112\n",
            "\n",
            "Evaluating on train...\n",
            "Val loss: 0.398277616567826, Val Accuracy: 0.8580535054206848, Val Precision: 0.8429807424545288, Val Recall: 0.8580535054206848\n",
            "\n",
            "Evaluating on test...\n",
            "Val loss: 0.49000867605209353, Val Accuracy: 0.77203768491745, Val Precision: 0.7569862604141235, Val Recall: 0.77203768491745\n",
            "\n",
            "starting Epoch 8\n",
            "Training...\n",
            "Train loss: 0.3753655231400822\n",
            "\n",
            "Evaluating on train...\n",
            "Val loss: 0.37904302323802136, Val Accuracy: 0.8243420124053955, Val Precision: 0.8828936815261841, Val Recall: 0.8243420124053955\n",
            "\n",
            "Evaluating on test...\n",
            "Val loss: 0.48750906984011333, Val Accuracy: 0.7223570942878723, Val Precision: 0.7816380262374878, Val Recall: 0.7223570942878723\n",
            "\n",
            "starting Epoch 9\n",
            "Training...\n",
            "Train loss: 0.3574507362052296\n",
            "\n",
            "Evaluating on train...\n",
            "Val loss: 0.3638934278756045, Val Accuracy: 0.8742392063140869, Val Precision: 0.8669136166572571, Val Recall: 0.8742392063140869\n",
            "\n",
            "Evaluating on test...\n",
            "Val loss: 0.48617362843619455, Val Accuracy: 0.7694227695465088, Val Precision: 0.7620198130607605, Val Recall: 0.7694227695465088\n",
            "\n",
            "starting Epoch 10\n",
            "Training...\n",
            "Train loss: 0.3397861874840233\n",
            "\n",
            "Evaluating on train...\n",
            "Val loss: 0.34478247952595187, Val Accuracy: 0.8738223314285278, Val Precision: 0.8833766579627991, Val Recall: 0.8738223314285278\n",
            "\n",
            "Evaluating on test...\n",
            "Val loss: 0.4869491689734989, Val Accuracy: 0.7584928870201111, Val Precision: 0.7675628662109375, Val Recall: 0.7584928870201111\n",
            "\n",
            "starting Epoch 11\n",
            "Training...\n",
            "Train loss: 0.3252712625466036\n",
            "\n",
            "Evaluating on train...\n",
            "Val loss: 0.3271189730488852, Val Accuracy: 0.8748648166656494, Val Precision: 0.8969242572784424, Val Recall: 0.8748648166656494\n",
            "\n",
            "Evaluating on test...\n",
            "Val loss: 0.4895885195997026, Val Accuracy: 0.7487688064575195, Val Precision: 0.7722063660621643, Val Recall: 0.7487688064575195\n",
            "\n",
            "starting Epoch 12\n",
            "Training...\n",
            "Train loss: 0.3111494024483006\n",
            "\n",
            "Evaluating on train...\n",
            "Val loss: 0.3115563334039088, Val Accuracy: 0.883144199848175, Val Precision: 0.9027850031852722, Val Recall: 0.883144199848175\n",
            "\n",
            "Evaluating on test...\n",
            "Val loss: 0.4947271962960561, Val Accuracy: 0.7520129084587097, Val Precision: 0.7708470821380615, Val Recall: 0.7520129084587097\n",
            "\n",
            "starting Epoch 13\n",
            "Training...\n",
            "Train loss: 0.29788931417331266\n",
            "\n",
            "Evaluating on train...\n",
            "Val loss: 0.3013087832525875, Val Accuracy: 0.8832853436470032, Val Precision: 0.913280189037323, Val Recall: 0.8832853436470032\n",
            "\n",
            "Evaluating on test...\n",
            "Val loss: 0.4994026097986433, Val Accuracy: 0.7413674592971802, Val Precision: 0.7730430960655212, Val Recall: 0.7413674592971802\n",
            "\n",
            "starting Epoch 14\n",
            "Training...\n",
            "Train loss: 0.2862757621856218\n",
            "\n",
            "Evaluating on train...\n",
            "Val loss: 0.2878542026776946, Val Accuracy: 0.9011410474777222, Val Precision: 0.9110891222953796, Val Recall: 0.9011410474777222\n",
            "\n",
            "Evaluating on test...\n",
            "Val loss: 0.5092432002226511, Val Accuracy: 0.7574998736381531, Val Precision: 0.7645761370658875, Val Recall: 0.7574998736381531\n"
          ]
        }
      ]
    },
    {
      "cell_type": "code",
      "metadata": {
        "id": "Dc6jMv-qfbPC",
        "outputId": "019f1992-afaf-40a3-ba06-53ebf19aba3c",
        "colab": {
          "base_uri": "https://localhost:8080/",
          "height": 295
        }
      },
      "source": [
        "import matplotlib.pyplot as plt\n",
        "plt.plot(losses)\n",
        "plt.plot(losses_eval)\n",
        "plt.title('BCE loss value')\n",
        "plt.ylabel('BCE loss')\n",
        "plt.xlabel('epoch')\n",
        "plt.legend(['train', 'val'], loc='upper right')\n",
        "plt.show()"
      ],
      "execution_count": null,
      "outputs": [
        {
          "output_type": "display_data",
          "data": {
            "image/png": "[encoded data removed]",
            "text/plain": [
              "<Figure size 432x288 with 1 Axes>"
            ]
          },
          "metadata": {
            "needs_background": "light"
          }
        }
      ]
    },
    {
      "cell_type": "code",
      "metadata": {
        "id": "UWUJ_Ebe3kHg",
        "outputId": "313ed0a4-8367-49f1-d50c-a868b07ed7de",
        "colab": {
          "base_uri": "https://localhost:8080/",
          "height": 295
        }
      },
      "source": [
        "import matplotlib.pyplot as plt\n",
        "plt.plot(acc)\n",
        "plt.plot(acc_eval)\n",
        "plt.title('Accuracy value')\n",
        "plt.ylabel('ACcuracy value')\n",
        "plt.xlabel('epoch')\n",
        "plt.legend(['train', 'val'], loc='upper right')\n",
        "plt.show()"
      ],
      "execution_count": null,
      "outputs": [
        {
          "output_type": "display_data",
          "data": {
            "image/png": "[encoded data removed]",
            "text/plain": [
              "<Figure size 432x288 with 1 Axes>"
            ]
          },
          "metadata": {
            "needs_background": "light"
          }
        }
      ]
    },
    {
      "cell_type": "markdown",
      "metadata": {
        "id": "Ugo8X7bEHxqY"
      },
      "source": [
        "## Датасеты и даталоадеры для 2 модели\n"
      ]
    },
    {
      "cell_type": "code",
      "metadata": {
        "id": "kjTHbTU7Hwl7",
        "outputId": "427d6aac-dd51-431a-8674-c4cd5daa7343",
        "colab": {
          "base_uri": "https://localhost:8080/"
        }
      },
      "source": [
        "vocab = Counter()\n",
        "for symbol in data['text']:\n",
        "    vocab.update(list(' '.join(preprocess(symbol))))\n",
        "print('всего уникальных символов:', len(vocab))"
      ],
      "execution_count": 14,
      "outputs": [
        {
          "output_type": "stream",
          "name": "stdout",
          "text": [
            "всего уникальных символов: 381\n"
          ]
        }
      ]
    },
    {
      "cell_type": "code",
      "metadata": {
        "id": "nnRaQBVXt45-",
        "outputId": "c600d5e0-1f48-443b-b124-4c25795ae9be",
        "colab": {
          "base_uri": "https://localhost:8080/"
        }
      },
      "source": [
        "filtered_vocab = set()\n",
        "\n",
        "for symbol in vocab:\n",
        "    if vocab[symbol] > 5:\n",
        "        filtered_vocab.add(symbol)\n",
        "print('уникальных символов, втретившихся больше 5 раз:', len(filtered_vocab))"
      ],
      "execution_count": 15,
      "outputs": [
        {
          "output_type": "stream",
          "name": "stdout",
          "text": [
            "уникальных символов, втретившихся больше 5 раз: 164\n"
          ]
        }
      ]
    },
    {
      "cell_type": "code",
      "metadata": {
        "id": "CBnQym9Yt5AA"
      },
      "source": [
        "symbol2id = {'PAD':0}\n",
        "\n",
        "for symbol in filtered_vocab:\n",
        "    symbol2id[symbol] = len(symbol2id)\n",
        "\n",
        "id2symbol = {i:symbol for symbol, i in symbol2id.items()}"
      ],
      "execution_count": 16,
      "outputs": []
    },
    {
      "cell_type": "code",
      "metadata": {
        "id": "HWS9NPhxuucc"
      },
      "source": [
        "class DataDataset2(Dataset):\n",
        "\n",
        "    def __init__(self, dataset, word2id, symbol2id, DEVICE):\n",
        "        self.dataset = dataset['text'].values\n",
        "        self.word2id = word2id\n",
        "        self.symbol2id = symbol2id\n",
        "        self.length = dataset.shape[0]\n",
        "        self.target = dataset['value'].values\n",
        "        self.device = DEVICE\n",
        "\n",
        "    def __len__(self):\n",
        "        return self.length\n",
        "\n",
        "    def __getitem__(self, index): \n",
        "        words = self.dataset[index]\n",
        "        symbols = list(self.dataset[index])\n",
        "        ids_words = torch.LongTensor([self.word2id[word] for word in words.split() if word in self.word2id])\n",
        "        ids_symbols =  ids = torch.LongTensor([self.symbol2id[symbol] for symbol in symbols if symbol in self.symbol2id])\n",
        "        y = [self.target[index]]\n",
        "        return ids_words, ids_symbols, y\n",
        "\n",
        "    def collate_fn(self, batch):\n",
        "        ids_words, ids_symbols, y = list(zip(*batch))\n",
        "        padded_ids_words = pad_sequence(ids_words, batch_first=True).to(self.device)\n",
        "        padded_ids_symbols = pad_sequence(ids_symbols, batch_first=True).to(self.device)\n",
        "        y = torch.Tensor(y).to(self.device)\n",
        "        return padded_ids_words, padded_ids_symbols, y"
      ],
      "execution_count": 17,
      "outputs": []
    },
    {
      "cell_type": "code",
      "metadata": {
        "id": "qy_2HkMoAtrU",
        "outputId": "0dd42a62-b4e8-416b-8426-d0e059673a33",
        "colab": {
          "base_uri": "https://localhost:8080/"
        }
      },
      "source": [
        "train_dataset = DataDataset2(train_data, word2id, symbol2id, DEVICE)\n",
        "train_sampler = RandomSampler(train_dataset)\n",
        "train_iterator = DataLoader(train_dataset, collate_fn = train_dataset.collate_fn, sampler=train_sampler, batch_size=1024)\n",
        "\n",
        "batch = next(iter(train_iterator))\n",
        "batch[0].shape, batch[1].shape"
      ],
      "execution_count": 18,
      "outputs": [
        {
          "output_type": "execute_result",
          "data": {
            "text/plain": [
              "(torch.Size([1024, 27]), torch.Size([1024, 143]))"
            ]
          },
          "metadata": {},
          "execution_count": 18
        }
      ]
    },
    {
      "cell_type": "code",
      "metadata": {
        "id": "Ibfy4er_CPKr",
        "outputId": "38559164-e3d2-4a18-b7fd-0f534f2089d0",
        "colab": {
          "base_uri": "https://localhost:8080/"
        }
      },
      "source": [
        "test_dataset = DataDataset2(test_data, word2id, symbol2id, DEVICE)\n",
        "test_sampler = SequentialSampler(test_dataset)\n",
        "test_iterator = DataLoader(test_dataset, collate_fn = test_dataset.collate_fn, sampler=test_sampler, batch_size=1024)\n",
        "\n",
        "test_batch = next(iter(test_iterator))\n",
        "test_batch[0].shape, test_batch[1].shape"
      ],
      "execution_count": 19,
      "outputs": [
        {
          "output_type": "execute_result",
          "data": {
            "text/plain": [
              "(torch.Size([1024, 25]), torch.Size([1024, 139]))"
            ]
          },
          "metadata": {},
          "execution_count": 19
        }
      ]
    },
    {
      "cell_type": "code",
      "metadata": {
        "id": "3DIXdTl4PC0k"
      },
      "source": [
        "weights = np.zeros((len(word2id), 300))\n",
        "count = 0\n",
        "for word, i in word2id.items():\n",
        "    if word == 'PAD':\n",
        "        continue   \n",
        "    try:\n",
        "        weights[i] = model_fasttext[word]   \n",
        "    except:\n",
        "      count += 1\n",
        "      # oov словам сопоставляем случайный вектор\n",
        "      weights[i] = np.random.normal(0,0.1,300)"
      ],
      "execution_count": 20,
      "outputs": []
    },
    {
      "cell_type": "markdown",
      "metadata": {
        "id": "mhMfsfRzC0T3"
      },
      "source": [
        "## Модель 2"
      ]
    },
    {
      "cell_type": "code",
      "metadata": {
        "id": "Of7FhtlrCtr4"
      },
      "source": [
        "class CNN_words_symbols(nn.Module):\n",
        "    \n",
        "    def __init__(self, vocab_size):\n",
        "        super().__init__()\n",
        "        self.embedding_words = nn.Embedding(vocab_size, 300) #эмбеддинг слой, embed_dim -  корень из вокаб_сайз\n",
        "        self.embedding_words.from_pretrained(torch.tensor(weights), freeze=True)\n",
        "\n",
        "        self.embedding_symbols = nn.Embedding(vocab_size, 6)\n",
        "\n",
        "        self.words_layer = nn.Linear(300, 20)    \n",
        "\n",
        "        self.conv_2 = nn.Conv1d(in_channels=6, out_channels=100, kernel_size=2, padding='same') #свертки с разным окном\n",
        "        self.conv_3 = nn.Conv1d(in_channels=6, out_channels=80, kernel_size=3, padding='same')\n",
        "\n",
        "        self.relu = nn.ReLU()\n",
        "        self.hidden = nn.Linear(in_features=200, out_features=1)\n",
        "        self.dropout = nn.Dropout(p=0.5)\n",
        "        self.out = nn.Sigmoid()\n",
        "\n",
        "    def forward(self, word, symb):\n",
        "        #batch_size x seq_len   1024 23\n",
        "        embedded_words = self.embedding_words(word)   #1024  seqlen  300\n",
        "        mean_emb_sent = torch.mean(embedded_words, dim=1)   #1024 300\n",
        "        X = self.words_layer(mean_emb_sent)   #1024  128\n",
        "\n",
        "        embedded_symb = self.embedding_symbols(symb)  #1024 charlen 8\n",
        "        embedded_symb = embedded_symb.transpose(1,2)\n",
        "        #batch_size x embedding_dim x seq_len  1024 8 charlen\n",
        "\n",
        "        conv2 = self.relu(self.conv_2(embedded_symb))  #1024  64 charlen\n",
        "        conv3 = self.relu(self.conv_3(embedded_symb))    #1024  48 charlen\n",
        "\n",
        "        concat_conv = torch.cat((conv2, conv3), 1) \n",
        "        \n",
        "        #batch_size x (out_channels+out_channels) x seq_len  1024 112 23\n",
        "        pooling_over_time = concat_conv.max(2)[0] \n",
        "        #batch_size x out_channels 1024 112\n",
        "\n",
        "        concat_words_symbols = torch.cat((X, pooling_over_time), 1) #1024 240\n",
        "\n",
        "        logits = self.hidden(concat_words_symbols) \n",
        "        logits = self.out(logits)      \n",
        "        return logits"
      ],
      "execution_count": 22,
      "outputs": []
    },
    {
      "cell_type": "code",
      "metadata": {
        "id": "BVAZzTCpHwpQ"
      },
      "source": [
        "def train_2(model, iterator, optimizer, criterion):\n",
        "    epoch_loss = 0 # для подсчета среднего лосса на всех батчах\n",
        "\n",
        "    model.train()  # ставим модель в обучение, явно указываем, что сейчас надо будет хранить градиенты у всех весов\n",
        "\n",
        "    for i, (words, symbols, ys) in enumerate(iterator): #итерируемся по батчам\n",
        "        optimizer.zero_grad()  #обнуляем градиенты\n",
        "        preds = model(words, symbols)  #прогоняем данные через модель\n",
        "        loss = criterion(preds, ys) #считаем значение функции потерь  \n",
        "        loss.backward() #считаем градиенты  \n",
        "        optimizer.step() #обновляем веса \n",
        "        epoch_loss += loss.item() #сохраняем значение функции потерь\n",
        "    print(f'Train loss: {epoch_loss/ (len(iterator))}')      \n",
        "    return  epoch_loss / len(iterator) # возвращаем среднее значение лосса по всей выборке"
      ],
      "execution_count": 23,
      "outputs": []
    },
    {
      "cell_type": "code",
      "metadata": {
        "id": "4mPEDGOkbWqI"
      },
      "source": [
        "def evaluate_2(model, iterator, criterion):\n",
        "    epoch_loss = 0\n",
        "    epoch_accuracy = 0\n",
        "    epoch_precision = 0\n",
        "    epoch_recall = 0\n",
        "    model.eval() \n",
        "    with torch.no_grad():\n",
        "        for i, (words, symbols, ys) in enumerate(iterator):   \n",
        "            preds = model(words, symbols)  # делаем предсказания на тесте\n",
        "            loss = criterion(preds, ys)   # считаем значения функции ошибки для статистики  \n",
        "            epoch_loss += loss.item()\n",
        "            batch_accuracy = accuracy(preds.round().long(), ys.long(), ignore_index=0)\n",
        "            batch_precision = precision(preds.round().long(), ys.long(), ignore_index=0)\n",
        "            batch_recall = recall(preds.round().long(), ys.long(), ignore_index=0)\n",
        "\n",
        "            epoch_accuracy += batch_accuracy\n",
        "            epoch_precision += batch_precision\n",
        "            epoch_recall += batch_recall\n",
        "        print(f'Val loss: {epoch_loss / (i + 1)}, Val Accuracy: {epoch_accuracy / (i + 1)}, Val Precision: {epoch_precision / (i + 1)}, Val Recall: {epoch_recall / (i + 1)}')\n",
        "        \n",
        "    return epoch_accuracy / len(iterator), epoch_precision / len(iterator), epoch_recall / len(iterator), epoch_loss / len(iterator) # возвращаем среднее значение по всей выборке"
      ],
      "execution_count": 24,
      "outputs": []
    },
    {
      "cell_type": "code",
      "metadata": {
        "id": "T3dyKql9b5hQ"
      },
      "source": [
        "def loop_2(epoch, model, train_iterator, test_iterator, optimizer, criterion, scheduler=None):\n",
        "    losses = []\n",
        "    losses_eval = []\n",
        "    acc = []\n",
        "    acc_eval = []\n",
        "\n",
        "    for i in range(epoch):\n",
        "        print(f'\\nstarting Epoch {i}')\n",
        "        print('Training...')\n",
        "        epoch_loss = train_2(model, train_iterator, optimizer, criterion)\n",
        "        if scheduler:\n",
        "            scheduler.step()\n",
        "        losses.append(epoch_loss)\n",
        "        print('\\nEvaluating on train...')\n",
        "        acc_on_train, pr_on_train, rec_on_train, _ = evaluate_2(model, train_iterator, criterion)\n",
        "        acc.append(acc_on_train)\n",
        "        print('\\nEvaluating on test...')\n",
        "        acc_on_test, pr_on_test, rec_on_test, epoch_loss_on_test = evaluate_2(model, test_iterator, criterion)\n",
        "        losses_eval.append(epoch_loss_on_test)\n",
        "        acc_eval.append(acc_on_test)\n",
        "    return losses, losses_eval, acc, acc_eval, model"
      ],
      "execution_count": 25,
      "outputs": []
    },
    {
      "cell_type": "code",
      "metadata": {
        "id": "2x7DuKEqbopi"
      },
      "source": [
        "model = CNN_words_symbols(len(word2id))\n",
        "optimizer = optim.Adam(model.parameters(), lr=0.001)\n",
        "criterion = nn.BCELoss()  \n",
        "\n",
        "# веса модели и значения лосса храним там же, где и все остальные тензоры\n",
        "model = model.to(DEVICE)\n",
        "criterion = criterion.to(DEVICE)"
      ],
      "execution_count": 26,
      "outputs": []
    },
    {
      "cell_type": "code",
      "metadata": {
        "id": "FzZKM1nHbfa_",
        "outputId": "add93bc4-0c79-4087-86cb-0f7265a2d7a4",
        "colab": {
          "base_uri": "https://localhost:8080/"
        }
      },
      "source": [
        "epoches = 10\n",
        "losses, losses_eval, acc, acc_eval, model = loop_2(epoches, model, train_iterator, test_iterator, optimizer, criterion)"
      ],
      "execution_count": 27,
      "outputs": [
        {
          "output_type": "stream",
          "name": "stdout",
          "text": [
            "\n",
            "starting Epoch 0\n",
            "Training...\n"
          ]
        },
        {
          "output_type": "stream",
          "name": "stderr",
          "text": [
            "/usr/local/lib/python3.7/dist-packages/torch/nn/modules/conv.py:298: UserWarning: Using padding='same' with even kernel lengths and odd dilation may require a zero-padded copy of the input be created (Triggered internally at  ../aten/src/ATen/native/Convolution.cpp:647.)\n",
            "  self.padding, self.dilation, self.groups)\n"
          ]
        },
        {
          "output_type": "stream",
          "name": "stdout",
          "text": [
            "Train loss: 0.6667316746845674\n",
            "\n",
            "Evaluating on train...\n",
            "Val loss: 0.6160342462277144, Val Accuracy: 0.6842480301856995, Val Precision: 0.6613747477531433, Val Recall: 0.6842480301856995\n",
            "\n",
            "Evaluating on test...\n",
            "Val loss: 0.6190503809187148, Val Accuracy: 0.6798823475837708, Val Precision: 0.6530532836914062, Val Recall: 0.6798823475837708\n",
            "\n",
            "starting Epoch 1\n",
            "Training...\n",
            "Train loss: 0.5592210498753558\n",
            "\n",
            "Evaluating on train...\n",
            "Val loss: 0.4983025117871467, Val Accuracy: 0.8103905916213989, Val Precision: 0.7400751709938049, Val Recall: 0.8103905916213989\n",
            "\n",
            "Evaluating on test...\n",
            "Val loss: 0.5246642053127288, Val Accuracy: 0.7906840443611145, Val Precision: 0.7169402241706848, Val Recall: 0.7906840443611145\n",
            "\n",
            "starting Epoch 2\n",
            "Training...\n",
            "Train loss: 0.4730336277672414\n",
            "\n",
            "Evaluating on train...\n",
            "Val loss: 0.4452101867855265, Val Accuracy: 0.700471043586731, Val Precision: 0.8614426851272583, Val Recall: 0.700471043586731\n",
            "\n",
            "Evaluating on test...\n",
            "Val loss: 0.5011497769090865, Val Accuracy: 0.655500054359436, Val Precision: 0.8163877129554749, Val Recall: 0.655500054359436\n",
            "\n",
            "starting Epoch 3\n",
            "Training...\n",
            "Train loss: 0.4215346686960606\n",
            "\n",
            "Evaluating on train...\n",
            "Val loss: 0.38669766351748047, Val Accuracy: 0.8425112366676331, Val Precision: 0.8251054883003235, Val Recall: 0.8425112366676331\n",
            "\n",
            "Evaluating on test...\n",
            "Val loss: 0.4720775769816505, Val Accuracy: 0.7946839332580566, Val Precision: 0.7669897675514221, Val Recall: 0.7946839332580566\n",
            "\n",
            "starting Epoch 4\n",
            "Training...\n",
            "Train loss: 0.38159822279147887\n",
            "\n",
            "Evaluating on train...\n",
            "Val loss: 0.35461171540651426, Val Accuracy: 0.8039712905883789, Val Precision: 0.8833252191543579, Val Recall: 0.8039712905883789\n",
            "\n",
            "Evaluating on test...\n",
            "Val loss: 0.46795398261812, Val Accuracy: 0.7384446859359741, Val Precision: 0.8108842968940735, Val Recall: 0.7384446859359741\n",
            "\n",
            "starting Epoch 5\n",
            "Training...\n",
            "Train loss: 0.351757108160619\n",
            "\n",
            "Evaluating on train...\n",
            "Val loss: 0.32379648457752186, Val Accuracy: 0.8417527079582214, Val Precision: 0.8827406764030457, Val Recall: 0.8417527079582214\n",
            "\n",
            "Evaluating on test...\n",
            "Val loss: 0.4670337829324934, Val Accuracy: 0.7653441429138184, Val Precision: 0.7978390455245972, Val Recall: 0.7653441429138184\n",
            "\n",
            "starting Epoch 6\n",
            "Training...\n",
            "Train loss: 0.32757823252945806\n",
            "\n",
            "Evaluating on train...\n",
            "Val loss: 0.30145198709509347, Val Accuracy: 0.8759077191352844, Val Precision: 0.8756552934646606, Val Recall: 0.8759077191352844\n",
            "\n",
            "Evaluating on test...\n",
            "Val loss: 0.4750561104880439, Val Accuracy: 0.7933236360549927, Val Precision: 0.7822829484939575, Val Recall: 0.7933236360549927\n",
            "\n",
            "starting Epoch 7\n",
            "Training...\n",
            "Train loss: 0.3099710420611199\n",
            "\n",
            "Evaluating on train...\n",
            "Val loss: 0.2866271518254548, Val Accuracy: 0.8486891388893127, Val Precision: 0.9098802208900452, Val Recall: 0.8486891388893127\n",
            "\n",
            "Evaluating on test...\n",
            "Val loss: 0.489795888794793, Val Accuracy: 0.7528259754180908, Val Precision: 0.8062610626220703, Val Recall: 0.7528259754180908\n",
            "\n",
            "starting Epoch 8\n",
            "Training...\n",
            "Train loss: 0.2940506576822045\n",
            "\n",
            "Evaluating on train...\n",
            "Val loss: 0.2745817340491863, Val Accuracy: 0.8461824059486389, Val Precision: 0.922021746635437, Val Recall: 0.8461824059486389\n",
            "\n",
            "Evaluating on test...\n",
            "Val loss: 0.5067576143476699, Val Accuracy: 0.7400389909744263, Val Precision: 0.808990478515625, Val Recall: 0.7400389909744263\n",
            "\n",
            "starting Epoch 9\n",
            "Training...\n",
            "Train loss: 0.2790371467558186\n",
            "\n",
            "Evaluating on train...\n",
            "Val loss: 0.25751620673396614, Val Accuracy: 0.8867017030715942, Val Precision: 0.9049432277679443, Val Recall: 0.8867017030715942\n",
            "\n",
            "Evaluating on test...\n",
            "Val loss: 0.5195467445585463, Val Accuracy: 0.7756302356719971, Val Precision: 0.7854700088500977, Val Recall: 0.7756302356719971\n"
          ]
        }
      ]
    },
    {
      "cell_type": "code",
      "metadata": {
        "id": "_3kPiiqDbwB1",
        "outputId": "693f7004-8ec3-4267-a46f-dd26bd476ba6",
        "colab": {
          "base_uri": "https://localhost:8080/",
          "height": 295
        }
      },
      "source": [
        "import matplotlib.pyplot as plt\n",
        "plt.plot(losses)\n",
        "plt.plot(losses_eval)\n",
        "plt.title('BCE loss value')\n",
        "plt.ylabel('BCE loss')\n",
        "plt.xlabel('epoch')\n",
        "plt.legend(['train', 'val'], loc='upper right')\n",
        "plt.show()"
      ],
      "execution_count": 28,
      "outputs": [
        {
          "output_type": "display_data",
          "data": {
            "image/png": "[encoded data removed]",
            "text/plain": [
              "<Figure size 432x288 with 1 Axes>"
            ]
          },
          "metadata": {
            "needs_background": "light"
          }
        }
      ]
    },
    {
      "cell_type": "code",
      "metadata": {
        "id": "60oaFh1Ne10I",
        "outputId": "6323efbc-6858-4958-8696-6194458fddb8",
        "colab": {
          "base_uri": "https://localhost:8080/",
          "height": 295
        }
      },
      "source": [
        "import matplotlib.pyplot as plt\n",
        "plt.plot(acc)\n",
        "plt.plot(acc_eval)\n",
        "plt.title('Accuracy value')\n",
        "plt.ylabel('ACcuracy value')\n",
        "plt.xlabel('epoch')\n",
        "plt.legend(['train', 'val'], loc='upper right')\n",
        "plt.show()"
      ],
      "execution_count": 29,
      "outputs": [
        {
          "output_type": "display_data",
          "data": {
            "image/png": "[encoded data removed]",
            "text/plain": [
              "<Figure size 432x288 with 1 Axes>"
            ]
          },
          "metadata": {
            "needs_background": "light"
          }
        }
      ]
    },
    {
      "cell_type": "markdown",
      "metadata": {
        "id": "guWdWrJajox1"
      },
      "source": [
        "Видно, что переобучается модель."
      ]
    },
    {
      "cell_type": "markdown",
      "metadata": {
        "id": "FSk1JfXxsFVe"
      },
      "source": [
        "## Модель 2 эксперименты"
      ]
    },
    {
      "cell_type": "code",
      "metadata": {
        "id": "fM9WpEybsHXY"
      },
      "source": [
        "class CNN_words_symbols_exp(nn.Module):\n",
        "    \n",
        "    def __init__(self, vocab_size):\n",
        "        super().__init__()\n",
        "        self.embedding_words = nn.Embedding(vocab_size, 300) #эмбеддинг слой, embed_dim -  корень из вокаб_сайз\n",
        "        self.embedding_words.from_pretrained(torch.tensor(weights), freeze=True)\n",
        "\n",
        "        self.embedding_symbols = nn.Embedding(vocab_size, 16)\n",
        "\n",
        "        self.words_layer = nn.Linear(300, 120)    \n",
        "\n",
        "\n",
        "        self.conv_2 = nn.Conv1d(in_channels=16, out_channels=80, kernel_size=2, padding='same') #свертки с разным окном\n",
        "        self.conv_3 = nn.Conv1d(in_channels=16, out_channels=60, kernel_size=3, padding='same')\n",
        "\n",
        "        self.relu = nn.ReLU()\n",
        "        self.pooling = nn.MaxPool1d(kernel_size=2, stride=2)\n",
        "        self.hidden = nn.Linear(in_features=260, out_features=1)\n",
        "        self.dropout = nn.Dropout(p=0.5)\n",
        "        self.out = nn.Sigmoid()\n",
        "\n",
        "    def forward(self, word, symb):\n",
        "        #batch_size x seq_len   1024 23\n",
        "        embedded_words = self.embedding_words(word)   #1024  seqlen  300\n",
        "        mean_emb_sent = torch.mean(embedded_words, dim=1)   #1024 300\n",
        "        X = self.words_layer(mean_emb_sent)   #1024  128\n",
        "\n",
        "        embedded_symb = self.embedding_symbols(symb)  #1024 charlen 8\n",
        "        embedded_symb = embedded_symb.transpose(1,2)\n",
        "        #batch_size x embedding_dim x seq_len  1024 8 charlen\n",
        "\n",
        "        conv2 = self.relu(self.conv_2(embedded_symb))  #1024  64 charlen\n",
        "        conv3 = self.relu(self.conv_3(embedded_symb))    #1024  48 charlen\n",
        "\n",
        "        concat_conv = torch.cat((conv2, conv3), 1) \n",
        "        #batch_size x (out_channels+out_channels) x seq_len  1024 112 23\n",
        "\n",
        "        pooling_over_time = concat_conv.max(2)[0] \n",
        "        #batch_size x out_channels 1024 112\n",
        "\n",
        "        concat_words_symbols = torch.cat((X, pooling_over_time), 1) #1024 240\n",
        "\n",
        "        logits = self.hidden(concat_words_symbols)\n",
        "\n",
        "\n",
        "        logits = self.out(logits)      \n",
        "        return logits"
      ],
      "execution_count": 30,
      "outputs": []
    },
    {
      "cell_type": "code",
      "metadata": {
        "id": "Swh5JTAXuhh7"
      },
      "source": [
        "model = CNN_words_symbols_exp(len(word2id))\n",
        "optimizer = optim.Adam(model.parameters(), lr=0.0005)\n",
        "# optimizer = torch.optim.SGD(model.parameters(), lr=0.005, momentum=0.9)\n",
        "criterion = nn.BCELoss()  \n",
        "scheduler = torch.optim.lr_scheduler.ExponentialLR(optimizer, gamma=0.9)\n",
        "\n",
        "# веса модели и значения лосса храним там же, где и все остальные тензоры\n",
        "model = model.to(DEVICE)\n",
        "criterion = criterion.to(DEVICE)"
      ],
      "execution_count": 31,
      "outputs": []
    },
    {
      "cell_type": "code",
      "metadata": {
        "id": "In34NGzpuk_z",
        "outputId": "92a3ca36-55d7-4060-dab9-a63d5e25d28a",
        "colab": {
          "base_uri": "https://localhost:8080/"
        }
      },
      "source": [
        "epoches = 10\n",
        "losses, losses_eval, acc, acc_eval, model = loop_2(epoches, model, train_iterator, test_iterator, optimizer, criterion, scheduler)"
      ],
      "execution_count": 32,
      "outputs": [
        {
          "output_type": "stream",
          "name": "stdout",
          "text": [
            "\n",
            "starting Epoch 0\n",
            "Training...\n",
            "Train loss: 0.640865518805686\n",
            "\n",
            "Evaluating on train...\n",
            "Val loss: 0.591725117369984, Val Accuracy: 0.7310280203819275, Val Precision: 0.6793076395988464, Val Recall: 0.7310280203819275\n",
            "\n",
            "Evaluating on test...\n",
            "Val loss: 0.5942693021562364, Val Accuracy: 0.7271637916564941, Val Precision: 0.6721987724304199, Val Recall: 0.7271637916564941\n",
            "\n",
            "starting Epoch 1\n",
            "Training...\n",
            "Train loss: 0.5604609816931607\n",
            "\n",
            "Evaluating on train...\n",
            "Val loss: 0.5233598641130361, Val Accuracy: 0.7676772475242615, Val Precision: 0.7330241799354553, Val Recall: 0.7676772475242615\n",
            "\n",
            "Evaluating on test...\n",
            "Val loss: 0.5363391240437826, Val Accuracy: 0.7567475438117981, Val Precision: 0.7216513156890869, Val Recall: 0.7567475438117981\n",
            "\n",
            "starting Epoch 2\n",
            "Training...\n",
            "Train loss: 0.5055147103044424\n",
            "\n",
            "Evaluating on train...\n",
            "Val loss: 0.47854775793096993, Val Accuracy: 0.7487108111381531, Val Precision: 0.7906384468078613, Val Recall: 0.7487108111381531\n",
            "\n",
            "Evaluating on test...\n",
            "Val loss: 0.5044315192434523, Val Accuracy: 0.728802502155304, Val Precision: 0.7681223750114441, Val Recall: 0.728802502155304\n",
            "\n",
            "starting Epoch 3\n",
            "Training...\n",
            "Train loss: 0.4666329866714692\n",
            "\n",
            "Evaluating on train...\n",
            "Val loss: 0.44801558788572804, Val Accuracy: 0.7397469878196716, Val Precision: 0.8288753628730774, Val Recall: 0.7397469878196716\n",
            "\n",
            "Evaluating on test...\n",
            "Val loss: 0.4869207719961802, Val Accuracy: 0.7103449106216431, Val Precision: 0.7987396717071533, Val Recall: 0.7103449106216431\n",
            "\n",
            "starting Epoch 4\n",
            "Training...\n",
            "Train loss: 0.43797923959373086\n",
            "\n",
            "Evaluating on train...\n",
            "Val loss: 0.41991199871127527, Val Accuracy: 0.7881244421005249, Val Precision: 0.8266910314559937, Val Recall: 0.7881244421005249\n",
            "\n",
            "Evaluating on test...\n",
            "Val loss: 0.4708970493740506, Val Accuracy: 0.7521024346351624, Val Precision: 0.7887925505638123, Val Recall: 0.7521024346351624\n",
            "\n",
            "starting Epoch 5\n",
            "Training...\n",
            "Train loss: 0.4153681169734912\n",
            "\n",
            "Evaluating on train...\n",
            "Val loss: 0.40019004398517394, Val Accuracy: 0.8209314942359924, Val Precision: 0.824510395526886, Val Recall: 0.8209314942359924\n",
            "\n",
            "Evaluating on test...\n",
            "Val loss: 0.4628156609005398, Val Accuracy: 0.7797935009002686, Val Precision: 0.7821863889694214, Val Recall: 0.7797935009002686\n",
            "\n",
            "starting Epoch 6\n",
            "Training...\n",
            "Train loss: 0.39826453770144604\n",
            "\n",
            "Evaluating on train...\n",
            "Val loss: 0.38500895811600633, Val Accuracy: 0.8260865807533264, Val Precision: 0.8346975445747375, Val Recall: 0.8260865807533264\n",
            "\n",
            "Evaluating on test...\n",
            "Val loss: 0.4582604255941179, Val Accuracy: 0.7789711952209473, Val Precision: 0.7881361246109009, Val Recall: 0.7789711952209473\n",
            "\n",
            "starting Epoch 7\n",
            "Training...\n",
            "Train loss: 0.38418694543704557\n",
            "\n",
            "Evaluating on train...\n",
            "Val loss: 0.3742178132694759, Val Accuracy: 0.8516097664833069, Val Precision: 0.8260981440544128, Val Recall: 0.8516097664833069\n",
            "\n",
            "Evaluating on test...\n",
            "Val loss: 0.457193789879481, Val Accuracy: 0.8028613924980164, Val Precision: 0.7768576741218567, Val Recall: 0.8028613924980164\n",
            "\n",
            "starting Epoch 8\n",
            "Training...\n",
            "Train loss: 0.3724712101596125\n",
            "\n",
            "Evaluating on train...\n",
            "Val loss: 0.3634266171897395, Val Accuracy: 0.8321714401245117, Val Precision: 0.8503836393356323, Val Recall: 0.8321714401245117\n",
            "\n",
            "Evaluating on test...\n",
            "Val loss: 0.4547120670477549, Val Accuracy: 0.7772164344787598, Val Precision: 0.7945618033409119, Val Recall: 0.7772164344787598\n",
            "\n",
            "starting Epoch 9\n",
            "Training...\n",
            "Train loss: 0.3630019875054949\n",
            "\n",
            "Evaluating on train...\n",
            "Val loss: 0.3602973041909464, Val Accuracy: 0.8786094188690186, Val Precision: 0.8179563283920288, Val Recall: 0.8786094188690186\n",
            "\n",
            "Evaluating on test...\n",
            "Val loss: 0.4606733957926432, Val Accuracy: 0.8262528777122498, Val Precision: 0.7636127471923828, Val Recall: 0.8262528777122498\n"
          ]
        }
      ]
    },
    {
      "cell_type": "code",
      "metadata": {
        "id": "5SOP5QiUuo4B",
        "outputId": "d83952f1-39c7-4c1b-c7eb-b53d1a407ea4",
        "colab": {
          "base_uri": "https://localhost:8080/",
          "height": 295
        }
      },
      "source": [
        "import matplotlib.pyplot as plt\n",
        "plt.plot(losses)\n",
        "plt.plot(losses_eval)\n",
        "plt.title('BCE loss value')\n",
        "plt.ylabel('BCE loss')\n",
        "plt.xlabel('epoch')\n",
        "plt.legend(['train', 'val'], loc='upper right')\n",
        "plt.show()"
      ],
      "execution_count": 33,
      "outputs": [
        {
          "output_type": "display_data",
          "data": {
            "image/png": "[encoded data removed]",
            "text/plain": [
              "<Figure size 432x288 with 1 Axes>"
            ]
          },
          "metadata": {
            "needs_background": "light"
          }
        }
      ]
    },
    {
      "cell_type": "code",
      "metadata": {
        "id": "9I2m8iVrutC1",
        "outputId": "cdbbc5a8-2c55-4a86-b3ad-3a00c070a6aa",
        "colab": {
          "base_uri": "https://localhost:8080/",
          "height": 295
        }
      },
      "source": [
        "import matplotlib.pyplot as plt\n",
        "plt.plot(acc)\n",
        "plt.plot(acc_eval)\n",
        "plt.title('Accuracy value')\n",
        "plt.ylabel('ACcuracy value')\n",
        "plt.xlabel('epoch')\n",
        "plt.legend(['train', 'val'], loc='upper right')\n",
        "plt.show()"
      ],
      "execution_count": 34,
      "outputs": [
        {
          "output_type": "display_data",
          "data": {
            "image/png": "[encoded data removed]",
            "text/plain": [
              "<Figure size 432x288 with 1 Axes>"
            ]
          },
          "metadata": {
            "needs_background": "light"
          }
        }
      ]
    },
    {
      "cell_type": "markdown",
      "source": [
        "модель меньше переобучается и качество чуть выше, я немного поменяла параметры в модели (размер эмбеддингов, выходных каналов в фильтрах и количество выходных нейронов в линейном слое), а так же добавила регуляцию lr (scheduler)."
      ],
      "metadata": {
        "id": "9hEiqGoFhPst"
      }
    },
    {
      "cell_type": "markdown",
      "source": [
        "##Анализ ошибок"
      ],
      "metadata": {
        "id": "zyxVBbT0hrTi"
      }
    },
    {
      "cell_type": "code",
      "source": [
        "def predict(model, iterator):\n",
        "    model.eval()\n",
        "    fp = []\n",
        "    fn = []\n",
        "    tp = [] \n",
        "    tn = []\n",
        "    with torch.no_grad():\n",
        "        for i, (words, symbols, ys) in enumerate(iterator):   \n",
        "            preds = model(words, symbols)  # делаем предсказания на тесте \n",
        "            for pred, gold, text in zip(preds, ys, symbols):\n",
        "              text = ''.join([id2symbol[int(symbol)] for symbol in text if symbol !=0])\n",
        "              if round(pred.item()) > gold:\n",
        "                fp.append(text)\n",
        "              elif round(pred.item()) < gold:\n",
        "                fn.append(text)\n",
        "              elif round(pred.item()) == gold == 1:\n",
        "                tp.append(text)\n",
        "              elif round(pred.item()) == gold == 0:\n",
        "                tn.append(text)\n",
        "    return fp, fn, tp, tn"
      ],
      "metadata": {
        "id": "xdiFrz_nhmfl"
      },
      "execution_count": 38,
      "outputs": []
    },
    {
      "cell_type": "code",
      "metadata": {
        "id": "eff2rQc18Nl-"
      },
      "source": [
        "fp, fn, tp, tn = predict(model, test_iterator)"
      ],
      "execution_count": 39,
      "outputs": []
    },
    {
      "cell_type": "code",
      "source": [
        "tp[:50]  #то, что позитивно и мы предсказываем позитивно"
      ],
      "metadata": {
        "id": "gmi47mvJomWW",
        "outputId": "60582335-cb49-4904-e10c-4019bb91de75",
        "colab": {
          "base_uri": "https://localhost:8080/"
        }
      },
      "execution_count": 45,
      "outputs": [
        {
          "output_type": "execute_result",
          "data": {
            "text/plain": [
              "['у меня какой-то особенный вид ушей d некоторые вакуумные наушники в моих ушах просто не держатся',\n",
              " 'rt darina_lo домааааа ехали на такси пели песни отдыхали кричали на улице мы настоящяя семья',\n",
              " 'лежим с молой в постели  помогаем ему выбирать машину ',\n",
              " 'я вас найду отрежу пальцы и заставлю сожрать если еще раз добавите меня в общую беседу вконтакте с какой-то левой херней чмоки лавки ',\n",
              " 'larkagerasimova контоев артем рост вес и тд интересует ',\n",
              " 'rt orymbasar erkesh04 пхахахах хорщая мать бля:d',\n",
              " 'пока нету моего психолопсихотерапевта и его заместителя можно поиздеваться над собой а потом выслушивать от заместителя крики на меня ',\n",
              " 'rt sail_or_moon посмотрела путь лидера эмоции зашкаливают',\n",
              " 'el_grenade simoncowell ахахаа пальцы не сломай смотри',\n",
              " 'снова таким лохматым не буду ещё долго http://t.co/bjdd2ktusq',\n",
              " 'juliarezgal чем сильнее хочешь тем быстрее будет агааа',\n",
              " 'yurid1231 baba_yaga_blya volkova_v честно говоря я и так счастлив',\n",
              " 'подумал о варианте  себ и rb не доминируют в 2014 но засчет правила 50 очков направленного против них увозят титул с последнего gp f1',\n",
              " 'milena_666 villia_nice хаха с тогда гоу в лс там секретики хаха тоже хочу агада:d сикретик',\n",
              " 'если собрать с крышек кока-колы 20 баллов то мне дадут мишку',\n",
              " 'inn_blanco не говори такое 1 на млн но рождается d',\n",
              " 'shelev ну на мобильных знаешь ну в общем http://t.co/cxrvkul65w ',\n",
              " 'endreusov вообще-то завтра но отмечаем сегодня в полночь подъедешь',\n",
              " 'пособие мужикам как надо есть борщ  борщ мужик еда дети россия http://t.co/xtemyhzcnr',\n",
              " 'rt sonyazorina scant_of_breath постарайся уж',\n",
              " 'rt avocabna antoshka1399 у меня их трое пхахахах,ну иди на хуй тогда d',\n",
              " 'shraybikus_olga меня вчера пробрало на зверей до 3 слушал',\n",
              " '19luchs69 olegametov немного огоньку не помешает хоть и ноль за окном добрейшего други  ',\n",
              " 'ахахах викуля залайкала всю мою страницу надо бы написать ей я соскучилась',\n",
              " 'aleks_bystr если постараюсь уговорить ее я то она должна постараться приехать:)короче мы оба должны хорошенько постараться:-d',\n",
              " 'rt marinakyzmenko1 незабутній день,головне що все вирішили головне не забути,ахахаха',\n",
              " 'пришёл кот и напился зелёного чаю надеюсь он пьёт горячие напитки не потому что он грустит',\n",
              " 'rt sweet8338 дайте-ка я тоже попробую первый раз надеюсь хоть один rt будет:d вангую ваше имя цвет трусов фандом возраст и карт…',\n",
              " 'xfixoro ахахахах:d хорошо:d я бы хотела узнать какой жанр книг твой любимый хд',\n",
              " 'малышке повезло что прежде чем пройти дальше я включила свет http://t.co/yyqvsoqmte',\n",
              " 'танюшечка с днём рождения http://t.co/khfe0mdyj5',\n",
              " 'rt fuckin_dookie у джимми руки крутые d hiuston9890',\n",
              " 'zhekas egorfine егор правильно мыслит и не боится выражать свои мысли',\n",
              " 'niwayanavicodin с днем рождения пупсик будь всегда счастливой здоровой и красивой  http://t.co/5pzgunrx0i',\n",
              " 'yakovlevsinger это вам большое спасибо за то что делаете такие крутые песни',\n",
              " 'берем на заметку пацаны у нас у всех будут пацаны урааа так буду петь,как никогда раньше не пел http://t.co/obhhq1iyd6',\n",
              " 'торт с черносливом  купленный на кропотке в том магазине ведь тот же http://t.co/eb8z8bobrz',\n",
              " 'ricosmosss да вообщем ничего важного с мне нравится здесь жить зато собственный дом и соседей хуёвых нет',\n",
              " ' с добрым улыбчивым утром http://t.co/lsvygzbnyp',\n",
              " 'rt dasha13tapimi71 я спать пошла спокойной ночи всем',\n",
              " 'у нас ставят домофон)как вы считаете нужная ли это вещь',\n",
              " 'rt muhortova_com хочупровестиновогоднююночьвместес krasnova_yana ихихи',\n",
              " 'а еще enter не успел привезти мой тостер в магазин...обидка зато тп у них ошизенная такие няхи безумные они там',\n",
              " 'anastasiyashul молодец у нас сегодня нервотрепка  поругались с преподами по информатике',\n",
              " 'rt leros_s перед кр уже пол ленты зав отделения вычитывает нежданова так ржачно:d',\n",
              " 'dredbro вот и я дашка наконец то с фотолся с пахай  http://t.co/rjirr7u5yv',\n",
              " 'alexanderchubyk ну ты правильно все сказал)там заработали тут спустили так и живут для поляк',\n",
              " 'rt nikitakostushko в маке на купаловской стало довольной уютно место больше но мест меньше',\n",
              " 'rt vikaaa_aaa будем ждать второй сезон молодёжки',\n",
              " 'rt mariajackson284 привет новым читателям alibi hopemustdie likeglitterbaby uporot_69 tanyasesame97 добра вам  давайте знаком…']"
            ]
          },
          "metadata": {},
          "execution_count": 45
        }
      ]
    },
    {
      "cell_type": "code",
      "source": [
        "fp[:50]  #то, что предсказываем позитивно, а оно негативно"
      ],
      "metadata": {
        "id": "gJQ4I1BYizQ1",
        "outputId": "d7a6bc4e-06f6-47ce-927c-9c37415817c5",
        "colab": {
          "base_uri": "https://localhost:8080/"
        }
      },
      "execution_count": 51,
      "outputs": [
        {
          "output_type": "execute_result",
          "data": {
            "text/plain": [
              "['simonovkon он неплохой человек в жизни я работала в шоу-бизе со многими знакома встречаются очень хорошие люди и не очень',\n",
              " 'завтра с женой выезжаем домой  посли завтра платить за аренду ',\n",
              " 'vasilkov диагностику пока не сделаю комп свой хондовский спалил',\n",
              " 'ура я не спал всю ночь а все потому что мне надо практику переписать видите ли  ненааавииижу',\n",
              " 'вообще-то я гаечка — я не знал http://t.co/ucvf7fg3bj',\n",
              " 'дочитала мастер и маргарита\"...впечатление осталось сложное даже часть не поняла',\n",
              " 'rt sherikbatirhan vafodorxuja gulnarakarimova ilovegoogoosha а меня на днях уже взломали  http://t.co/bdynhoudod',\n",
              " 'дебиановский метапакет libvdpau-driver сцуко битый ',\n",
              " 'gasymovafidana вообще пиздец,щас собака его доела',\n",
              " 'пошел учить два стиха и сочинение писать  http://t.co/tahammmitd',\n",
              " 'пленку надо проявлять вовремя из 3 катушек на 36 в живых осталось 4 кадра ',\n",
              " 'rt bobuk последний radiot  начинается прямо сейчас http://t.co/ne2r2tb4ig',\n",
              " 'надо сказать это было не легко  ff follow',\n",
              " 'ты понимаешь,что ты повзрослела,когда начинаешь ухаживать за цветочком в комнате раньше они у меня дохли ',\n",
              " 'rt tanyatulinova пусть дима мне поможет завтра ',\n",
              " 'neeelia я же тебе рассказывала  ладно потом напомню газиз трубку не берет',\n",
              " 'zzy_noname я бы с радостью  похоже я так сейчас и сделаю ахаха',\n",
              " 'я непрочная это важно наверное не очень',\n",
              " 'мозг уже отрубается  подкиньте ссылочек на годные мануалы по capistrano+unicorn+rails — google дает много всего но моз',\n",
              " 'евдокимова взгрустнула http://t.co/6yz5yzimos',\n",
              " 'lovettred pelicanoff ану кыш с моих откликов ',\n",
              " 'афигеть щас смотрю экстрассенсов который были в воскресенье рассказывают про смоленск и про человека которого убили  у нас',\n",
              " 'http://t.co/gbvt8fcuny закупка медикаментов  инсулин-изофан человеческий генно-инженерный  tender',\n",
              " 'что ты хочешь  — хочу наконец девушку найти заебался я что-то один одинешенек  http://t.co/i92xtcqlm5',\n",
              " 'ten_agilerovna сначала дэвид теперь мэтт..ну за что хах с а капальди мне все равно не прельстив ',\n",
              " 'ты ела кокосового стаса михайлова с фиолетовыми глазами и с куби — нет стасика есть нельзя,он мой кумир http://t.co/y7sutol2bm',\n",
              " 'все бы ничего но задняя панель просто сводит с ума  http://t.co/6vlggzrkrm',\n",
              " 'у меня был сон в котором катя сказала смешную фразу,я хотела написать её в твиттере.щас сидела вспоминала фразу,потом дошло,что это был сон',\n",
              " 'я то за рибери болела ну как-то у него прям лицо футболиста d не то что эти красивые модели',\n",
              " 'майданутые укронацики истерично переходят к открытым угрозам в адрес украинских российских и беларусских властей http://t.co/shpu72gvyr',\n",
              " 'вот вы все пишете:\"ищу принца\"..а я вот его уже нашла,но только он об этом не знает follow',\n",
              " 'я не считаю восьмое марта праздником нет ощущения праздника и праздничного ощущения настроение на высоте но праздника не ощущаю ',\n",
              " 'nika_bulatova да самый настоящий снегопад со здоровенными такими снежинками ',\n",
              " 'ksyushahoran удачного просмотра с бечез а у меня нет этого канала ',\n",
              " 'не хотят чтобы я работала сегодня больше ладно уйду вовремя хд',\n",
              " 'xannachi эх не о чем будет поговорить с твоим котом ',\n",
              " 'школьников и студентов гонят дружной толпой смотреть на это чудо хорошо что избежала этого и жалко патрульных они там закоченели уже',\n",
              " 'беар грилс всё ещё крут теперь мне будут сниться мои прошлые выживалки  инстинкты',\n",
              " 'купила лаки один за 156 норм а второй за 20 говнище',\n",
              " 'ребят никогда не читайте как такой квадрат отгадывает символ  теперь я знаю и это очень грусто ',\n",
              " 'изделие называется креативности  0  http://t.co/f8yie4mubd',\n",
              " 'rt paolomaolo євромайдан после вчерашних соглашений с путиным ценность майдана возросла в разы разойдется майдан  прийдет магадан',\n",
              " 'berillii она декольте вписала позже просто майка типа было лучше',\n",
              " 'если они это считают классным то простите мне нечего сказать',\n",
              " 'muhtar05 kuroglieva шутишь не в тему ',\n",
              " 'delrowes ну ж бабой хотел быть и можешь поорать классную фразочку ничего ты не знаешь джон сноу\"!!!!11',\n",
              " 'пол ночи не спала кофе спасёт надеюсь ',\n",
              " 'матч ак барс торпедо упомянули валентенко',\n",
              " 'moyalubitnebo даааа мне папа крышечки собирает потому что я не пью колу ',\n",
              " 'rt dianapavlova10 harrydarryst я аж прослезилась когда прочла']"
            ]
          },
          "metadata": {},
          "execution_count": 51
        }
      ]
    },
    {
      "cell_type": "code",
      "source": [
        "fn[:50] #то, что позитивно, а мы говорим, что негативно"
      ],
      "metadata": {
        "id": "Mbclatxikltp",
        "outputId": "8ecaae96-ef84-4825-ade6-1a45d763b787",
        "colab": {
          "base_uri": "https://localhost:8080/"
        }
      },
      "execution_count": 52,
      "outputs": [
        {
          "output_type": "execute_result",
          "data": {
            "text/plain": [
              "['rt miwisakovab не грустим за летом скоро будет следующее',\n",
              " 'sceoms а у меня десятый час только  только проснулась',\n",
              " 'rt an9_tripytina такой неудачный день надеюсь неделя такой не будет',\n",
              " 'pom_pom_bom я про завал что задают слишком много хотя,я уже знаю ответ на этот вопрос лол ибо у меня так же',\n",
              " 'm_galustyan я сделала оливье и ощущение нового года сразу появилось',\n",
              " 'rt wilalusapyvo он ездил мне по ушам,потом я проколола ему колеса и запаски у него не оказалось',\n",
              " 'а ведь все мы не любим вопрос как дела на личке когда точно знаем что никак ',\n",
              " '12tanyusha пляши,я завтра дома развлекать меня будешь ',\n",
              " 'я просто иногда хочу какой-то поддержки и понимания.но иди я нахуй с такими требованиями ',\n",
              " 'бляха муха...сходила к бабуле с дедулей и объелась чувствую,что неделю не буду есть',\n",
              " 'nikolaibaskov avanesyanelmira на жизнь,творчество и любовь денег не жалко дай бог что бы и впредь было так ',\n",
              " 'бедная девушка промоутер:dсаня ну почему после того шока,что она пережила ты не взял ее замуж?саня лох:d http://t.co/tuli5w3nv0',\n",
              " 'ponylovesme ты мне не веришь о я сама культура между прочим а про вас я помолчу ',\n",
              " 'ну всё....теперь у нас вообще по-домашнему в комнате',\n",
              " 'а почему бы мне не поехать в ривьеру и не купить платье еду',\n",
              " 'порой возникает чувство что я не найду вторую половинку ибо мужчины младше 30 вообще по боку',\n",
              " 'rt yu_lynx и не поспоришь же http://t.co/ukwdgt5hy6',\n",
              " 'rt ekaterinag1995 алмакаевой опять нету урааа',\n",
              " 'странная фигня сегодня у меня с цифрой 4\"..не могу её просто написать',\n",
              " 'что-то холодно на улице gt;&lt вчера теплее было',\n",
              " 'frenki_max мертвая шлюха,клёвый ништяк,она денег не берет она дает за так',\n",
              " 'rt satapifebit 3 коровы 33 коровы 33 коровы ни одного быка 33 коровы 33 коровы томный взгляд на тело пастуха http://t.co/5vwxyaa…',\n",
              " 'зарплатка  завтра отдам долг  а ещё рюкзак надо купить да',\n",
              " 'свой знаменитый розовый блокнотик с ангелочками никому не отдам ',\n",
              " 'levanse это самое то что надо спорт  таблетка от всех болезней ',\n",
              " 'бля с учебой запара  общагу и право надо исправлять ',\n",
              " 'rt mysorusegifu я ту спиздел  гп не старше меня а младше на 4 дня он жеж 25го ',\n",
              " 'сказали  что я модель  хорошо  что в вк не виден мой рост ',\n",
              " 'free_maiden нет просто с люблю сериалы у которых окончание еще не известно ',\n",
              " 'битта мухлис м.ю ютказганига узини балкондан ташлабди.кейинги тур м.ю га болеть кивораман.уртокларимдан хавотирдаман ',\n",
              " 'зато у меня еще осталось 2 шоколадки но как-то не хочется да,надо запомнить этот момент когда мне не хочется шоколада',\n",
              " 'бегала за галей по кабинету но вынудила проиграть ее',\n",
              " 'setevaya на второй не успеваю,поэтому пойду на 3-й',\n",
              " 'xgreen_marsx ох е  у тебя холодно очень наверное раз ты а сибире живешь ',\n",
              " 'вот это действительно страшно когда поезд стал среди леса буу',\n",
              " 'rt lyubkaaaa_malik schigm ничего я не обижаюсь',\n",
              " 'bezumniy_msk и с таким составом проедутся и не заметят олимпик',\n",
              " 'она у меня дырка для сережки болит он что еще за дырка для сережки',\n",
              " 'сказал:за отвагу и упорство на фитнес-поприще награда за боль мою во всем теле',\n",
              " 'rt disaster_ash alyonalovelarry а,я перепутал но тем не менее,ты лш,что добавляет тебе,и без того такому классному,крутости 3',\n",
              " 'yana_sotnik знала бы ты насколько все сложно и тяжело плюс лень вобщем нужен волшебный пендаль',\n",
              " 'у меня прекрасное воскресное настроение!и уже не печалит тот факт,что позавчера я сломала каблук.ибо вчера я купила новые сапоги',\n",
              " 'радует что себя не заблокировали в сердцах а то мне и этого мало,но довольствуюсь',\n",
              " 'пока ревела из меня стооолько соплей вышло где они хранились',\n",
              " 'я дождалась от него этих слов очень не хватало правда',\n",
              " 'новый год,новый год праздник к нам приходит у всех кого ни спрашивала,все хотят набухаться в хлам а я мандаринок хочу и елку новогоднюю',\n",
              " 'допрыгаетесь до призывы к насильственному изменению существующего строя ',\n",
              " 'verrraverrra а ты почему еще не спишь у вас же уже поздно',\n",
              " 'лагерь кошевой 2 смена лето 2011 это самая лучшая смена буду очень сильно скучать 2 отряд мы лучшие..люблю вас',\n",
              " 'rt nimatizajaki не печалься кискааа елы палы ди сюдаааа ']"
            ]
          },
          "metadata": {},
          "execution_count": 52
        }
      ]
    },
    {
      "cell_type": "markdown",
      "source": [
        "- во-первых, очень много твитов, которым я бы не смогла однозначно приписать отметку\n",
        "позитив или негатив, поэтому неудивительно, что машина с ними то справляется, то нет (предсказание рандомное - вероятность угадывается 50 на 50).\n",
        "- во-вторых, видно, что некоторую отрицательную лексику, которая помогает однозначно определить тональность, модель не детектит\n",
        "например, \"убил\", \"ненавижу\", ненормативная лексика, отсюда тоже ошибки есть\n",
        "- также есть некоторые твитты с позитивной лексикой типа \"отличный\", \"самые любимые\" в негативных твиттах. неудивительно, что модель на таких случаях ошибается \n",
        "- то же самое и относится к негативной лексике в позитивных твиттах: \"неудачный\", ненормативная лексика. Отсюда тоже часто ошибки\n",
        "- также не понял, что некоторые темы сами по себе негативны, например, про майдан и украину\n",
        "- никнеймы пользователей или ссылки не несут никакой нужной для решения этой задачи информации, возможно, они лишь путают модель"
      ],
      "metadata": {
        "id": "iQ-1m7esqEJ-"
      }
    },
    {
      "cell_type": "code",
      "source": [
        ""
      ],
      "metadata": {
        "id": "ybzRrpMDsQSL"
      },
      "execution_count": null,
      "outputs": []
    }
  ]
}