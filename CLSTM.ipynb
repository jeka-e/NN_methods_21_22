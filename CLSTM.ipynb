{
  "nbformat": 4,
  "nbformat_minor": 0,
  "metadata": {
    "colab": {
      "name": "CLSTM.ipynb",
      "provenance": [],
      "collapsed_sections": [
        "xTN5FJgUrBQ7",
        "Le4EwBOPBU-W",
        "ouXJvHgmyByz",
        "JQTnsLceBQqZ",
        "M3HGoDccRm6L",
        "JPocuvjh4ZO3",
        "_v5CI2m7JM0G",
        "s3Up_tREMQIO",
        "i_fzWH9v_iQR",
        "4Wz3rCGSDskU",
        "f7fiEWmyVuM2",
        "J5MHH_K3mpVi",
        "uDAB0FtF51eM",
        "W6inzo-QI5f7"
      ]
    },
    "kernelspec": {
      "name": "python3",
      "display_name": "Python 3"
    },
    "language_info": {
      "name": "python"
    },
    "accelerator": "GPU"
  },
  "cells": [
    {
      "cell_type": "code",
      "source": [
        "!pip install torchmetrics"
      ],
      "metadata": {
        "colab": {
          "base_uri": "https://localhost:8080/"
        },
        "id": "vXziAg0TXprR",
        "outputId": "97f25f7a-e065-4cf3-b2f9-183f6c4485b4"
      },
      "execution_count": 1,
      "outputs": [
        {
          "output_type": "stream",
          "name": "stdout",
          "text": [
            "Collecting torchmetrics\n",
            "  Downloading torchmetrics-0.6.2-py3-none-any.whl (332 kB)\n",
            "\u001b[K     |████████████████████████████████| 332 kB 4.7 MB/s \n",
            "\u001b[?25hRequirement already satisfied: packaging in /usr/local/lib/python3.7/dist-packages (from torchmetrics) (21.3)\n",
            "Requirement already satisfied: numpy>=1.17.2 in /usr/local/lib/python3.7/dist-packages (from torchmetrics) (1.19.5)\n",
            "Requirement already satisfied: torch>=1.3.1 in /usr/local/lib/python3.7/dist-packages (from torchmetrics) (1.10.0+cu111)\n",
            "Requirement already satisfied: typing-extensions in /usr/local/lib/python3.7/dist-packages (from torch>=1.3.1->torchmetrics) (3.10.0.2)\n",
            "Requirement already satisfied: pyparsing!=3.0.5,>=2.0.2 in /usr/local/lib/python3.7/dist-packages (from packaging->torchmetrics) (3.0.6)\n",
            "Installing collected packages: torchmetrics\n",
            "Successfully installed torchmetrics-0.6.2\n"
          ]
        }
      ]
    },
    {
      "cell_type": "code",
      "source": [
        "import zipfile\n",
        "import numpy as np\n",
        "import pandas as pd\n",
        "import re\n",
        "from sklearn.model_selection import train_test_split\n",
        "from torch.utils.data import Dataset, DataLoader, RandomSampler, SequentialSampler\n",
        "from collections import Counter\n",
        "from torch.nn.utils.rnn import pad_sequence\n",
        "import torch\n",
        "import torch.nn as nn\n",
        "import torch.optim as optim\n",
        "import math\n",
        "from torchmetrics.functional import accuracy\n",
        "from tqdm import tqdm\n",
        "from sklearn.metrics import accuracy_score\n",
        "from matplotlib import pyplot as plt\n",
        "\n"
      ],
      "metadata": {
        "id": "gZ8N6WAuny_0"
      },
      "execution_count": 2,
      "outputs": []
    },
    {
      "cell_type": "markdown",
      "source": [
        "## Подготовка данных"
      ],
      "metadata": {
        "id": "xTN5FJgUrBQ7"
      }
    },
    {
      "cell_type": "code",
      "source": [
        "!wget https://github.com/jeka-e/seminars/blob/master/Fake.csv.zip?raw=true\n"
      ],
      "metadata": {
        "colab": {
          "base_uri": "https://localhost:8080/"
        },
        "id": "EOD6P6aprpG0",
        "outputId": "ff09dac6-0c61-41b4-810e-c69580557416"
      },
      "execution_count": 3,
      "outputs": [
        {
          "output_type": "stream",
          "name": "stdout",
          "text": [
            "--2021-12-22 15:05:44--  https://github.com/jeka-e/seminars/blob/master/Fake.csv.zip?raw=true\n",
            "Resolving github.com (github.com)... 140.82.114.4\n",
            "Connecting to github.com (github.com)|140.82.114.4|:443... connected.\n",
            "HTTP request sent, awaiting response... 302 Found\n",
            "Location: https://github.com/jeka-e/seminars/raw/master/Fake.csv.zip [following]\n",
            "--2021-12-22 15:05:45--  https://github.com/jeka-e/seminars/raw/master/Fake.csv.zip\n",
            "Reusing existing connection to github.com:443.\n",
            "HTTP request sent, awaiting response... 302 Found\n",
            "Location: https://raw.githubusercontent.com/jeka-e/seminars/master/Fake.csv.zip [following]\n",
            "--2021-12-22 15:05:45--  https://raw.githubusercontent.com/jeka-e/seminars/master/Fake.csv.zip\n",
            "Resolving raw.githubusercontent.com (raw.githubusercontent.com)... 185.199.109.133, 185.199.111.133, 185.199.108.133, ...\n",
            "Connecting to raw.githubusercontent.com (raw.githubusercontent.com)|185.199.109.133|:443... connected.\n",
            "HTTP request sent, awaiting response... 200 OK\n",
            "Length: 23982555 (23M) [application/zip]\n",
            "Saving to: ‘Fake.csv.zip?raw=true’\n",
            "\n",
            "Fake.csv.zip?raw=tr 100%[===================>]  22.87M   109MB/s    in 0.2s    \n",
            "\n",
            "2021-12-22 15:05:45 (109 MB/s) - ‘Fake.csv.zip?raw=true’ saved [23982555/23982555]\n",
            "\n"
          ]
        }
      ]
    },
    {
      "cell_type": "code",
      "execution_count": 4,
      "metadata": {
        "id": "tFsmGGR9ozef"
      },
      "outputs": [],
      "source": [
        "with zipfile.ZipFile('/content/Fake.csv.zip?raw=true', 'r') as zip_ref:\n",
        "    zip_ref.extract('Fake.csv')\n",
        "fake = pd.read_csv('Fake.csv')"
      ]
    },
    {
      "cell_type": "code",
      "source": [
        "fake.subject.value_counts() #очень неравномерное распределение, причем непонятно, чем news отличается от left-news, например"
      ],
      "metadata": {
        "colab": {
          "base_uri": "https://localhost:8080/"
        },
        "id": "7nBlSQHIrgHU",
        "outputId": "5da3f2e8-38fc-46b4-94c4-7f7e4964e5d5"
      },
      "execution_count": 34,
      "outputs": [
        {
          "output_type": "execute_result",
          "data": {
            "text/plain": [
              "News               9050\n",
              "politics           6841\n",
              "left-news          4459\n",
              "Government News    1570\n",
              "US_News             783\n",
              "Middle-east         778\n",
              "Name: subject, dtype: int64"
            ]
          },
          "metadata": {},
          "execution_count": 34
        }
      ]
    },
    {
      "cell_type": "code",
      "source": [
        "len(fake)"
      ],
      "metadata": {
        "colab": {
          "base_uri": "https://localhost:8080/"
        },
        "id": "sRqZunegoOVn",
        "outputId": "4ba1c15f-c5e4-4e6c-8b38-3aab7f6dec4a"
      },
      "execution_count": 35,
      "outputs": [
        {
          "output_type": "execute_result",
          "data": {
            "text/plain": [
              "23481"
            ]
          },
          "metadata": {},
          "execution_count": 35
        }
      ]
    },
    {
      "cell_type": "code",
      "source": [
        "news=fake[['text','subject']]\n",
        "cat_mapper = {cat: n for n, cat in enumerate(news.subject.unique())}\n",
        "news.subject = news.subject.map(cat_mapper)\n",
        "news['label'] = news['subject']\n",
        "news = news.drop(columns=['subject'])\n",
        "news.head()"
      ],
      "metadata": {
        "colab": {
          "base_uri": "https://localhost:8080/",
          "height": 435
        },
        "id": "8krq_EeBo8M-",
        "outputId": "36a68d3a-f34f-4225-e4b9-8299149a928f"
      },
      "execution_count": 36,
      "outputs": [
        {
          "output_type": "stream",
          "name": "stderr",
          "text": [
            "/usr/local/lib/python3.7/dist-packages/pandas/core/generic.py:5170: SettingWithCopyWarning: \n",
            "A value is trying to be set on a copy of a slice from a DataFrame.\n",
            "Try using .loc[row_indexer,col_indexer] = value instead\n",
            "\n",
            "See the caveats in the documentation: https://pandas.pydata.org/pandas-docs/stable/user_guide/indexing.html#returning-a-view-versus-a-copy\n",
            "  self[name] = value\n",
            "/usr/local/lib/python3.7/dist-packages/ipykernel_launcher.py:4: SettingWithCopyWarning: \n",
            "A value is trying to be set on a copy of a slice from a DataFrame.\n",
            "Try using .loc[row_indexer,col_indexer] = value instead\n",
            "\n",
            "See the caveats in the documentation: https://pandas.pydata.org/pandas-docs/stable/user_guide/indexing.html#returning-a-view-versus-a-copy\n",
            "  after removing the cwd from sys.path.\n"
          ]
        },
        {
          "output_type": "execute_result",
          "data": {
            "text/html": [
              "\n",
              "  <div id=\"df-6e66358a-b2b4-4e1f-a739-966ce5008daa\">\n",
              "    <div class=\"colab-df-container\">\n",
              "      <div>\n",
              "<style scoped>\n",
              "    .dataframe tbody tr th:only-of-type {\n",
              "        vertical-align: middle;\n",
              "    }\n",
              "\n",
              "    .dataframe tbody tr th {\n",
              "        vertical-align: top;\n",
              "    }\n",
              "\n",
              "    .dataframe thead th {\n",
              "        text-align: right;\n",
              "    }\n",
              "</style>\n",
              "<table border=\"1\" class=\"dataframe\">\n",
              "  <thead>\n",
              "    <tr style=\"text-align: right;\">\n",
              "      <th></th>\n",
              "      <th>text</th>\n",
              "      <th>label</th>\n",
              "    </tr>\n",
              "  </thead>\n",
              "  <tbody>\n",
              "    <tr>\n",
              "      <th>0</th>\n",
              "      <td>Donald Trump just couldn t wish all Americans ...</td>\n",
              "      <td>0</td>\n",
              "    </tr>\n",
              "    <tr>\n",
              "      <th>1</th>\n",
              "      <td>House Intelligence Committee Chairman Devin Nu...</td>\n",
              "      <td>0</td>\n",
              "    </tr>\n",
              "    <tr>\n",
              "      <th>2</th>\n",
              "      <td>On Friday, it was revealed that former Milwauk...</td>\n",
              "      <td>0</td>\n",
              "    </tr>\n",
              "    <tr>\n",
              "      <th>3</th>\n",
              "      <td>On Christmas day, Donald Trump announced that ...</td>\n",
              "      <td>0</td>\n",
              "    </tr>\n",
              "    <tr>\n",
              "      <th>4</th>\n",
              "      <td>Pope Francis used his annual Christmas Day mes...</td>\n",
              "      <td>0</td>\n",
              "    </tr>\n",
              "  </tbody>\n",
              "</table>\n",
              "</div>\n",
              "      <button class=\"colab-df-convert\" onclick=\"convertToInteractive('df-6e66358a-b2b4-4e1f-a739-966ce5008daa')\"\n",
              "              title=\"Convert this dataframe to an interactive table.\"\n",
              "              style=\"display:none;\">\n",
              "        \n",
              "  <svg xmlns=\"http://www.w3.org/2000/svg\" height=\"24px\"viewBox=\"0 0 24 24\"\n",
              "       width=\"24px\">\n",
              "    <path d=\"M0 0h24v24H0V0z\" fill=\"none\"/>\n",
              "    <path d=\"M18.56 5.44l.94 2.06.94-2.06 2.06-.94-2.06-.94-.94-2.06-.94 2.06-2.06.94zm-11 1L8.5 8.5l.94-2.06 2.06-.94-2.06-.94L8.5 2.5l-.94 2.06-2.06.94zm10 10l.94 2.06.94-2.06 2.06-.94-2.06-.94-.94-2.06-.94 2.06-2.06.94z\"/><path d=\"M17.41 7.96l-1.37-1.37c-.4-.4-.92-.59-1.43-.59-.52 0-1.04.2-1.43.59L10.3 9.45l-7.72 7.72c-.78.78-.78 2.05 0 2.83L4 21.41c.39.39.9.59 1.41.59.51 0 1.02-.2 1.41-.59l7.78-7.78 2.81-2.81c.8-.78.8-2.07 0-2.86zM5.41 20L4 18.59l7.72-7.72 1.47 1.35L5.41 20z\"/>\n",
              "  </svg>\n",
              "      </button>\n",
              "      \n",
              "  <style>\n",
              "    .colab-df-container {\n",
              "      display:flex;\n",
              "      flex-wrap:wrap;\n",
              "      gap: 12px;\n",
              "    }\n",
              "\n",
              "    .colab-df-convert {\n",
              "      background-color: #E8F0FE;\n",
              "      border: none;\n",
              "      border-radius: 50%;\n",
              "      cursor: pointer;\n",
              "      display: none;\n",
              "      fill: #1967D2;\n",
              "      height: 32px;\n",
              "      padding: 0 0 0 0;\n",
              "      width: 32px;\n",
              "    }\n",
              "\n",
              "    .colab-df-convert:hover {\n",
              "      background-color: #E2EBFA;\n",
              "      box-shadow: 0px 1px 2px rgba(60, 64, 67, 0.3), 0px 1px 3px 1px rgba(60, 64, 67, 0.15);\n",
              "      fill: #174EA6;\n",
              "    }\n",
              "\n",
              "    [theme=dark] .colab-df-convert {\n",
              "      background-color: #3B4455;\n",
              "      fill: #D2E3FC;\n",
              "    }\n",
              "\n",
              "    [theme=dark] .colab-df-convert:hover {\n",
              "      background-color: #434B5C;\n",
              "      box-shadow: 0px 1px 3px 1px rgba(0, 0, 0, 0.15);\n",
              "      filter: drop-shadow(0px 1px 2px rgba(0, 0, 0, 0.3));\n",
              "      fill: #FFFFFF;\n",
              "    }\n",
              "  </style>\n",
              "\n",
              "      <script>\n",
              "        const buttonEl =\n",
              "          document.querySelector('#df-6e66358a-b2b4-4e1f-a739-966ce5008daa button.colab-df-convert');\n",
              "        buttonEl.style.display =\n",
              "          google.colab.kernel.accessAllowed ? 'block' : 'none';\n",
              "\n",
              "        async function convertToInteractive(key) {\n",
              "          const element = document.querySelector('#df-6e66358a-b2b4-4e1f-a739-966ce5008daa');\n",
              "          const dataTable =\n",
              "            await google.colab.kernel.invokeFunction('convertToInteractive',\n",
              "                                                     [key], {});\n",
              "          if (!dataTable) return;\n",
              "\n",
              "          const docLinkHtml = 'Like what you see? Visit the ' +\n",
              "            '<a target=\"_blank\" href=https://colab.research.google.com/notebooks/data_table.ipynb>data table notebook</a>'\n",
              "            + ' to learn more about interactive tables.';\n",
              "          element.innerHTML = '';\n",
              "          dataTable['output_type'] = 'display_data';\n",
              "          await google.colab.output.renderOutput(dataTable, element);\n",
              "          const docLink = document.createElement('div');\n",
              "          docLink.innerHTML = docLinkHtml;\n",
              "          element.appendChild(docLink);\n",
              "        }\n",
              "      </script>\n",
              "    </div>\n",
              "  </div>\n",
              "  "
            ],
            "text/plain": [
              "                                                text  label\n",
              "0  Donald Trump just couldn t wish all Americans ...      0\n",
              "1  House Intelligence Committee Chairman Devin Nu...      0\n",
              "2  On Friday, it was revealed that former Milwauk...      0\n",
              "3  On Christmas day, Donald Trump announced that ...      0\n",
              "4  Pope Francis used his annual Christmas Day mes...      0"
            ]
          },
          "metadata": {},
          "execution_count": 36
        }
      ]
    },
    {
      "cell_type": "markdown",
      "source": [
        "В статье в препроцессинге они делают только сведение к нижнему регистру. Я еще удалю пунктуацию, потому что в статье они решают задачу сантимент анализа, так что пунтктуация очень важна; для нашей же задачи она, кажется, не особо влияет. Оставлю только цифры (мб важно для новости) и буквы."
      ],
      "metadata": {
        "id": "0hUAOzXgeW6U"
      }
    },
    {
      "cell_type": "code",
      "source": [
        "# REPLACE_BY_SPACE_RE = re.compile('[/(){}\\[\\]\\|@,;!.?-]')\n",
        "to_remove = re.compile('[^a-z0-9 ]')\n",
        "def preprocessing(text):\n",
        "    text = text.lower()  \n",
        "    text = to_remove.sub('', text)\n",
        "    return text"
      ],
      "metadata": {
        "id": "fMbRdnU2mw7P"
      },
      "execution_count": 37,
      "outputs": []
    },
    {
      "cell_type": "code",
      "source": [
        "news.text = news.text.apply(preprocessing)\n",
        "news.head()"
      ],
      "metadata": {
        "colab": {
          "base_uri": "https://localhost:8080/",
          "height": 206
        },
        "id": "NPl9cYnMoEDA",
        "outputId": "b59ac787-2b02-4ae9-99c8-36d012c0d26d"
      },
      "execution_count": 38,
      "outputs": [
        {
          "output_type": "execute_result",
          "data": {
            "text/html": [
              "\n",
              "  <div id=\"df-4c00dcf2-ac9a-4056-a649-bb7127f2c843\">\n",
              "    <div class=\"colab-df-container\">\n",
              "      <div>\n",
              "<style scoped>\n",
              "    .dataframe tbody tr th:only-of-type {\n",
              "        vertical-align: middle;\n",
              "    }\n",
              "\n",
              "    .dataframe tbody tr th {\n",
              "        vertical-align: top;\n",
              "    }\n",
              "\n",
              "    .dataframe thead th {\n",
              "        text-align: right;\n",
              "    }\n",
              "</style>\n",
              "<table border=\"1\" class=\"dataframe\">\n",
              "  <thead>\n",
              "    <tr style=\"text-align: right;\">\n",
              "      <th></th>\n",
              "      <th>text</th>\n",
              "      <th>label</th>\n",
              "    </tr>\n",
              "  </thead>\n",
              "  <tbody>\n",
              "    <tr>\n",
              "      <th>0</th>\n",
              "      <td>donald trump just couldn t wish all americans ...</td>\n",
              "      <td>0</td>\n",
              "    </tr>\n",
              "    <tr>\n",
              "      <th>1</th>\n",
              "      <td>house intelligence committee chairman devin nu...</td>\n",
              "      <td>0</td>\n",
              "    </tr>\n",
              "    <tr>\n",
              "      <th>2</th>\n",
              "      <td>on friday it was revealed that former milwauke...</td>\n",
              "      <td>0</td>\n",
              "    </tr>\n",
              "    <tr>\n",
              "      <th>3</th>\n",
              "      <td>on christmas day donald trump announced that h...</td>\n",
              "      <td>0</td>\n",
              "    </tr>\n",
              "    <tr>\n",
              "      <th>4</th>\n",
              "      <td>pope francis used his annual christmas day mes...</td>\n",
              "      <td>0</td>\n",
              "    </tr>\n",
              "  </tbody>\n",
              "</table>\n",
              "</div>\n",
              "      <button class=\"colab-df-convert\" onclick=\"convertToInteractive('df-4c00dcf2-ac9a-4056-a649-bb7127f2c843')\"\n",
              "              title=\"Convert this dataframe to an interactive table.\"\n",
              "              style=\"display:none;\">\n",
              "        \n",
              "  <svg xmlns=\"http://www.w3.org/2000/svg\" height=\"24px\"viewBox=\"0 0 24 24\"\n",
              "       width=\"24px\">\n",
              "    <path d=\"M0 0h24v24H0V0z\" fill=\"none\"/>\n",
              "    <path d=\"M18.56 5.44l.94 2.06.94-2.06 2.06-.94-2.06-.94-.94-2.06-.94 2.06-2.06.94zm-11 1L8.5 8.5l.94-2.06 2.06-.94-2.06-.94L8.5 2.5l-.94 2.06-2.06.94zm10 10l.94 2.06.94-2.06 2.06-.94-2.06-.94-.94-2.06-.94 2.06-2.06.94z\"/><path d=\"M17.41 7.96l-1.37-1.37c-.4-.4-.92-.59-1.43-.59-.52 0-1.04.2-1.43.59L10.3 9.45l-7.72 7.72c-.78.78-.78 2.05 0 2.83L4 21.41c.39.39.9.59 1.41.59.51 0 1.02-.2 1.41-.59l7.78-7.78 2.81-2.81c.8-.78.8-2.07 0-2.86zM5.41 20L4 18.59l7.72-7.72 1.47 1.35L5.41 20z\"/>\n",
              "  </svg>\n",
              "      </button>\n",
              "      \n",
              "  <style>\n",
              "    .colab-df-container {\n",
              "      display:flex;\n",
              "      flex-wrap:wrap;\n",
              "      gap: 12px;\n",
              "    }\n",
              "\n",
              "    .colab-df-convert {\n",
              "      background-color: #E8F0FE;\n",
              "      border: none;\n",
              "      border-radius: 50%;\n",
              "      cursor: pointer;\n",
              "      display: none;\n",
              "      fill: #1967D2;\n",
              "      height: 32px;\n",
              "      padding: 0 0 0 0;\n",
              "      width: 32px;\n",
              "    }\n",
              "\n",
              "    .colab-df-convert:hover {\n",
              "      background-color: #E2EBFA;\n",
              "      box-shadow: 0px 1px 2px rgba(60, 64, 67, 0.3), 0px 1px 3px 1px rgba(60, 64, 67, 0.15);\n",
              "      fill: #174EA6;\n",
              "    }\n",
              "\n",
              "    [theme=dark] .colab-df-convert {\n",
              "      background-color: #3B4455;\n",
              "      fill: #D2E3FC;\n",
              "    }\n",
              "\n",
              "    [theme=dark] .colab-df-convert:hover {\n",
              "      background-color: #434B5C;\n",
              "      box-shadow: 0px 1px 3px 1px rgba(0, 0, 0, 0.15);\n",
              "      filter: drop-shadow(0px 1px 2px rgba(0, 0, 0, 0.3));\n",
              "      fill: #FFFFFF;\n",
              "    }\n",
              "  </style>\n",
              "\n",
              "      <script>\n",
              "        const buttonEl =\n",
              "          document.querySelector('#df-4c00dcf2-ac9a-4056-a649-bb7127f2c843 button.colab-df-convert');\n",
              "        buttonEl.style.display =\n",
              "          google.colab.kernel.accessAllowed ? 'block' : 'none';\n",
              "\n",
              "        async function convertToInteractive(key) {\n",
              "          const element = document.querySelector('#df-4c00dcf2-ac9a-4056-a649-bb7127f2c843');\n",
              "          const dataTable =\n",
              "            await google.colab.kernel.invokeFunction('convertToInteractive',\n",
              "                                                     [key], {});\n",
              "          if (!dataTable) return;\n",
              "\n",
              "          const docLinkHtml = 'Like what you see? Visit the ' +\n",
              "            '<a target=\"_blank\" href=https://colab.research.google.com/notebooks/data_table.ipynb>data table notebook</a>'\n",
              "            + ' to learn more about interactive tables.';\n",
              "          element.innerHTML = '';\n",
              "          dataTable['output_type'] = 'display_data';\n",
              "          await google.colab.output.renderOutput(dataTable, element);\n",
              "          const docLink = document.createElement('div');\n",
              "          docLink.innerHTML = docLinkHtml;\n",
              "          element.appendChild(docLink);\n",
              "        }\n",
              "      </script>\n",
              "    </div>\n",
              "  </div>\n",
              "  "
            ],
            "text/plain": [
              "                                                text  label\n",
              "0  donald trump just couldn t wish all americans ...      0\n",
              "1  house intelligence committee chairman devin nu...      0\n",
              "2  on friday it was revealed that former milwauke...      0\n",
              "3  on christmas day donald trump announced that h...      0\n",
              "4  pope francis used his annual christmas day mes...      0"
            ]
          },
          "metadata": {},
          "execution_count": 38
        }
      ]
    },
    {
      "cell_type": "code",
      "source": [
        "import seaborn as sns\n",
        "from matplotlib import pyplot as plt\n",
        "\n",
        "l = []\n",
        "for text in news.text:\n",
        "    l.append(len(text.split()))\n",
        "\n",
        "\n",
        "plt.figure(figsize=(16, 10))\n",
        "plt.title('Распределение длин слов в текстах')\n",
        "plt.xlabel('Длина предложения')\n",
        "plt.ylabel('Доля')\n",
        "sns.distplot(l)"
      ],
      "metadata": {
        "colab": {
          "base_uri": "https://localhost:8080/",
          "height": 499
        },
        "id": "9l4NM71HBGlK",
        "outputId": "ad56fb0f-3c53-486e-b9d6-fcac9c03fb30"
      },
      "execution_count": 39,
      "outputs": [
        {
          "output_type": "stream",
          "name": "stderr",
          "text": [
            "/usr/local/lib/python3.7/dist-packages/seaborn/distributions.py:2619: FutureWarning: `distplot` is a deprecated function and will be removed in a future version. Please adapt your code to use either `displot` (a figure-level function with similar flexibility) or `histplot` (an axes-level function for histograms).\n",
            "  warnings.warn(msg, FutureWarning)\n",
            "\rEpoch 6: 8960it [01:30, 98.74it/s, train_loss=1.42] \n"
          ]
        },
        {
          "output_type": "execute_result",
          "data": {
            "text/plain": [
              "<matplotlib.axes._subplots.AxesSubplot at 0x7fcc04480690>"
            ]
          },
          "metadata": {},
          "execution_count": 39
        },
        {
          "output_type": "display_data",
          "data": {
            "image/png": "[encoded data removed]",
            "text/plain": [
              "<Figure size 1152x720 with 1 Axes>"
            ]
          },
          "metadata": {
            "needs_background": "light"
          }
        }
      ]
    },
    {
      "cell_type": "code",
      "source": [
        "upper_threshold = 500\n",
        "lower_threshold = 3\n",
        "\n",
        "correct_percent = len([sent_len for sent_len in l \n",
        "                       if sent_len <= upper_threshold and sent_len >= lower_threshold]) * 100 / len(l)\n",
        "\n",
        "'{:.2f} % наших текстов входят в промежуток от {} до {} слов'.format(correct_percent, lower_threshold, upper_threshold)"
      ],
      "metadata": {
        "colab": {
          "base_uri": "https://localhost:8080/",
          "height": 35
        },
        "id": "XmdNIm5XBxD2",
        "outputId": "ca185b16-e5b5-4b84-d3f9-4327c0864bab"
      },
      "execution_count": 40,
      "outputs": [
        {
          "output_type": "execute_result",
          "data": {
            "application/vnd.google.colaboratory.intrinsic+json": {
              "type": "string"
            },
            "text/plain": [
              "'71.21 % наших текстов входят в промежуток от 3 до 500 слов'"
            ]
          },
          "metadata": {},
          "execution_count": 40
        }
      ]
    },
    {
      "cell_type": "markdown",
      "source": [
        "Оставим тексты длинной до 500 слов, иначе не хватает памяти"
      ],
      "metadata": {
        "id": "aIHI_YKNBys7"
      }
    },
    {
      "cell_type": "code",
      "source": [
        "drop_ids = [i for i, x in enumerate(l) if x > 500]"
      ],
      "metadata": {
        "id": "fOD-0HXLB3OB"
      },
      "execution_count": 41,
      "outputs": []
    },
    {
      "cell_type": "code",
      "source": [
        "news = news.drop(drop_ids)"
      ],
      "metadata": {
        "id": "b7HldvhRDrLC"
      },
      "execution_count": 42,
      "outputs": []
    },
    {
      "cell_type": "code",
      "source": [
        "len(news)"
      ],
      "metadata": {
        "colab": {
          "base_uri": "https://localhost:8080/"
        },
        "id": "QpjC5bFwD3sc",
        "outputId": "5e49cf5f-baf0-4eb2-ad08-1b4a161edd2f"
      },
      "execution_count": 43,
      "outputs": [
        {
          "output_type": "execute_result",
          "data": {
            "text/plain": [
              "17467"
            ]
          },
          "metadata": {},
          "execution_count": 43
        }
      ]
    },
    {
      "cell_type": "markdown",
      "source": [
        "##Word2vec инициализация"
      ],
      "metadata": {
        "id": "Le4EwBOPBU-W"
      }
    },
    {
      "cell_type": "code",
      "source": [
        "def split_text(text):\n",
        "    return text.split()"
      ],
      "metadata": {
        "id": "toSItKC67Ypa"
      },
      "execution_count": 44,
      "outputs": []
    },
    {
      "cell_type": "code",
      "source": [
        "texts = news.text.apply(split_text).tolist()"
      ],
      "metadata": {
        "id": "tpF_Pjfj6Tp1"
      },
      "execution_count": 45,
      "outputs": []
    },
    {
      "cell_type": "code",
      "source": [
        "import gensim\n",
        "\n",
        "w2v = gensim.models.Word2Vec(texts, size=300, window=5, min_count=1)"
      ],
      "metadata": {
        "id": "rSxQF9It5vSF"
      },
      "execution_count": 46,
      "outputs": []
    },
    {
      "cell_type": "code",
      "source": [
        "vocab = Counter()\n",
        "\n",
        "for text in news['text']:\n",
        "    vocab.update(text.split())\n",
        "\n",
        "word2id = {'PAD':0}\n",
        "\n",
        "for word in vocab:\n",
        "    word2id[word] = len(word2id)\n",
        "\n",
        "id2word = {i:word for word, i in word2id.items()}"
      ],
      "metadata": {
        "id": "qCyqPv_joFte"
      },
      "execution_count": 47,
      "outputs": []
    },
    {
      "cell_type": "code",
      "source": [
        "weights = np.zeros((len(word2id), 300))\n",
        "count = 0\n",
        "for word, i in word2id.items():\n",
        "    if word == 'PAD':\n",
        "        continue   \n",
        "    try:\n",
        "        weights[i] = w2v.wv[word]    \n",
        "    except KeyError:\n",
        "      count += 1\n",
        "      # oov словам сопоставляем случайный вектор\n",
        "      weights[i] = np.random.uniform(-0.25,0.25,300)\n"
      ],
      "metadata": {
        "id": "V0awwRJd8PHv"
      },
      "execution_count": 48,
      "outputs": []
    },
    {
      "cell_type": "markdown",
      "source": [
        "## Датасеты и даталоадеры\n"
      ],
      "metadata": {
        "id": "ouXJvHgmyByz"
      }
    },
    {
      "cell_type": "markdown",
      "source": [
        "Здесь я делаю паддинг, как они описывают: берется max_len на трэине и до этого значения паддятся все; если в тесте будет что-то длиннее max_len, оно обрезается по max_len. Однако так как я до этого обрезаю длину до 1000, то в этом как-то не остается смысла. При этом я оставлю потом возможность менять эту длину (типа для экспериментов с паддингом)."
      ],
      "metadata": {
        "id": "50rGvOboe0GU"
      }
    },
    {
      "cell_type": "code",
      "source": [
        "class NewsDataset(Dataset):\n",
        "\n",
        "    def __init__(self, news, word2id, DEVICE, max_len=500):\n",
        "        super().__init__()\n",
        "        self.dataset = news['text'].values\n",
        "        self.length = news.shape[0]\n",
        "        self.target = news['label'].values\n",
        "        self.device = DEVICE\n",
        "\n",
        "        self.word2id = word2id\n",
        "        self.max_len = max_len\n",
        "        \n",
        "        \n",
        "    def __len__(self):\n",
        "        return self.length\n",
        "\n",
        "      \n",
        "    def __getitem__(self, index): \n",
        "        words = self.dataset[index]\n",
        "        ids = [self.word2id[word] for word in words.split() if word in self.word2id]\n",
        "        ids = torch.LongTensor(ids+([0] * (self.max_len-len(ids))) if len(ids) <= self.max_len else ids[:self.max_len]).long()\n",
        "        y = self.target[index]\n",
        "        return ids, y\n"
      ],
      "metadata": {
        "id": "DiIoHJD-rgHX"
      },
      "execution_count": 49,
      "outputs": []
    },
    {
      "cell_type": "code",
      "source": [
        "device = torch.device(\"cuda:0\" if torch.cuda.is_available() else \"cpu\")\n",
        "# device = 'cpu'\n",
        "print(device)"
      ],
      "metadata": {
        "colab": {
          "base_uri": "https://localhost:8080/"
        },
        "id": "9WjgG3Pi32VS",
        "outputId": "b452e70a-e5aa-416c-b87a-f46a48d75777"
      },
      "execution_count": 50,
      "outputs": [
        {
          "output_type": "stream",
          "name": "stdout",
          "text": [
            "cuda:0\n"
          ]
        }
      ]
    },
    {
      "cell_type": "markdown",
      "source": [
        "##Модель и большие функции"
      ],
      "metadata": {
        "id": "JQTnsLceBQqZ"
      }
    },
    {
      "cell_type": "markdown",
      "source": [
        "(гипер)параметры:\n",
        "- количество разных сверток с разными фильтрами, \n",
        "- размеры фильтров (список длины количество сверток),\n",
        "- количество выходных каналов (список длины количество сверток),\n",
        "- размер скрытого слоя в лстм, \n",
        "- количество лстм слоев\n",
        "- дропаут либо до лстм, либо после, и его rate\n"
      ],
      "metadata": {
        "id": "2WBe39kqlGdx"
      }
    },
    {
      "cell_type": "code",
      "source": [
        "def loop(train_iterator, test_iterator, model, optimizer, criterion, epochs):\n",
        "    losses = []\n",
        "    best_test_loss = 10.\n",
        "\n",
        "    accuracy_test = []\n",
        "    accuracy_train = []\n",
        "    losses_test = []\n",
        "    losses_train = []    \n",
        "\n",
        "    for n_epoch in range(epochs):\n",
        "        \n",
        "        train_losses = []\n",
        "        test_losses = []\n",
        "        test_targets = []\n",
        "        test_pred_class = []\n",
        "        \n",
        "        progress_bar = tqdm(total=len(train_iterator), desc='Epoch {}'.format(n_epoch + 1))\n",
        "        \n",
        "        model.train()\n",
        "        \n",
        "        for x, y in train_iterator:\n",
        "\n",
        "            x = x.to(device)\n",
        "            y = y.to(device)\n",
        "            \n",
        "            optimizer.zero_grad()\n",
        "            \n",
        "            pred = model(x)\n",
        "            \n",
        "            loss = criterion(pred, y)\n",
        "            \n",
        "            loss.backward()\n",
        "            \n",
        "            optimizer.step()\n",
        "            \n",
        "            train_losses.append(loss.item())\n",
        "            losses.append(loss.item())\n",
        "            \n",
        "            progress_bar.set_postfix(train_loss = np.mean(losses[-500:]))\n",
        "\n",
        "            progress_bar.update(x.shape[0])\n",
        "            \n",
        "        progress_bar.close()\n",
        "        \n",
        "        model.eval()\n",
        "        \n",
        "        for x, y in test_iterator:\n",
        "            \n",
        "            x = x.to(device)\n",
        "\n",
        "            with torch.no_grad():\n",
        "\n",
        "                pred = model(x)\n",
        "\n",
        "                pred = pred.cpu()\n",
        "\n",
        "                test_targets.append(y.numpy())\n",
        "                test_pred_class.append(np.argmax(pred, axis=1))\n",
        "\n",
        "                loss = criterion(pred, y)\n",
        "\n",
        "                test_losses.append(loss.item())\n",
        "            \n",
        "        mean_test_loss = np.mean(test_losses)\n",
        "\n",
        "        test_targets = np.concatenate(test_targets).squeeze()\n",
        "        test_pred_class = np.concatenate(test_pred_class).squeeze()\n",
        "\n",
        "        acc = accuracy_score(test_targets, test_pred_class)\n",
        "        # acc = accuracy(test_targets.round().long(), test_pred_class.long(), ignore_index=0)\n",
        "\n",
        "        accuracy_test.append(acc)\n",
        "        \n",
        "        print()\n",
        "        print('Losses: train - {:.3f}, test - {:.3f}'.format(np.mean(train_losses), mean_test_loss))\n",
        "\n",
        "        print('Accuracy test - {:.3f}'.format(acc))\n",
        "            \n",
        "        # # Early stopping:\n",
        "        # if mean_test_loss < best_test_loss:\n",
        "        #     best_test_loss = mean_test_loss\n",
        "        # else:\n",
        "        #     print('Early stopping')\n",
        "        #     break\n",
        "    return model, losses, accuracy_test"
      ],
      "metadata": {
        "id": "OUbymdZVlbPc"
      },
      "execution_count": 51,
      "outputs": []
    },
    {
      "cell_type": "code",
      "source": [
        "def learning_history_loss(losses):\n",
        "    plt.title('CLSTM Training Process')\n",
        "    plt.xlabel('Iterations')\n",
        "    plt.ylabel('Loss')\n",
        "    plt.grid()\n",
        "    plt.plot(losses)\n",
        "    plt.show()\n"
      ],
      "metadata": {
        "id": "g0p1JFryzU4_"
      },
      "execution_count": 52,
      "outputs": []
    },
    {
      "cell_type": "code",
      "source": [
        "def learning_history_acc(accs):\n",
        "    plt.title('CLSTM Accuracy rates durig training')\n",
        "    plt.xlabel('Epochs')\n",
        "    plt.ylabel('Accuracy')\n",
        "    plt.grid()\n",
        "    plt.plot(accs)\n",
        "    plt.show()\n"
      ],
      "metadata": {
        "id": "RKkgEfBq2eXg"
      },
      "execution_count": 53,
      "outputs": []
    },
    {
      "cell_type": "code",
      "source": [
        "def define_max_len(texts):\n",
        "    max_len_pad = 0\n",
        "    for text in texts:\n",
        "        if len(text.split()) > max_len_pad:\n",
        "            max_len_pad = len(text.split())\n",
        "\n",
        "    return max_len_pad"
      ],
      "metadata": {
        "id": "m-vzusTWMUMf"
      },
      "execution_count": 54,
      "outputs": []
    },
    {
      "cell_type": "code",
      "source": [
        "class CLSTM(nn.Module):\n",
        "    def __init__(self, device, n_classes, weights, num_convs=1, filter_sizes=[3,], num_filters=[150,], hidden_dim=150, num_lstm_layers=1, dropout_after_lstm_rate=0, dropout_before_conv_rate=0):\n",
        "        super().__init__()\n",
        "        self.n = n_classes\n",
        "        self.embed = nn.Embedding.from_pretrained(torch.Tensor(weights))\n",
        "        self.conv = {}\n",
        "        for i in range(num_convs):\n",
        "            self.conv[i] = nn.Conv1d(in_channels=300, out_channels=num_filters[i], kernel_size=filter_sizes[i]).to(device)\n",
        "            \n",
        "        self.LSTM_layer = nn.LSTM(np.sum(np.array(num_filters)), hidden_dim, num_layers=num_lstm_layers, batch_first=True)\n",
        "\n",
        "        self.relu = nn.ReLU()\n",
        "        self.fc = nn.Linear(hidden_dim, n_classes)\n",
        "        self.dropout_after_lstm = nn.Dropout(p=dropout_after_lstm_rate)\n",
        "        self.dropout_before_conv = nn.Dropout(p=dropout_before_conv_rate)\n",
        "\n",
        "        \n",
        "    \n",
        "    def forward(self, words):\n",
        "        embedded_words = self.embed(words)  #batchsize*seq_len*emb_dim  1024  sl  300\n",
        "        embedded_words = self.dropout_before_conv(embedded_words)\n",
        "        embedded_words = embedded_words.transpose(1, 2)  #1024  300  sl\n",
        "        \n",
        "        feat_maps = []\n",
        "        for i in range(len(self.conv)):\n",
        "            if feat_maps == []:\n",
        "                feat_maps = self.relu(self.conv[i](embedded_words))   #1024  filter_size sl\n",
        "            else:\n",
        "                new_map = self.relu(self.conv[i](embedded_words))\n",
        "                if new_map.shape[-1] >= feat_maps.shape[-1]:\n",
        "                    new_map = new_map[:, :, :feat_maps.shape[-1]]\n",
        "                else:\n",
        "                    feat_maps = feat_maps[:, :, :new_map.shape[-1]]\n",
        "                feat_maps = torch.cat((feat_maps, new_map), 1)  #1024  filter_sizes.sum sl\n",
        "        \n",
        "        feat_maps = feat_maps.transpose(1, 2)   #1024   sl    filter_sizes.sum\n",
        "\n",
        "        output, (ht, ct) = self.LSTM_layer(feat_maps)     #1024   sl   hidden\n",
        "\n",
        "        output = self.dropout_after_lstm(ht)\n",
        "\n",
        "        logits = self.fc(ht[-1])  #batch*hidden\n",
        "        return logits\n",
        "        \n"
      ],
      "metadata": {
        "id": "i2YuIUVu8Lf3"
      },
      "execution_count": 55,
      "outputs": []
    },
    {
      "cell_type": "code",
      "source": [
        "def experiments(news, word2id, weights, device, batch_size=256, lr=0.001, epochs=10, \n",
        "                num_convs=1, filter_sizes=[3,], num_filters=[150,], hidden_dim=150, num_lstm_layers=1, \n",
        "                dropout_after_lstm_rate=0, dropout_before_conv_rate=0, weight_decay=0, max_len_pad=None):\n",
        "    if max_len_pad:\n",
        "        pass\n",
        "    else:\n",
        "        max_len_pad = define_max_len(news.text)\n",
        "\n",
        "\n",
        "    train_data, test_data = train_test_split(news, test_size=0.2, random_state=40)\n",
        "\n",
        "    train_dataset = NewsDataset(train_data, word2id, device, max_len_pad)\n",
        "    train_sampler = RandomSampler(train_dataset)\n",
        "    train_iterator = DataLoader(train_dataset, sampler=train_sampler, batch_size=batch_size)\n",
        "\n",
        "    test_dataset = NewsDataset(test_data, word2id, device, max_len_pad)\n",
        "    test_sampler = SequentialSampler(test_dataset)\n",
        "    test_iterator = DataLoader(test_dataset, sampler=test_sampler, batch_size=batch_size)\n",
        "\n",
        "\n",
        "\n",
        "    n_classes = 6\n",
        "    model = CLSTM(device, n_classes, weights, num_convs, filter_sizes, \n",
        "              num_filters, hidden_dim, num_lstm_layers, dropout_after_lstm_rate, dropout_before_conv_rate )\n",
        "\n",
        "    optimizer = optim.RMSprop(model.parameters(), lr=lr, weight_decay=weight_decay)\n",
        "    criterion = torch.nn.CrossEntropyLoss()\n",
        "\n",
        "    # веса модели и значения лосса храним там же, где и все остальные тензоры\n",
        "    model = model.to(device)\n",
        "    criterion = criterion.to(device)\n",
        "\n",
        "    model, losses, accuracies = loop(train_iterator, test_iterator, model, optimizer, criterion, epochs)\n",
        "    \n",
        "    learning_history_loss(losses)\n",
        "    learning_history_acc(accuracies)\n",
        "\n",
        "    return model\n"
      ],
      "metadata": {
        "id": "Hy47suGKLT8T"
      },
      "execution_count": 56,
      "outputs": []
    },
    {
      "cell_type": "markdown",
      "source": [
        "##на случай лагов tqdm"
      ],
      "metadata": {
        "id": "M3HGoDccRm6L"
      }
    },
    {
      "cell_type": "code",
      "source": [
        "for instance in list(tqdm._instances): \n",
        "    tqdm._decr_instances(instance)"
      ],
      "metadata": {
        "id": "9-GZADIDzzOc"
      },
      "execution_count": 81,
      "outputs": []
    },
    {
      "cell_type": "markdown",
      "source": [
        "##1 эксперимент"
      ],
      "metadata": {
        "id": "JPocuvjh4ZO3"
      }
    },
    {
      "cell_type": "markdown",
      "source": [
        "запустим с теми параметрами, с которыми модель в статье у авторов сработала лучше всего, то есть 1 сверточный слой с кернелом 3, выходных фильтров 150, входных слоев в лстм 150, weight_decay=0.001 и дропаут слои с вероятностью 0.5"
      ],
      "metadata": {
        "id": "welU6L5-4jAw"
      }
    },
    {
      "cell_type": "code",
      "source": [
        "out = experiments(news, word2id, weights, device, batch_size=128, lr=0.001, epochs=10, num_convs=1, \n",
        "            filter_sizes=[3,], num_filters=[150,], hidden_dim=150, num_lstm_layers=1, \n",
        "            dropout_after_lstm_rate=0.5, dropout_before_conv_rate=0.5, weight_decay=0.001)"
      ],
      "metadata": {
        "colab": {
          "base_uri": "https://localhost:8080/",
          "height": 1000
        },
        "id": "D2cD6tDbwP4S",
        "outputId": "764cbc0b-2d39-4dab-aa44-ebea927dfac0"
      },
      "execution_count": 60,
      "outputs": [
        {
          "output_type": "stream",
          "name": "stderr",
          "text": [
            "Epoch 1: 13973it [00:23, 602.41it/s, train_loss=1.43]\n"
          ]
        },
        {
          "output_type": "stream",
          "name": "stdout",
          "text": [
            "\n",
            "Losses: train - 1.433, test - 1.434\n",
            "Accuracy test - 0.383\n"
          ]
        },
        {
          "output_type": "stream",
          "name": "stderr",
          "text": [
            "Epoch 2: 13973it [00:23, 604.35it/s, train_loss=1.43]\n"
          ]
        },
        {
          "output_type": "stream",
          "name": "stdout",
          "text": [
            "\n",
            "Losses: train - 1.421, test - 1.435\n",
            "Accuracy test - 0.383\n"
          ]
        },
        {
          "output_type": "stream",
          "name": "stderr",
          "text": [
            "Epoch 3: 13973it [00:23, 602.98it/s, train_loss=1.42]\n"
          ]
        },
        {
          "output_type": "stream",
          "name": "stdout",
          "text": [
            "\n",
            "Losses: train - 1.420, test - 1.437\n",
            "Accuracy test - 0.383\n"
          ]
        },
        {
          "output_type": "stream",
          "name": "stderr",
          "text": [
            "Epoch 4: 13973it [00:23, 605.31it/s, train_loss=1.42]\n"
          ]
        },
        {
          "output_type": "stream",
          "name": "stdout",
          "text": [
            "\n",
            "Losses: train - 1.419, test - 1.428\n",
            "Accuracy test - 0.383\n"
          ]
        },
        {
          "output_type": "stream",
          "name": "stderr",
          "text": [
            "Epoch 5: 13973it [00:23, 604.86it/s, train_loss=1.42]\n"
          ]
        },
        {
          "output_type": "stream",
          "name": "stdout",
          "text": [
            "\n",
            "Losses: train - 1.418, test - 1.434\n",
            "Accuracy test - 0.383\n"
          ]
        },
        {
          "output_type": "stream",
          "name": "stderr",
          "text": [
            "Epoch 6: 13973it [00:23, 604.78it/s, train_loss=1.42]\n"
          ]
        },
        {
          "output_type": "stream",
          "name": "stdout",
          "text": [
            "\n",
            "Losses: train - 1.419, test - 1.436\n",
            "Accuracy test - 0.383\n"
          ]
        },
        {
          "output_type": "stream",
          "name": "stderr",
          "text": [
            "Epoch 7: 13973it [00:23, 605.85it/s, train_loss=1.41]\n"
          ]
        },
        {
          "output_type": "stream",
          "name": "stdout",
          "text": [
            "\n",
            "Losses: train - 1.368, test - 1.343\n",
            "Accuracy test - 0.516\n"
          ]
        },
        {
          "output_type": "stream",
          "name": "stderr",
          "text": [
            "Epoch 8: 13973it [00:23, 605.73it/s, train_loss=1.37]\n"
          ]
        },
        {
          "output_type": "stream",
          "name": "stdout",
          "text": [
            "\n",
            "Losses: train - 1.244, test - 1.530\n",
            "Accuracy test - 0.401\n"
          ]
        },
        {
          "output_type": "stream",
          "name": "stderr",
          "text": [
            "Epoch 9: 13973it [00:23, 604.74it/s, train_loss=1.33]\n"
          ]
        },
        {
          "output_type": "stream",
          "name": "stdout",
          "text": [
            "\n",
            "Losses: train - 1.225, test - 1.265\n",
            "Accuracy test - 0.464\n"
          ]
        },
        {
          "output_type": "stream",
          "name": "stderr",
          "text": [
            "Epoch 10: 13973it [00:23, 604.79it/s, train_loss=1.28]\n"
          ]
        },
        {
          "output_type": "stream",
          "name": "stdout",
          "text": [
            "\n",
            "Losses: train - 1.214, test - 1.420\n",
            "Accuracy test - 0.412\n"
          ]
        },
        {
          "output_type": "display_data",
          "data": {
            "image/png": "[encoded data removed]",
            "text/plain": [
              "<Figure size 432x288 with 1 Axes>"
            ]
          },
          "metadata": {
            "needs_background": "light"
          }
        },
        {
          "output_type": "display_data",
          "data": {
            "image/png": "[encoded data removed]",
            "text/plain": [
              "<Figure size 432x288 with 1 Axes>"
            ]
          },
          "metadata": {
            "needs_background": "light"
          }
        }
      ]
    },
    {
      "cell_type": "markdown",
      "source": [
        "##2 эксперимент"
      ],
      "metadata": {
        "id": "_v5CI2m7JM0G"
      }
    },
    {
      "cell_type": "markdown",
      "source": [
        "Попробуем так же кернел 2, но уберем weight decay и уменьшим дропаут"
      ],
      "metadata": {
        "id": "dTFTuNCVJiTY"
      }
    },
    {
      "cell_type": "code",
      "source": [
        "out = experiments(news, word2id, weights, device, batch_size=128, lr=0.001, epochs=10, num_convs=1, \n",
        "            filter_sizes=[2,], num_filters=[150,], hidden_dim=150, num_lstm_layers=1, \n",
        "            dropout_after_lstm_rate=0.1, dropout_before_conv_rate=0.1)"
      ],
      "metadata": {
        "colab": {
          "base_uri": "https://localhost:8080/",
          "height": 1000
        },
        "id": "P9ELW4JjJMDJ",
        "outputId": "42524548-c3b8-48fe-b156-470b7f05aead"
      },
      "execution_count": 61,
      "outputs": [
        {
          "output_type": "stream",
          "name": "stderr",
          "text": [
            "Epoch 1: 13973it [00:22, 620.86it/s, train_loss=1.42]\n"
          ]
        },
        {
          "output_type": "stream",
          "name": "stdout",
          "text": [
            "\n",
            "Losses: train - 1.422, test - 1.308\n",
            "Accuracy test - 0.547\n"
          ]
        },
        {
          "output_type": "stream",
          "name": "stderr",
          "text": [
            "Epoch 2: 13973it [00:22, 618.71it/s, train_loss=1.32]\n"
          ]
        },
        {
          "output_type": "stream",
          "name": "stdout",
          "text": [
            "\n",
            "Losses: train - 1.208, test - 0.908\n",
            "Accuracy test - 0.666\n"
          ]
        },
        {
          "output_type": "stream",
          "name": "stderr",
          "text": [
            "Epoch 3: 13973it [00:22, 619.72it/s, train_loss=1.16]\n"
          ]
        },
        {
          "output_type": "stream",
          "name": "stdout",
          "text": [
            "\n",
            "Losses: train - 0.836, test - 0.810\n",
            "Accuracy test - 0.679\n"
          ]
        },
        {
          "output_type": "stream",
          "name": "stderr",
          "text": [
            "Epoch 4: 13973it [00:22, 618.40it/s, train_loss=1.08]\n"
          ]
        },
        {
          "output_type": "stream",
          "name": "stdout",
          "text": [
            "\n",
            "Losses: train - 0.844, test - 0.818\n",
            "Accuracy test - 0.677\n"
          ]
        },
        {
          "output_type": "stream",
          "name": "stderr",
          "text": [
            "Epoch 5: 13973it [00:22, 619.02it/s, train_loss=0.98]\n"
          ]
        },
        {
          "output_type": "stream",
          "name": "stdout",
          "text": [
            "\n",
            "Losses: train - 0.800, test - 1.113\n",
            "Accuracy test - 0.614\n"
          ]
        },
        {
          "output_type": "stream",
          "name": "stderr",
          "text": [
            "Epoch 6: 13973it [00:22, 620.50it/s, train_loss=0.858]\n"
          ]
        },
        {
          "output_type": "stream",
          "name": "stdout",
          "text": [
            "\n",
            "Losses: train - 0.794, test - 0.806\n",
            "Accuracy test - 0.680\n"
          ]
        },
        {
          "output_type": "stream",
          "name": "stderr",
          "text": [
            "Epoch 7: 13973it [00:22, 610.84it/s, train_loss=0.808]\n"
          ]
        },
        {
          "output_type": "stream",
          "name": "stdout",
          "text": [
            "\n",
            "Losses: train - 0.790, test - 0.832\n",
            "Accuracy test - 0.676\n"
          ]
        },
        {
          "output_type": "stream",
          "name": "stderr",
          "text": [
            "Epoch 8: 13973it [00:22, 620.39it/s, train_loss=0.802]\n"
          ]
        },
        {
          "output_type": "stream",
          "name": "stdout",
          "text": [
            "\n",
            "Losses: train - 0.814, test - 0.837\n",
            "Accuracy test - 0.674\n"
          ]
        },
        {
          "output_type": "stream",
          "name": "stderr",
          "text": [
            "Epoch 9: 13973it [00:22, 620.87it/s, train_loss=0.798]\n"
          ]
        },
        {
          "output_type": "stream",
          "name": "stdout",
          "text": [
            "\n",
            "Losses: train - 0.793, test - 0.812\n",
            "Accuracy test - 0.679\n"
          ]
        },
        {
          "output_type": "stream",
          "name": "stderr",
          "text": [
            "Epoch 10: 13973it [00:22, 620.21it/s, train_loss=0.792]\n"
          ]
        },
        {
          "output_type": "stream",
          "name": "stdout",
          "text": [
            "\n",
            "Losses: train - 0.782, test - 0.800\n",
            "Accuracy test - 0.621\n"
          ]
        },
        {
          "output_type": "display_data",
          "data": {
            "image/png": "[encoded data removed]",
            "text/plain": [
              "<Figure size 432x288 with 1 Axes>"
            ]
          },
          "metadata": {
            "needs_background": "light"
          }
        },
        {
          "output_type": "display_data",
          "data": {
            "image/png": "[encoded data removed]",
            "text/plain": [
              "<Figure size 432x288 with 1 Axes>"
            ]
          },
          "metadata": {
            "needs_background": "light"
          }
        }
      ]
    },
    {
      "cell_type": "markdown",
      "source": [
        "##3 эксперимент"
      ],
      "metadata": {
        "id": "s3Up_tREMQIO"
      }
    },
    {
      "cell_type": "markdown",
      "source": [
        "возьмем кернел 4, уберем дропауты совсем"
      ],
      "metadata": {
        "id": "wtD6kvowMUac"
      }
    },
    {
      "cell_type": "code",
      "source": [
        "out = experiments(news, word2id, weights, device, batch_size=128, lr=0.005, epochs=10, num_convs=1, \n",
        "            filter_sizes=[4,], num_filters=[150,], hidden_dim=150, num_lstm_layers=1)"
      ],
      "metadata": {
        "colab": {
          "base_uri": "https://localhost:8080/",
          "height": 1000
        },
        "id": "nTpBR7URwVgK",
        "outputId": "741cd12d-3fe7-4926-847c-d152b491aa6f"
      },
      "execution_count": 62,
      "outputs": [
        {
          "output_type": "stream",
          "name": "stderr",
          "text": [
            "Epoch 1: 13973it [00:23, 599.34it/s, train_loss=1.47]\n"
          ]
        },
        {
          "output_type": "stream",
          "name": "stdout",
          "text": [
            "\n",
            "Losses: train - 1.468, test - 1.441\n",
            "Accuracy test - 0.383\n"
          ]
        },
        {
          "output_type": "stream",
          "name": "stderr",
          "text": [
            "Epoch 2: 13973it [00:23, 596.01it/s, train_loss=1.4]\n"
          ]
        },
        {
          "output_type": "stream",
          "name": "stdout",
          "text": [
            "\n",
            "Losses: train - 1.326, test - 1.313\n",
            "Accuracy test - 0.559\n"
          ]
        },
        {
          "output_type": "stream",
          "name": "stderr",
          "text": [
            "Epoch 3: 13973it [00:23, 597.67it/s, train_loss=1.24]\n"
          ]
        },
        {
          "output_type": "stream",
          "name": "stdout",
          "text": [
            "\n",
            "Losses: train - 0.916, test - 0.826\n",
            "Accuracy test - 0.673\n"
          ]
        },
        {
          "output_type": "stream",
          "name": "stderr",
          "text": [
            "Epoch 4: 13973it [00:23, 597.03it/s, train_loss=1.13]\n"
          ]
        },
        {
          "output_type": "stream",
          "name": "stdout",
          "text": [
            "\n",
            "Losses: train - 0.828, test - 0.834\n",
            "Accuracy test - 0.563\n"
          ]
        },
        {
          "output_type": "stream",
          "name": "stderr",
          "text": [
            "Epoch 5: 13973it [00:23, 595.84it/s, train_loss=1.03]\n"
          ]
        },
        {
          "output_type": "stream",
          "name": "stdout",
          "text": [
            "\n",
            "Losses: train - 0.822, test - 0.817\n",
            "Accuracy test - 0.677\n"
          ]
        },
        {
          "output_type": "stream",
          "name": "stderr",
          "text": [
            "Epoch 6: 13973it [00:23, 595.19it/s, train_loss=0.893]\n"
          ]
        },
        {
          "output_type": "stream",
          "name": "stdout",
          "text": [
            "\n",
            "Losses: train - 0.792, test - 0.829\n",
            "Accuracy test - 0.680\n"
          ]
        },
        {
          "output_type": "stream",
          "name": "stderr",
          "text": [
            "Epoch 7: 13973it [00:23, 594.30it/s, train_loss=0.816]\n"
          ]
        },
        {
          "output_type": "stream",
          "name": "stdout",
          "text": [
            "\n",
            "Losses: train - 0.802, test - 0.838\n",
            "Accuracy test - 0.678\n"
          ]
        },
        {
          "output_type": "stream",
          "name": "stderr",
          "text": [
            "Epoch 8: 13973it [00:23, 590.70it/s, train_loss=0.801]\n"
          ]
        },
        {
          "output_type": "stream",
          "name": "stdout",
          "text": [
            "\n",
            "Losses: train - 0.783, test - 0.822\n",
            "Accuracy test - 0.679\n"
          ]
        },
        {
          "output_type": "stream",
          "name": "stderr",
          "text": [
            "Epoch 9: 13973it [00:23, 597.23it/s, train_loss=0.792]\n"
          ]
        },
        {
          "output_type": "stream",
          "name": "stdout",
          "text": [
            "\n",
            "Losses: train - 0.772, test - 0.737\n",
            "Accuracy test - 0.620\n"
          ]
        },
        {
          "output_type": "stream",
          "name": "stderr",
          "text": [
            "Epoch 10: 13973it [00:23, 598.17it/s, train_loss=0.769]\n"
          ]
        },
        {
          "output_type": "stream",
          "name": "stdout",
          "text": [
            "\n",
            "Losses: train - 0.708, test - 0.710\n",
            "Accuracy test - 0.680\n"
          ]
        },
        {
          "output_type": "display_data",
          "data": {
            "image/png": "[encoded data removed]",
            "text/plain": [
              "<Figure size 432x288 with 1 Axes>"
            ]
          },
          "metadata": {
            "needs_background": "light"
          }
        },
        {
          "output_type": "display_data",
          "data": {
            "image/png": "[encoded data removed]",
            "text/plain": [
              "<Figure size 432x288 with 1 Axes>"
            ]
          },
          "metadata": {
            "needs_background": "light"
          }
        }
      ]
    },
    {
      "cell_type": "markdown",
      "source": [
        "Судя по лоссу лучше всего обучается совсем без регуляризации и с большим размером фильтра. По аккьюраси лучше всего вторая модель с небольшой вероятностью дропаута. Оставим небольшой дропаут для последующих экспериментов"
      ],
      "metadata": {
        "id": "CHKEjizWVqen"
      }
    },
    {
      "cell_type": "markdown",
      "source": [
        "##4 эксперимент\n"
      ],
      "metadata": {
        "id": "i_fzWH9v_iQR"
      }
    },
    {
      "cell_type": "markdown",
      "source": [
        "теперь попробуем с 2 сверточными слоями. "
      ],
      "metadata": {
        "id": "u_0y9ek9A6NN"
      }
    },
    {
      "cell_type": "code",
      "source": [
        "out = experiments(news, word2id, weights, device, batch_size=256, lr=0.01, epochs=10, num_convs=2, \n",
        "            filter_sizes=[2,3], num_filters=[250, 150], hidden_dim=150, num_lstm_layers=1, \n",
        "            dropout_after_lstm_rate=0.1, dropout_before_conv_rate=0.1)"
      ],
      "metadata": {
        "colab": {
          "base_uri": "https://localhost:8080/",
          "height": 1000
        },
        "id": "RDmMXt3Z_twC",
        "outputId": "2faaa6a9-6ad9-4d89-ba8d-dbefa2911d52"
      },
      "execution_count": 74,
      "outputs": [
        {
          "output_type": "stream",
          "name": "stderr",
          "text": [
            "Epoch 1: 13973it [00:29, 469.28it/s, train_loss=1.52]\n"
          ]
        },
        {
          "output_type": "stream",
          "name": "stdout",
          "text": [
            "\n",
            "Losses: train - 1.516, test - 1.251\n",
            "Accuracy test - 0.557\n"
          ]
        },
        {
          "output_type": "stream",
          "name": "stderr",
          "text": [
            "Epoch 2: 13973it [00:29, 475.26it/s, train_loss=1.44]\n"
          ]
        },
        {
          "output_type": "stream",
          "name": "stdout",
          "text": [
            "\n",
            "Losses: train - 1.365, test - 1.428\n",
            "Accuracy test - 0.383\n"
          ]
        },
        {
          "output_type": "stream",
          "name": "stderr",
          "text": [
            "Epoch 3: 13973it [00:29, 475.85it/s, train_loss=1.42]\n"
          ]
        },
        {
          "output_type": "stream",
          "name": "stdout",
          "text": [
            "\n",
            "Losses: train - 1.382, test - 1.268\n",
            "Accuracy test - 0.553\n"
          ]
        },
        {
          "output_type": "stream",
          "name": "stderr",
          "text": [
            "Epoch 4: 13973it [00:29, 472.11it/s, train_loss=1.38]\n"
          ]
        },
        {
          "output_type": "stream",
          "name": "stdout",
          "text": [
            "\n",
            "Losses: train - 1.256, test - 1.253\n",
            "Accuracy test - 0.552\n"
          ]
        },
        {
          "output_type": "stream",
          "name": "stderr",
          "text": [
            "Epoch 5: 13973it [00:29, 477.43it/s, train_loss=1.33]\n"
          ]
        },
        {
          "output_type": "stream",
          "name": "stdout",
          "text": [
            "\n",
            "Losses: train - 1.125, test - 0.838\n",
            "Accuracy test - 0.668\n"
          ]
        },
        {
          "output_type": "stream",
          "name": "stderr",
          "text": [
            "Epoch 6: 13973it [00:29, 474.61it/s, train_loss=1.24]\n"
          ]
        },
        {
          "output_type": "stream",
          "name": "stdout",
          "text": [
            "\n",
            "Losses: train - 0.804, test - 0.813\n",
            "Accuracy test - 0.679\n"
          ]
        },
        {
          "output_type": "stream",
          "name": "stderr",
          "text": [
            "Epoch 7: 13973it [00:29, 475.46it/s, train_loss=1.18]\n"
          ]
        },
        {
          "output_type": "stream",
          "name": "stdout",
          "text": [
            "\n",
            "Losses: train - 0.800, test - 0.816\n",
            "Accuracy test - 0.680\n"
          ]
        },
        {
          "output_type": "stream",
          "name": "stderr",
          "text": [
            "Epoch 8: 13973it [00:29, 476.75it/s, train_loss=1.13]\n"
          ]
        },
        {
          "output_type": "stream",
          "name": "stdout",
          "text": [
            "\n",
            "Losses: train - 0.797, test - 0.857\n",
            "Accuracy test - 0.675\n"
          ]
        },
        {
          "output_type": "stream",
          "name": "stderr",
          "text": [
            "Epoch 9: 13973it [00:29, 479.07it/s, train_loss=1.09]\n"
          ]
        },
        {
          "output_type": "stream",
          "name": "stdout",
          "text": [
            "\n",
            "Losses: train - 0.790, test - 0.805\n",
            "Accuracy test - 0.681\n"
          ]
        },
        {
          "output_type": "stream",
          "name": "stderr",
          "text": [
            "Epoch 10: 13973it [00:29, 476.65it/s, train_loss=1.01]\n"
          ]
        },
        {
          "output_type": "stream",
          "name": "stdout",
          "text": [
            "\n",
            "Losses: train - 0.789, test - 0.821\n",
            "Accuracy test - 0.679\n"
          ]
        },
        {
          "output_type": "display_data",
          "data": {
            "image/png": "[encoded data removed]",
            "text/plain": [
              "<Figure size 432x288 with 1 Axes>"
            ]
          },
          "metadata": {
            "needs_background": "light"
          }
        },
        {
          "output_type": "display_data",
          "data": {
            "image/png": "[encoded data removed]",
            "text/plain": [
              "<Figure size 432x288 with 1 Axes>"
            ]
          },
          "metadata": {
            "needs_background": "light"
          }
        }
      ]
    },
    {
      "cell_type": "markdown",
      "source": [
        "##5 эксперимент"
      ],
      "metadata": {
        "id": "4Wz3rCGSDskU"
      }
    },
    {
      "cell_type": "markdown",
      "source": [
        "возьмем 2 слоя и побольше кернелы"
      ],
      "metadata": {
        "id": "HWM7claxDwNL"
      }
    },
    {
      "cell_type": "code",
      "source": [
        "out = experiments(news, word2id, weights, device, batch_size=256, lr=0.005, epochs=10, num_convs=2, \n",
        "            filter_sizes=[3,4], num_filters=[150, 100], hidden_dim=150, num_lstm_layers=1, \n",
        "            dropout_after_lstm_rate=0.1, dropout_before_conv_rate=0.1)"
      ],
      "metadata": {
        "colab": {
          "base_uri": "https://localhost:8080/",
          "height": 1000
        },
        "id": "ObKTznhJD2YE",
        "outputId": "f634b533-1a76-4dc4-8fef-96ebee6489b6"
      },
      "execution_count": 78,
      "outputs": [
        {
          "output_type": "stream",
          "name": "stderr",
          "text": [
            "Epoch 1: 13973it [00:25, 558.17it/s, train_loss=1.49]\n"
          ]
        },
        {
          "output_type": "stream",
          "name": "stdout",
          "text": [
            "\n",
            "Losses: train - 1.490, test - 1.423\n",
            "Accuracy test - 0.383\n"
          ]
        },
        {
          "output_type": "stream",
          "name": "stderr",
          "text": [
            "Epoch 2: 13973it [00:25, 554.79it/s, train_loss=1.46]\n"
          ]
        },
        {
          "output_type": "stream",
          "name": "stdout",
          "text": [
            "\n",
            "Losses: train - 1.429, test - 1.424\n",
            "Accuracy test - 0.407\n"
          ]
        },
        {
          "output_type": "stream",
          "name": "stderr",
          "text": [
            "Epoch 3: 13973it [00:25, 538.11it/s, train_loss=1.43]\n"
          ]
        },
        {
          "output_type": "stream",
          "name": "stdout",
          "text": [
            "\n",
            "Losses: train - 1.363, test - 1.303\n",
            "Accuracy test - 0.548\n"
          ]
        },
        {
          "output_type": "stream",
          "name": "stderr",
          "text": [
            "Epoch 4: 13973it [00:25, 546.40it/s, train_loss=1.39]\n"
          ]
        },
        {
          "output_type": "stream",
          "name": "stdout",
          "text": [
            "\n",
            "Losses: train - 1.292, test - 1.368\n",
            "Accuracy test - 0.448\n"
          ]
        },
        {
          "output_type": "stream",
          "name": "stderr",
          "text": [
            "Epoch 5: 13973it [00:24, 560.30it/s, train_loss=1.31]\n"
          ]
        },
        {
          "output_type": "stream",
          "name": "stdout",
          "text": [
            "\n",
            "Losses: train - 0.994, test - 0.828\n",
            "Accuracy test - 0.679\n"
          ]
        },
        {
          "output_type": "stream",
          "name": "stderr",
          "text": [
            "Epoch 6: 13973it [00:25, 544.78it/s, train_loss=1.23]\n"
          ]
        },
        {
          "output_type": "stream",
          "name": "stdout",
          "text": [
            "\n",
            "Losses: train - 0.810, test - 0.819\n",
            "Accuracy test - 0.679\n"
          ]
        },
        {
          "output_type": "stream",
          "name": "stderr",
          "text": [
            "Epoch 7: 13973it [00:25, 554.70it/s, train_loss=1.17]\n"
          ]
        },
        {
          "output_type": "stream",
          "name": "stdout",
          "text": [
            "\n",
            "Losses: train - 0.797, test - 0.807\n",
            "Accuracy test - 0.680\n"
          ]
        },
        {
          "output_type": "stream",
          "name": "stderr",
          "text": [
            "Epoch 8: 13973it [00:25, 557.34it/s, train_loss=1.12]\n"
          ]
        },
        {
          "output_type": "stream",
          "name": "stdout",
          "text": [
            "\n",
            "Losses: train - 0.793, test - 0.855\n",
            "Accuracy test - 0.675\n"
          ]
        },
        {
          "output_type": "stream",
          "name": "stderr",
          "text": [
            "Epoch 9: 13973it [00:25, 554.81it/s, train_loss=1.09]\n"
          ]
        },
        {
          "output_type": "stream",
          "name": "stdout",
          "text": [
            "\n",
            "Losses: train - 0.832, test - 0.816\n",
            "Accuracy test - 0.679\n"
          ]
        },
        {
          "output_type": "stream",
          "name": "stderr",
          "text": [
            "Epoch 10: 13973it [00:25, 554.97it/s, train_loss=1.02]\n"
          ]
        },
        {
          "output_type": "stream",
          "name": "stdout",
          "text": [
            "\n",
            "Losses: train - 0.794, test - 0.810\n",
            "Accuracy test - 0.679\n"
          ]
        },
        {
          "output_type": "display_data",
          "data": {
            "image/png": "[encoded data removed]",
            "text/plain": [
              "<Figure size 432x288 with 1 Axes>"
            ]
          },
          "metadata": {
            "needs_background": "light"
          }
        },
        {
          "output_type": "stream",
          "name": "stderr",
          "text": [
            "\rEpoch 8: 7168it [05:20, 22.36it/s, train_loss=1.52] \n"
          ]
        },
        {
          "output_type": "display_data",
          "data": {
            "image/png": "[encoded data removed]",
            "text/plain": [
              "<Figure size 432x288 with 1 Axes>"
            ]
          },
          "metadata": {
            "needs_background": "light"
          }
        }
      ]
    },
    {
      "cell_type": "markdown",
      "source": [
        "##6 эксперимент"
      ],
      "metadata": {
        "id": "f7fiEWmyVuM2"
      }
    },
    {
      "cell_type": "markdown",
      "source": [
        "теперь попробуем с 3 сверточными слоями. "
      ],
      "metadata": {
        "id": "o_nTWJGTWKKO"
      }
    },
    {
      "cell_type": "code",
      "source": [
        "for instance in list(tqdm._instances): \n",
        "    tqdm._decr_instances(instance)"
      ],
      "metadata": {
        "id": "VLmor9K6MdSR"
      },
      "execution_count": 68,
      "outputs": []
    },
    {
      "cell_type": "code",
      "source": [
        "out = experiments(news, word2id, weights, device, batch_size=256, lr=0.005, epochs=10, num_convs=3, \n",
        "            filter_sizes=[2,3,4], num_filters=[250, 150, 100], hidden_dim=150, num_lstm_layers=1, \n",
        "            dropout_after_lstm_rate=0.1, dropout_before_conv_rate=0.1)"
      ],
      "metadata": {
        "colab": {
          "base_uri": "https://localhost:8080/",
          "height": 1000
        },
        "id": "kYLWHFGYV03e",
        "outputId": "518ce624-e249-4012-e8a1-1f7c4e4f6e01"
      },
      "execution_count": 63,
      "outputs": [
        {
          "output_type": "stream",
          "name": "stderr",
          "text": [
            "Epoch 1: 13973it [00:38, 360.52it/s, train_loss=1.4]\n"
          ]
        },
        {
          "output_type": "stream",
          "name": "stdout",
          "text": [
            "\n",
            "Losses: train - 1.399, test - 1.241\n",
            "Accuracy test - 0.554\n"
          ]
        },
        {
          "output_type": "stream",
          "name": "stderr",
          "text": [
            "Epoch 2: 13973it [00:36, 380.31it/s, train_loss=1.2]\n"
          ]
        },
        {
          "output_type": "stream",
          "name": "stdout",
          "text": [
            "\n",
            "Losses: train - 0.998, test - 0.813\n",
            "Accuracy test - 0.679\n"
          ]
        },
        {
          "output_type": "stream",
          "name": "stderr",
          "text": [
            "Epoch 3: 13973it [00:36, 378.80it/s, train_loss=1.06]\n"
          ]
        },
        {
          "output_type": "stream",
          "name": "stdout",
          "text": [
            "\n",
            "Losses: train - 0.794, test - 0.802\n",
            "Accuracy test - 0.680\n"
          ]
        },
        {
          "output_type": "stream",
          "name": "stderr",
          "text": [
            "Epoch 4: 13973it [00:36, 381.15it/s, train_loss=0.998]\n"
          ]
        },
        {
          "output_type": "stream",
          "name": "stdout",
          "text": [
            "\n",
            "Losses: train - 0.801, test - 0.800\n",
            "Accuracy test - 0.681\n"
          ]
        },
        {
          "output_type": "stream",
          "name": "stderr",
          "text": [
            "Epoch 5: 13973it [00:36, 378.69it/s, train_loss=0.955]\n"
          ]
        },
        {
          "output_type": "stream",
          "name": "stdout",
          "text": [
            "\n",
            "Losses: train - 0.783, test - 0.796\n",
            "Accuracy test - 0.681\n"
          ]
        },
        {
          "output_type": "stream",
          "name": "stderr",
          "text": [
            "Epoch 6: 13973it [00:36, 381.08it/s, train_loss=0.926]\n"
          ]
        },
        {
          "output_type": "stream",
          "name": "stdout",
          "text": [
            "\n",
            "Losses: train - 0.784, test - 0.807\n",
            "Accuracy test - 0.682\n"
          ]
        },
        {
          "output_type": "stream",
          "name": "stderr",
          "text": [
            "Epoch 7: 13973it [00:36, 381.30it/s, train_loss=0.906]\n"
          ]
        },
        {
          "output_type": "stream",
          "name": "stdout",
          "text": [
            "\n",
            "Losses: train - 0.783, test - 0.788\n",
            "Accuracy test - 0.680\n"
          ]
        },
        {
          "output_type": "stream",
          "name": "stderr",
          "text": [
            "Epoch 8: 13973it [00:36, 382.53it/s, train_loss=0.889]\n"
          ]
        },
        {
          "output_type": "stream",
          "name": "stdout",
          "text": [
            "\n",
            "Losses: train - 0.767, test - 1.131\n",
            "Accuracy test - 0.463\n"
          ]
        },
        {
          "output_type": "stream",
          "name": "stderr",
          "text": [
            "Epoch 9: 13973it [00:36, 383.45it/s, train_loss=0.871]\n"
          ]
        },
        {
          "output_type": "stream",
          "name": "stdout",
          "text": [
            "\n",
            "Losses: train - 0.729, test - 0.695\n",
            "Accuracy test - 0.697\n"
          ]
        },
        {
          "output_type": "stream",
          "name": "stderr",
          "text": [
            "Epoch 10: 13973it [00:36, 380.57it/s, train_loss=0.799]\n"
          ]
        },
        {
          "output_type": "stream",
          "name": "stdout",
          "text": [
            "\n",
            "Losses: train - 0.708, test - 0.660\n",
            "Accuracy test - 0.701\n"
          ]
        },
        {
          "output_type": "display_data",
          "data": {
            "image/png": "[encoded data removed]",
            "text/plain": [
              "<Figure size 432x288 with 1 Axes>"
            ]
          },
          "metadata": {
            "needs_background": "light"
          }
        },
        {
          "output_type": "display_data",
          "data": {
            "image/png": "[encoded data removed]",
            "text/plain": [
              "<Figure size 432x288 with 1 Axes>"
            ]
          },
          "metadata": {
            "needs_background": "light"
          }
        }
      ]
    },
    {
      "cell_type": "markdown",
      "source": [
        "\n"
      ],
      "metadata": {
        "id": "9eN1mW_XmbRT"
      }
    },
    {
      "cell_type": "markdown",
      "source": [
        "##7 эксперимент"
      ],
      "metadata": {
        "id": "J5MHH_K3mpVi"
      }
    },
    {
      "cell_type": "markdown",
      "source": [
        "попробуем добавить слоев в лстм"
      ],
      "metadata": {
        "id": "CbJWZytYmsbN"
      }
    },
    {
      "cell_type": "code",
      "source": [
        "out = experiments(news, word2id, weights, device, batch_size=128, lr=0.001, epochs=10, num_convs=1, \n",
        "            filter_sizes=[3], num_filters=[200], hidden_dim=150, num_lstm_layers=2, \n",
        "            dropout_after_lstm_rate=0.1, dropout_before_conv_rate=0.1)"
      ],
      "metadata": {
        "colab": {
          "base_uri": "https://localhost:8080/",
          "height": 1000
        },
        "id": "ZO8XR0SYWjbi",
        "outputId": "cd50cd21-2e31-4628-8111-4fb9de60d62c"
      },
      "execution_count": 85,
      "outputs": [
        {
          "output_type": "stream",
          "name": "stderr",
          "text": [
            "Epoch 1: 13973it [00:32, 432.63it/s, train_loss=1.44]\n"
          ]
        },
        {
          "output_type": "stream",
          "name": "stdout",
          "text": [
            "\n",
            "Losses: train - 1.436, test - 1.455\n",
            "Accuracy test - 0.305\n"
          ]
        },
        {
          "output_type": "stream",
          "name": "stderr",
          "text": [
            "Epoch 2: 13973it [00:32, 426.87it/s, train_loss=1.43]\n"
          ]
        },
        {
          "output_type": "stream",
          "name": "stdout",
          "text": [
            "\n",
            "Losses: train - 1.420, test - 1.406\n",
            "Accuracy test - 0.446\n"
          ]
        },
        {
          "output_type": "stream",
          "name": "stderr",
          "text": [
            "Epoch 3: 13973it [00:32, 433.10it/s, train_loss=1.37]\n"
          ]
        },
        {
          "output_type": "stream",
          "name": "stdout",
          "text": [
            "\n",
            "Losses: train - 1.256, test - 1.233\n",
            "Accuracy test - 0.550\n"
          ]
        },
        {
          "output_type": "stream",
          "name": "stderr",
          "text": [
            "Epoch 4: 13973it [00:32, 433.97it/s, train_loss=1.28]\n"
          ]
        },
        {
          "output_type": "stream",
          "name": "stdout",
          "text": [
            "\n",
            "Losses: train - 1.023, test - 0.865\n",
            "Accuracy test - 0.563\n"
          ]
        },
        {
          "output_type": "stream",
          "name": "stderr",
          "text": [
            "Epoch 5: 13973it [00:32, 435.83it/s, train_loss=1.17]\n"
          ]
        },
        {
          "output_type": "stream",
          "name": "stdout",
          "text": [
            "\n",
            "Losses: train - 0.822, test - 0.820\n",
            "Accuracy test - 0.678\n"
          ]
        },
        {
          "output_type": "stream",
          "name": "stderr",
          "text": [
            "Epoch 6: 13973it [00:32, 435.35it/s, train_loss=1.03]\n"
          ]
        },
        {
          "output_type": "stream",
          "name": "stdout",
          "text": [
            "\n",
            "Losses: train - 0.794, test - 0.800\n",
            "Accuracy test - 0.679\n"
          ]
        },
        {
          "output_type": "stream",
          "name": "stderr",
          "text": [
            "Epoch 7: 13973it [00:32, 432.08it/s, train_loss=0.899]\n"
          ]
        },
        {
          "output_type": "stream",
          "name": "stdout",
          "text": [
            "\n",
            "Losses: train - 0.787, test - 0.806\n",
            "Accuracy test - 0.647\n"
          ]
        },
        {
          "output_type": "stream",
          "name": "stderr",
          "text": [
            "Epoch 8: 13973it [00:32, 432.89it/s, train_loss=0.812]\n"
          ]
        },
        {
          "output_type": "stream",
          "name": "stdout",
          "text": [
            "\n",
            "Losses: train - 0.792, test - 0.794\n",
            "Accuracy test - 0.679\n"
          ]
        },
        {
          "output_type": "stream",
          "name": "stderr",
          "text": [
            "Epoch 9: 13973it [00:31, 436.98it/s, train_loss=0.795]\n"
          ]
        },
        {
          "output_type": "stream",
          "name": "stdout",
          "text": [
            "\n",
            "Losses: train - 0.799, test - 0.797\n",
            "Accuracy test - 0.680\n"
          ]
        },
        {
          "output_type": "stream",
          "name": "stderr",
          "text": [
            "Epoch 10: 13973it [00:31, 443.97it/s, train_loss=0.788]\n"
          ]
        },
        {
          "output_type": "stream",
          "name": "stdout",
          "text": [
            "\n",
            "Losses: train - 0.772, test - 0.788\n",
            "Accuracy test - 0.680\n"
          ]
        },
        {
          "output_type": "display_data",
          "data": {
            "image/png": "[encoded data removed]",
            "text/plain": [
              "<Figure size 432x288 with 1 Axes>"
            ]
          },
          "metadata": {
            "needs_background": "light"
          }
        },
        {
          "output_type": "display_data",
          "data": {
            "image/png": "[encoded data removed]",
            "text/plain": [
              "<Figure size 432x288 with 1 Axes>"
            ]
          },
          "metadata": {
            "needs_background": "light"
          }
        }
      ]
    },
    {
      "cell_type": "markdown",
      "source": [
        "##8 эксперимент"
      ],
      "metadata": {
        "id": "uDAB0FtF51eM"
      }
    },
    {
      "cell_type": "markdown",
      "source": [
        "попробуем изменить размер выходного слоя лстм"
      ],
      "metadata": {
        "id": "aYTeaT0_I8l6"
      }
    },
    {
      "cell_type": "code",
      "source": [
        "out = experiments(news, word2id, weights, device, batch_size=128, lr=0.001, epochs=10, num_convs=1, \n",
        "            filter_sizes=[3], num_filters=[300], hidden_dim=300, num_lstm_layers=2, \n",
        "            dropout_after_lstm_rate=0.1, dropout_before_conv_rate=0.1)"
      ],
      "metadata": {
        "colab": {
          "base_uri": "https://localhost:8080/",
          "height": 1000
        },
        "id": "gjJq8zzsI5PP",
        "outputId": "4c2f1969-e25e-4ea2-d209-f7ad6bab7842"
      },
      "execution_count": 86,
      "outputs": [
        {
          "output_type": "stream",
          "name": "stderr",
          "text": [
            "Epoch 1: 13973it [00:59, 233.69it/s, train_loss=1.43]\n"
          ]
        },
        {
          "output_type": "stream",
          "name": "stdout",
          "text": [
            "\n",
            "Losses: train - 1.427, test - 1.251\n",
            "Accuracy test - 0.557\n"
          ]
        },
        {
          "output_type": "stream",
          "name": "stderr",
          "text": [
            "Epoch 2: 13973it [00:58, 238.29it/s, train_loss=1.33]\n"
          ]
        },
        {
          "output_type": "stream",
          "name": "stdout",
          "text": [
            "\n",
            "Losses: train - 1.230, test - 1.125\n",
            "Accuracy test - 0.635\n"
          ]
        },
        {
          "output_type": "stream",
          "name": "stderr",
          "text": [
            "Epoch 3: 13973it [00:59, 235.41it/s, train_loss=1.19]\n"
          ]
        },
        {
          "output_type": "stream",
          "name": "stdout",
          "text": [
            "\n",
            "Losses: train - 0.928, test - 0.809\n",
            "Accuracy test - 0.679\n"
          ]
        },
        {
          "output_type": "stream",
          "name": "stderr",
          "text": [
            "Epoch 4: 13973it [00:59, 234.27it/s, train_loss=1.1]\n"
          ]
        },
        {
          "output_type": "stream",
          "name": "stdout",
          "text": [
            "\n",
            "Losses: train - 0.818, test - 1.046\n",
            "Accuracy test - 0.573\n"
          ]
        },
        {
          "output_type": "stream",
          "name": "stderr",
          "text": [
            "Epoch 5: 13973it [01:00, 231.25it/s, train_loss=0.995]\n"
          ]
        },
        {
          "output_type": "stream",
          "name": "stdout",
          "text": [
            "\n",
            "Losses: train - 0.800, test - 0.811\n",
            "Accuracy test - 0.681\n"
          ]
        },
        {
          "output_type": "stream",
          "name": "stderr",
          "text": [
            "Epoch 6: 13973it [00:59, 233.93it/s, train_loss=0.879]\n"
          ]
        },
        {
          "output_type": "stream",
          "name": "stdout",
          "text": [
            "\n",
            "Losses: train - 0.789, test - 0.812\n",
            "Accuracy test - 0.679\n"
          ]
        },
        {
          "output_type": "stream",
          "name": "stderr",
          "text": [
            "Epoch 7: 13973it [00:58, 240.21it/s, train_loss=0.812]\n"
          ]
        },
        {
          "output_type": "stream",
          "name": "stdout",
          "text": [
            "\n",
            "Losses: train - 0.828, test - 0.807\n",
            "Accuracy test - 0.679\n"
          ]
        },
        {
          "output_type": "stream",
          "name": "stderr",
          "text": [
            "Epoch 8: 13973it [00:58, 239.80it/s, train_loss=0.808]\n"
          ]
        },
        {
          "output_type": "stream",
          "name": "stdout",
          "text": [
            "\n",
            "Losses: train - 0.802, test - 0.821\n",
            "Accuracy test - 0.609\n"
          ]
        },
        {
          "output_type": "stream",
          "name": "stderr",
          "text": [
            "Epoch 9: 13973it [00:58, 239.75it/s, train_loss=0.803]\n"
          ]
        },
        {
          "output_type": "stream",
          "name": "stdout",
          "text": [
            "\n",
            "Losses: train - 0.799, test - 0.800\n",
            "Accuracy test - 0.679\n"
          ]
        },
        {
          "output_type": "stream",
          "name": "stderr",
          "text": [
            "Epoch 10: 13973it [00:58, 240.14it/s, train_loss=0.797]\n"
          ]
        },
        {
          "output_type": "stream",
          "name": "stdout",
          "text": [
            "\n",
            "Losses: train - 0.765, test - 0.734\n",
            "Accuracy test - 0.680\n"
          ]
        },
        {
          "output_type": "display_data",
          "data": {
            "image/png": "[encoded data removed]",
            "text/plain": [
              "<Figure size 432x288 with 1 Axes>"
            ]
          },
          "metadata": {
            "needs_background": "light"
          }
        },
        {
          "output_type": "display_data",
          "data": {
            "image/png": "[encoded data removed]",
            "text/plain": [
              "<Figure size 432x288 with 1 Axes>"
            ]
          },
          "metadata": {
            "needs_background": "light"
          }
        }
      ]
    },
    {
      "cell_type": "markdown",
      "source": [
        "##9 эксперимент"
      ],
      "metadata": {
        "id": "W6inzo-QI5f7"
      }
    },
    {
      "cell_type": "markdown",
      "source": [
        "3 свертки с разными окнами и 2 слоя лстм"
      ],
      "metadata": {
        "id": "vQpk8Tio6R2b"
      }
    },
    {
      "cell_type": "code",
      "source": [
        "out = experiments(news, word2id, weights, device, batch_size=256, lr=0.005, epochs=10, num_convs=3, \n",
        "            filter_sizes=[2,3,4], num_filters=[250, 150, 100], hidden_dim=150, num_lstm_layers=2, \n",
        "            dropout_after_lstm_rate=0.1, dropout_before_conv_rate=0.1)"
      ],
      "metadata": {
        "id": "d5BbbW_7cGyB",
        "colab": {
          "base_uri": "https://localhost:8080/",
          "height": 1000
        },
        "outputId": "8abe25e9-d1dd-41fd-cdab-964c66c33797"
      },
      "execution_count": 82,
      "outputs": [
        {
          "output_type": "stream",
          "name": "stderr",
          "text": [
            "Epoch 1: 13973it [00:43, 319.05it/s, train_loss=1.5]\n"
          ]
        },
        {
          "output_type": "stream",
          "name": "stdout",
          "text": [
            "\n",
            "Losses: train - 1.503, test - 1.345\n",
            "Accuracy test - 0.559\n"
          ]
        },
        {
          "output_type": "stream",
          "name": "stderr",
          "text": [
            "Epoch 2: 13973it [00:42, 328.37it/s, train_loss=1.43]\n"
          ]
        },
        {
          "output_type": "stream",
          "name": "stdout",
          "text": [
            "\n",
            "Losses: train - 1.357, test - 1.537\n",
            "Accuracy test - 0.383\n"
          ]
        },
        {
          "output_type": "stream",
          "name": "stderr",
          "text": [
            "Epoch 3: 13973it [00:42, 326.08it/s, train_loss=1.38]\n"
          ]
        },
        {
          "output_type": "stream",
          "name": "stdout",
          "text": [
            "\n",
            "Losses: train - 1.273, test - 1.251\n",
            "Accuracy test - 0.554\n"
          ]
        },
        {
          "output_type": "stream",
          "name": "stderr",
          "text": [
            "Epoch 4: 13973it [00:42, 325.40it/s, train_loss=1.34]\n"
          ]
        },
        {
          "output_type": "stream",
          "name": "stdout",
          "text": [
            "\n",
            "Losses: train - 1.232, test - 0.988\n",
            "Accuracy test - 0.631\n"
          ]
        },
        {
          "output_type": "stream",
          "name": "stderr",
          "text": [
            "Epoch 5: 13973it [00:42, 327.38it/s, train_loss=1.26]\n"
          ]
        },
        {
          "output_type": "stream",
          "name": "stdout",
          "text": [
            "\n",
            "Losses: train - 0.914, test - 0.833\n",
            "Accuracy test - 0.678\n"
          ]
        },
        {
          "output_type": "stream",
          "name": "stderr",
          "text": [
            "Epoch 6: 13973it [00:42, 327.34it/s, train_loss=1.18]\n"
          ]
        },
        {
          "output_type": "stream",
          "name": "stdout",
          "text": [
            "\n",
            "Losses: train - 0.800, test - 0.812\n",
            "Accuracy test - 0.680\n"
          ]
        },
        {
          "output_type": "stream",
          "name": "stderr",
          "text": [
            "Epoch 7: 13973it [00:42, 326.65it/s, train_loss=1.12]\n"
          ]
        },
        {
          "output_type": "stream",
          "name": "stdout",
          "text": [
            "\n",
            "Losses: train - 0.792, test - 0.833\n",
            "Accuracy test - 0.611\n"
          ]
        },
        {
          "output_type": "stream",
          "name": "stderr",
          "text": [
            "Epoch 8: 13973it [00:42, 327.64it/s, train_loss=1.09]\n"
          ]
        },
        {
          "output_type": "stream",
          "name": "stdout",
          "text": [
            "\n",
            "Losses: train - 0.881, test - 0.806\n",
            "Accuracy test - 0.679\n"
          ]
        },
        {
          "output_type": "stream",
          "name": "stderr",
          "text": [
            "Epoch 9: 13973it [00:42, 327.61it/s, train_loss=1.06]\n"
          ]
        },
        {
          "output_type": "stream",
          "name": "stdout",
          "text": [
            "\n",
            "Losses: train - 0.787, test - 0.807\n",
            "Accuracy test - 0.680\n"
          ]
        },
        {
          "output_type": "stream",
          "name": "stderr",
          "text": [
            "Epoch 10: 13973it [00:42, 326.93it/s, train_loss=0.986]\n"
          ]
        },
        {
          "output_type": "stream",
          "name": "stdout",
          "text": [
            "\n",
            "Losses: train - 0.790, test - 0.808\n",
            "Accuracy test - 0.679\n"
          ]
        },
        {
          "output_type": "display_data",
          "data": {
            "image/png": "[encoded data removed]",
            "text/plain": [
              "<Figure size 432x288 with 1 Axes>"
            ]
          },
          "metadata": {
            "needs_background": "light"
          }
        },
        {
          "output_type": "display_data",
          "data": {
            "image/png": "[encoded data removed]",
            "text/plain": [
              "<Figure size 432x288 with 1 Axes>"
            ]
          },
          "metadata": {
            "needs_background": "light"
          }
        }
      ]
    },
    {
      "cell_type": "markdown",
      "source": [
        "##Анализ"
      ],
      "metadata": {
        "id": "rDiwpz5n-RHm"
      }
    },
    {
      "cell_type": "markdown",
      "source": [
        "Во-первых, заметно, что чрезмерная регуляризация, как в 1 эксперименте, сильно портит модель. Из-за слишком большого дропаута она обучилась хуже всего. Однако при полном отсутствии регуляризации результаты выходили хуже. Оптимальным мне показалось значение до 0.1, потому что при большем модель могла либо вообще перестать обучаться на определенном этапе (причем лосс в районе 1.4), либо обучиться, но с меньшим качеством. \n",
        "\n"
      ],
      "metadata": {
        "id": "rlxA3Ucq-kn6"
      }
    },
    {
      "cell_type": "markdown",
      "source": [
        "Во-вторых, добавление сверточных слоев улучшило качество, что не совпадает с результатами авторов статьи (хотя совпадает с их ожиданиями). "
      ],
      "metadata": {
        "id": "fNUxDQCu_UYE"
      }
    },
    {
      "cell_type": "markdown",
      "source": [
        "В-третьих, увеличение количества лстм слоев, наоборот, не помогает, никак не помогло так же изменение выходного слоя лстм или размера фильтра.\n",
        "\n"
      ],
      "metadata": {
        "id": "eQhPJEz1ALH9"
      }
    },
    {
      "cell_type": "markdown",
      "source": [
        "Для моделей я меняла lr от 0.005 до 0.001, но это тоже не сильно влияло. Почти у всех моделей лучшее качество варьируется от 0.65 до 0.68 (и тут будто граница на 0.68). Лучше всего сработала модель с 3 свертками размеров 2,3,4 и 1 лстм слоем, с дропаут вероятностью 0.1 - аккьюраси около 0.7"
      ],
      "metadata": {
        "id": "xlHtVnT0-Wuv"
      }
    },
    {
      "cell_type": "code",
      "source": [
        ""
      ],
      "metadata": {
        "id": "L33ULlEQGvaA"
      },
      "execution_count": null,
      "outputs": []
    }
  ]
}
